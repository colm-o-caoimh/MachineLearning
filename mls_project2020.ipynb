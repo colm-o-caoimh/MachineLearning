{
 "cells": [
  {
   "cell_type": "markdown",
   "metadata": {},
   "source": [
    "## Machine Learning and Statistics Project 2020\n",
    "***\n"
   ]
  },
  {
   "cell_type": "markdown",
   "metadata": {},
   "source": [
    "The aim of this project is to create a web service that uses machine learning to make predictions based on the data set 'powerproduction'. The goal is to produce a model that accurately predicts wind turbine power output from wind speed values, as in the data set. Then, to develop a web service that will respond with predicted power values based on speed values sent as HTTP requests."
   ]
  },
  {
   "cell_type": "markdown",
   "metadata": {},
   "source": [
    "<br>\n",
    "\n"
   ]
  },
  {
   "cell_type": "markdown",
   "metadata": {},
   "source": [
    "<br>\n",
    "\n",
    "## Introduction\n",
    "\n",
    "***"
   ]
  },
  {
   "cell_type": "markdown",
   "metadata": {},
   "source": [
    "There are a number of steps involved in creating an accurate predictive model as described in the project brief. This project follows these steps, providing explanations for the choice of model used through analysis of the *powerproduction* data set. With this in mind, it is divided into the following sections:\n",
    "\n",
    "* Preliminary Analysis\n",
    "* Function Approximation (Regression vs Classification)\n",
    "* Regression with `scikit-learn`\n",
    "* Regression with `keras`\n",
    "* Model evaluation"
   ]
  },
  {
   "cell_type": "markdown",
   "metadata": {},
   "source": [
    "<br>\n",
    "\n"
   ]
  },
  {
   "cell_type": "markdown",
   "metadata": {},
   "source": [
    "## 1. Preliminary Analysis\n",
    "\n",
    "***"
   ]
  },
  {
   "cell_type": "markdown",
   "metadata": {},
   "source": [
    "First, I import the modules needed and choose a style for visualisation throughout the project:\n",
    "\n",
    "* `numpy` is a python library which allows us to work with arrays, more suited to data analysis than traditional python `lists` [1] \n",
    "* `pandas` is suited to working with data sets and provides the DataFrame structure to make this more effective and efficient [2]. \n",
    "* `matplotlib.pyplot` is used for visualisation. It is a graph plotting library on which many visualisation packages are built in python. The `pyplot` submodule contains most of matplotlib's utilities [3]\n",
    "* With the `scikit-learn` library, we have access to numerous machine learning algorithms [4]. In this project it is used to generate predictive models and also to evaluate those models. \n",
    "* `tensorflow` is a machine learning platform with a focus on working with and training neural networks [5]. `keras` is an API built on tensorflow, providing an interface for working with neural networks [6]."
   ]
  },
  {
   "cell_type": "code",
   "execution_count": 1,
   "metadata": {},
   "outputs": [],
   "source": [
    "# Working with arrays\n",
    "import numpy as np\n",
    "\n",
    "# Working with dataframes\n",
    "import pandas as pd\n",
    "\n",
    "# Visualisation\n",
    "import matplotlib.pyplot as plt\n",
    "\n",
    "# Linear regression algorithm\n",
    "from sklearn.linear_model import LinearRegression\n",
    "\n",
    "# Working with more complex variable relationships\n",
    "from sklearn.preprocessing import PolynomialFeatures\n",
    "\n",
    "# Metrics for evaluation\n",
    "from sklearn.metrics import mean_squared_error, r2_score\n",
    "\n",
    "# Splitting data into train and test sets\n",
    "from sklearn.model_selection import train_test_split\n",
    "\n",
    "# Working with neural networks\n",
    "import tensorflow.keras as kr"
   ]
  },
  {
   "cell_type": "code",
   "execution_count": 2,
   "metadata": {},
   "outputs": [],
   "source": [
    "# Plot style\n",
    "plt.style.use('fivethirtyeight')\n",
    "\n",
    "# Plot size\n",
    "plt.rcParams['figure.figsize'] = [11, 6]"
   ]
  },
  {
   "cell_type": "markdown",
   "metadata": {},
   "source": [
    "Next, I read in the dataset using `pandas.read_csv` which stores the data in a pandas dataframe. I assign this to `pp` and output the first 10 rows. With `pandas.describe` we get a statistical summary of the data set:"
   ]
  },
  {
   "cell_type": "code",
   "execution_count": 42,
   "metadata": {},
   "outputs": [
    {
     "data": {
      "text/html": [
       "<div>\n",
       "<style scoped>\n",
       "    .dataframe tbody tr th:only-of-type {\n",
       "        vertical-align: middle;\n",
       "    }\n",
       "\n",
       "    .dataframe tbody tr th {\n",
       "        vertical-align: top;\n",
       "    }\n",
       "\n",
       "    .dataframe thead th {\n",
       "        text-align: right;\n",
       "    }\n",
       "</style>\n",
       "<table border=\"1\" class=\"dataframe\">\n",
       "  <thead>\n",
       "    <tr style=\"text-align: right;\">\n",
       "      <th></th>\n",
       "      <th>speed</th>\n",
       "      <th>power</th>\n",
       "    </tr>\n",
       "  </thead>\n",
       "  <tbody>\n",
       "    <tr>\n",
       "      <th>0</th>\n",
       "      <td>0.000</td>\n",
       "      <td>0.000</td>\n",
       "    </tr>\n",
       "    <tr>\n",
       "      <th>1</th>\n",
       "      <td>0.125</td>\n",
       "      <td>0.000</td>\n",
       "    </tr>\n",
       "    <tr>\n",
       "      <th>2</th>\n",
       "      <td>0.150</td>\n",
       "      <td>0.000</td>\n",
       "    </tr>\n",
       "    <tr>\n",
       "      <th>3</th>\n",
       "      <td>0.225</td>\n",
       "      <td>0.000</td>\n",
       "    </tr>\n",
       "    <tr>\n",
       "      <th>4</th>\n",
       "      <td>0.275</td>\n",
       "      <td>0.000</td>\n",
       "    </tr>\n",
       "    <tr>\n",
       "      <th>5</th>\n",
       "      <td>0.325</td>\n",
       "      <td>4.331</td>\n",
       "    </tr>\n",
       "    <tr>\n",
       "      <th>6</th>\n",
       "      <td>0.400</td>\n",
       "      <td>5.186</td>\n",
       "    </tr>\n",
       "    <tr>\n",
       "      <th>7</th>\n",
       "      <td>0.450</td>\n",
       "      <td>3.826</td>\n",
       "    </tr>\n",
       "    <tr>\n",
       "      <th>8</th>\n",
       "      <td>0.501</td>\n",
       "      <td>1.048</td>\n",
       "    </tr>\n",
       "    <tr>\n",
       "      <th>9</th>\n",
       "      <td>0.526</td>\n",
       "      <td>5.553</td>\n",
       "    </tr>\n",
       "  </tbody>\n",
       "</table>\n",
       "</div>"
      ],
      "text/plain": [
       "   speed  power\n",
       "0  0.000  0.000\n",
       "1  0.125  0.000\n",
       "2  0.150  0.000\n",
       "3  0.225  0.000\n",
       "4  0.275  0.000\n",
       "5  0.325  4.331\n",
       "6  0.400  5.186\n",
       "7  0.450  3.826\n",
       "8  0.501  1.048\n",
       "9  0.526  5.553"
      ]
     },
     "execution_count": 42,
     "metadata": {},
     "output_type": "execute_result"
    }
   ],
   "source": [
    "# Read in data set\n",
    "pp = pd.read_csv('powerproduction.csv')\n",
    "\n",
    "# Output first 10 rows\n",
    "pp.head(10)"
   ]
  },
  {
   "cell_type": "code",
   "execution_count": 43,
   "metadata": {},
   "outputs": [
    {
     "data": {
      "text/html": [
       "<div>\n",
       "<style scoped>\n",
       "    .dataframe tbody tr th:only-of-type {\n",
       "        vertical-align: middle;\n",
       "    }\n",
       "\n",
       "    .dataframe tbody tr th {\n",
       "        vertical-align: top;\n",
       "    }\n",
       "\n",
       "    .dataframe thead th {\n",
       "        text-align: right;\n",
       "    }\n",
       "</style>\n",
       "<table border=\"1\" class=\"dataframe\">\n",
       "  <thead>\n",
       "    <tr style=\"text-align: right;\">\n",
       "      <th></th>\n",
       "      <th>speed</th>\n",
       "      <th>power</th>\n",
       "    </tr>\n",
       "  </thead>\n",
       "  <tbody>\n",
       "    <tr>\n",
       "      <th>count</th>\n",
       "      <td>500.000000</td>\n",
       "      <td>500.000000</td>\n",
       "    </tr>\n",
       "    <tr>\n",
       "      <th>mean</th>\n",
       "      <td>12.590398</td>\n",
       "      <td>48.014584</td>\n",
       "    </tr>\n",
       "    <tr>\n",
       "      <th>std</th>\n",
       "      <td>7.224991</td>\n",
       "      <td>41.614572</td>\n",
       "    </tr>\n",
       "    <tr>\n",
       "      <th>min</th>\n",
       "      <td>0.000000</td>\n",
       "      <td>0.000000</td>\n",
       "    </tr>\n",
       "    <tr>\n",
       "      <th>25%</th>\n",
       "      <td>6.324750</td>\n",
       "      <td>5.288000</td>\n",
       "    </tr>\n",
       "    <tr>\n",
       "      <th>50%</th>\n",
       "      <td>12.550500</td>\n",
       "      <td>41.645500</td>\n",
       "    </tr>\n",
       "    <tr>\n",
       "      <th>75%</th>\n",
       "      <td>18.775250</td>\n",
       "      <td>93.537000</td>\n",
       "    </tr>\n",
       "    <tr>\n",
       "      <th>max</th>\n",
       "      <td>25.000000</td>\n",
       "      <td>113.556000</td>\n",
       "    </tr>\n",
       "  </tbody>\n",
       "</table>\n",
       "</div>"
      ],
      "text/plain": [
       "            speed       power\n",
       "count  500.000000  500.000000\n",
       "mean    12.590398   48.014584\n",
       "std      7.224991   41.614572\n",
       "min      0.000000    0.000000\n",
       "25%      6.324750    5.288000\n",
       "50%     12.550500   41.645500\n",
       "75%     18.775250   93.537000\n",
       "max     25.000000  113.556000"
      ]
     },
     "execution_count": 43,
     "metadata": {},
     "output_type": "execute_result"
    }
   ],
   "source": [
    "# Output summary statistics of data set\n",
    "pp.describe()"
   ]
  },
  {
   "cell_type": "markdown",
   "metadata": {},
   "source": [
    "The data set contains two continuous variables. To get an overview of the relationship between them, we can plot them using a scatterplot. Visualising this relationship is a useful first step in understanding what predictive model might be suitable. It can also offer other insights, such as the presence of outliers: "
   ]
  },
  {
   "cell_type": "code",
   "execution_count": 44,
   "metadata": {},
   "outputs": [
    {
     "data": {
      "text/plain": [
       "<matplotlib.collections.PathCollection at 0x1d5c3ecf3d0>"
      ]
     },
     "execution_count": 44,
     "metadata": {},
     "output_type": "execute_result"
    },
    {
     "data": {
      "image/png": "[encoded data removed]",
      "text/plain": [
       "<Figure size 792x432 with 1 Axes>"
      ]
     },
     "metadata": {},
     "output_type": "display_data"
    }
   ],
   "source": [
    "# Plot data on a scatter plot\n",
    "plt.xlabel('speed (m/s)')\n",
    "plt.ylabel('power (kW)')\n",
    "plt.scatter(pp['speed'], pp['power'], color='brown', marker='o')"
   ]
  },
  {
   "cell_type": "markdown",
   "metadata": {},
   "source": [
    "#### Wind Turbine Power Curve\n",
    "This plot produces a visualisation of the typical wind turbine power curve. The *cut-in* wind speed is at ~7m/s, below which the turbine is producing hardly any power. Between wind speeds of ~7 and ~17m/s the power ramps up to what is known as the *rated power capacity*. From approximate speeds of ~17m/s the power generated remains constant, right up to ~25m/s, or the *cut-out* wind speed. While there is much potential power in the wind speed above the cut-out speed, the cost of making the turbine capable of producing power under these conditions outweights the benefits of more power being generated [7]. <br>\n",
    "\n",
    "#### Outliers\n",
    "What is also notable from the plot is the presence of seeming outliers in the data. There are a number of observations where no power (0kW) is being generated despite sufficiently high wind speeds. This is something which will be examined in greater detail below.\n",
    "\n",
    "#### What Predictive Model?\n",
    "Through visualisation we can get a preliminary indication of what model might best be suited when predicting power output from wind speed. Initial inclinations would suggest that this is a *regression* problem. Given that there are only two variables in the data set, simple linear regression may be an appropriate model although fitting a straight line to the data may not yield the most accurate predictions. It might be more suitable to fit a curve. The variables are clearly *positively* correlated between the *cut-in* speed and the *rated power capacity*. "
   ]
  },
  {
   "cell_type": "markdown",
   "metadata": {},
   "source": [
    "##### end section 1\n",
    "\n",
    "<br>\n",
    "\n"
   ]
  },
  {
   "cell_type": "markdown",
   "metadata": {},
   "source": [
    "## 2. Function Approximation: Classification vs Regression\n",
    "\n",
    "***"
   ]
  },
  {
   "cell_type": "markdown",
   "metadata": {},
   "source": [
    "*Function approximation* is the term used to describe the problem of approximating a mapping function from input variables to output variables. Generally speaking, function approximation problems can be divided into *classification* and *regression* tasks [8]. Deciding between which of these is most appropriate for the current project is the next step.\n",
    "\n",
    "#### Classification vs Regression\n",
    "\"Classification predictive modeling is the task of approximating a mapping function (f) from input variables (X) to discrete output variables (y)\" [9], while the output variables for regression models are continuous numeric variables. The aim of the current project is to predict power output from wind speed. As noted above, this is a continuous numeric variable which tells us that regression is an appropriate model/function for this task.\n",
    "\n",
    "#### Regression\n",
    "Regression is a statistical method which describes the relationship between a dependent variable and one or more independent variables [10]. Additionally, it is associated with fitting a line (or curve) to the data by plotting the line over the data points to get the best fit [11]. Taking a look data as plotted on a scatter plot, it is clear that we could fit a line (or curve) in order to accurately predict the dependent variable.\n",
    "\n"
   ]
  },
  {
   "cell_type": "markdown",
   "metadata": {},
   "source": [
    "##### end section 2\n",
    "\n",
    "<br>\n",
    "\n"
   ]
  },
  {
   "cell_type": "markdown",
   "metadata": {},
   "source": [
    "## 3. Regression with `scikit-learn`\n",
    "\n",
    "***"
   ]
  },
  {
   "cell_type": "markdown",
   "metadata": {},
   "source": [
    "#### scikit-learn\n",
    "\n",
    "`scikit-learn` is a machine learning library for python programming language. It provides a range of machine learning algorithms and is used widely for the purposes of predictive modelling [12]. In the current project, `scikit-learn`'s `LinearRegression` model will be applied to the *powerproduction* data set. Additionally, the package provides a number of tools which will be used to prepare the data and evaluate the models created below."
   ]
  },
  {
   "cell_type": "markdown",
   "metadata": {},
   "source": [
    "#### Outliers\n",
    "\n",
    "Before applying the linear regression model to the data set, it is important to remove any outliers so that the data we train and test the model on most accurately represents the situation at hand. The removal of outliers must be handled sensitively and cautiously so as not to misrepresent the data, and because every data set is different, there is often a lack of clearly defined rules around how to deal with them [13]. As we saw above, visualisation can give us a strong indication that some of the observations may need to be removed. However, statistical methods can also be used to detect extreme or unlikely values in a data set. \n",
    "\n",
    "#### Mahalonibis Distance\n",
    "\n",
    "In researching outlier detection, much of the online resources appeared to deal with *univariate* outliers [14], [15]. Additionally, detection tools available as part of the `scikit-learn` library e.g. `LocalOutlierFactor`, (which uses the nearest neighbours algorithm to detect outliers in a sample) were not suited to the current project. For *multivariate* outliers, a common statistical method of dection is the *Mahalonibis Distance* measure, which is \"... widely used distance metric for the detection of multivariate outliers...\" [16]. Indeed it has been applied to wind turbine curve modeling by a number of studies (e.g. Pei and Li, 2019) [17]. \n",
    "\n",
    "The code below was found on an informative blog post [18] and applies Mahalonibis Distance to the data set to detect outliers. This function returns a list of outliers as detected by the method:"
   ]
  },
  {
   "cell_type": "code",
   "execution_count": 62,
   "metadata": {},
   "outputs": [],
   "source": [
    "#import copy \n",
    "import scipy as sp\n",
    "from scipy.stats import chi2\n",
    "from sklearn.covariance import MinCovDet\n",
    "\n",
    "\n",
    "#Robust Mahalonibis Distance\n",
    "def robust_mahalanobis_method(df):\n",
    "    #Minimum covariance determinant\n",
    "    rng = np.random.RandomState(0)\n",
    "    real_cov = np.cov(df.values.T)\n",
    "    X = rng.multivariate_normal(mean=np.mean(df, axis=0), cov=real_cov, size=506)\n",
    "    cov = MinCovDet(random_state=0).fit(X)\n",
    "    mcd = cov.covariance_ #robust covariance metric\n",
    "    robust_mean = cov.location_  #robust mean\n",
    "    inv_covmat = sp.linalg.inv(mcd) #inverse covariance metric\n",
    "    \n",
    "    #Robust M-Distance\n",
    "    x_minus_mu = df - robust_mean\n",
    "    left_term = np.dot(x_minus_mu, inv_covmat)\n",
    "    mahal = np.dot(left_term, x_minus_mu.T)\n",
    "    md = np.sqrt(mahal.diagonal())\n",
    "    \n",
    "    #Flag as outlier\n",
    "    outlier = []\n",
    "    C = np.sqrt(chi2.ppf((1-0.001), df=df.shape[1]))#degrees of freedom = number of variables\n",
    "    for index, value in enumerate(md):\n",
    "        if value > C:\n",
    "            outlier.append(index)\n",
    "        else:\n",
    "            continue\n",
    "    return outlier, md\n",
    "\n",
    "outliers_mahal_rob, md_rb = robust_mahalanobis_method(df=df)"
   ]
  },
  {
   "cell_type": "code",
   "execution_count": 63,
   "metadata": {},
   "outputs": [
    {
     "data": {
      "text/plain": [
       "[340, 404, 456, 490, 491, 492, 493, 494, 495, 496, 497, 498, 499]"
      ]
     },
     "execution_count": 63,
     "metadata": {},
     "output_type": "execute_result"
    }
   ],
   "source": [
    "# List of index values containing outliers\n",
    "outliers_mahal_rob"
   ]
  },
  {
   "cell_type": "code",
   "execution_count": 65,
   "metadata": {},
   "outputs": [],
   "source": [
    "# Find rows containing outlier indices\n",
    "pp_outliers = pp.loc[ outliers_mahal_rob , : ]"
   ]
  },
  {
   "cell_type": "code",
   "execution_count": 66,
   "metadata": {},
   "outputs": [
    {
     "data": {
      "text/html": [
       "<div>\n",
       "<style scoped>\n",
       "    .dataframe tbody tr th:only-of-type {\n",
       "        vertical-align: middle;\n",
       "    }\n",
       "\n",
       "    .dataframe tbody tr th {\n",
       "        vertical-align: top;\n",
       "    }\n",
       "\n",
       "    .dataframe thead th {\n",
       "        text-align: right;\n",
       "    }\n",
       "</style>\n",
       "<table border=\"1\" class=\"dataframe\">\n",
       "  <thead>\n",
       "    <tr style=\"text-align: right;\">\n",
       "      <th></th>\n",
       "      <th>speed</th>\n",
       "      <th>power</th>\n",
       "    </tr>\n",
       "  </thead>\n",
       "  <tbody>\n",
       "    <tr>\n",
       "      <th>340</th>\n",
       "      <td>17.167</td>\n",
       "      <td>0.0</td>\n",
       "    </tr>\n",
       "    <tr>\n",
       "      <th>404</th>\n",
       "      <td>20.095</td>\n",
       "      <td>0.0</td>\n",
       "    </tr>\n",
       "    <tr>\n",
       "      <th>456</th>\n",
       "      <td>22.998</td>\n",
       "      <td>0.0</td>\n",
       "    </tr>\n",
       "    <tr>\n",
       "      <th>490</th>\n",
       "      <td>24.499</td>\n",
       "      <td>0.0</td>\n",
       "    </tr>\n",
       "    <tr>\n",
       "      <th>491</th>\n",
       "      <td>24.525</td>\n",
       "      <td>0.0</td>\n",
       "    </tr>\n",
       "    <tr>\n",
       "      <th>492</th>\n",
       "      <td>24.575</td>\n",
       "      <td>0.0</td>\n",
       "    </tr>\n",
       "    <tr>\n",
       "      <th>493</th>\n",
       "      <td>24.650</td>\n",
       "      <td>0.0</td>\n",
       "    </tr>\n",
       "    <tr>\n",
       "      <th>494</th>\n",
       "      <td>24.750</td>\n",
       "      <td>0.0</td>\n",
       "    </tr>\n",
       "    <tr>\n",
       "      <th>495</th>\n",
       "      <td>24.775</td>\n",
       "      <td>0.0</td>\n",
       "    </tr>\n",
       "    <tr>\n",
       "      <th>496</th>\n",
       "      <td>24.850</td>\n",
       "      <td>0.0</td>\n",
       "    </tr>\n",
       "    <tr>\n",
       "      <th>497</th>\n",
       "      <td>24.875</td>\n",
       "      <td>0.0</td>\n",
       "    </tr>\n",
       "    <tr>\n",
       "      <th>498</th>\n",
       "      <td>24.950</td>\n",
       "      <td>0.0</td>\n",
       "    </tr>\n",
       "    <tr>\n",
       "      <th>499</th>\n",
       "      <td>25.000</td>\n",
       "      <td>0.0</td>\n",
       "    </tr>\n",
       "  </tbody>\n",
       "</table>\n",
       "</div>"
      ],
      "text/plain": [
       "      speed  power\n",
       "340  17.167    0.0\n",
       "404  20.095    0.0\n",
       "456  22.998    0.0\n",
       "490  24.499    0.0\n",
       "491  24.525    0.0\n",
       "492  24.575    0.0\n",
       "493  24.650    0.0\n",
       "494  24.750    0.0\n",
       "495  24.775    0.0\n",
       "496  24.850    0.0\n",
       "497  24.875    0.0\n",
       "498  24.950    0.0\n",
       "499  25.000    0.0"
      ]
     },
     "execution_count": 66,
     "metadata": {},
     "output_type": "execute_result"
    }
   ],
   "source": [
    "# Output dataframe of outliers\n",
    "pp_outliers"
   ]
  },
  {
   "cell_type": "markdown",
   "metadata": {},
   "source": [
    "Above is the data frame containing the outlier observations. All the outliers detected have a power value of 0kW. This is what was observed in the scatterplot."
   ]
  },
  {
   "cell_type": "code",
   "execution_count": null,
   "metadata": {},
   "outputs": [],
   "source": []
  },
  {
   "cell_type": "code",
   "execution_count": null,
   "metadata": {},
   "outputs": [],
   "source": []
  },
  {
   "cell_type": "code",
   "execution_count": null,
   "metadata": {},
   "outputs": [],
   "source": []
  },
  {
   "cell_type": "code",
   "execution_count": null,
   "metadata": {},
   "outputs": [],
   "source": []
  },
  {
   "cell_type": "markdown",
   "metadata": {},
   "source": [
    "#### Simple linear regression\n",
    "\n",
    "Simple linear regression is \"... the simplest case of linear regression with a single independent variable\" [14]. The *powerproduction* data set contains one independent variable (speed) and one dependent variable (power).  function imported from Python's Scikit-learn library to produce a model. Simple linear regression can be applied when the data set contains only two variables - a dependent and independent variable. This is a condition which is filled by the 'powerproduction' data set."
   ]
  },
  {
   "cell_type": "code",
   "execution_count": 47,
   "metadata": {},
   "outputs": [
    {
     "data": {
      "text/plain": [
       "<matplotlib.collections.PathCollection at 0x1d5c4084730>"
      ]
     },
     "execution_count": 47,
     "metadata": {},
     "output_type": "execute_result"
    },
    {
     "data": {
      "image/png": "[encoded data removed]",
      "text/plain": [
       "<Figure size 792x432 with 1 Axes>"
      ]
     },
     "metadata": {},
     "output_type": "display_data"
    }
   ],
   "source": [
    "plt.scatter(X_train, y_train)"
   ]
  },
  {
   "cell_type": "markdown",
   "metadata": {},
   "source": [
    "<br>\n",
    "\n"
   ]
  },
  {
   "cell_type": "markdown",
   "metadata": {},
   "source": [
    "<br>\n",
    "\n",
    "First, the data set is split into two separate columns in order to train the model."
   ]
  },
  {
   "cell_type": "code",
   "execution_count": 7,
   "metadata": {},
   "outputs": [
    {
     "data": {
      "text/html": [
       "<div>\n",
       "<style scoped>\n",
       "    .dataframe tbody tr th:only-of-type {\n",
       "        vertical-align: middle;\n",
       "    }\n",
       "\n",
       "    .dataframe tbody tr th {\n",
       "        vertical-align: top;\n",
       "    }\n",
       "\n",
       "    .dataframe thead th {\n",
       "        text-align: right;\n",
       "    }\n",
       "</style>\n",
       "<table border=\"1\" class=\"dataframe\">\n",
       "  <thead>\n",
       "    <tr style=\"text-align: right;\">\n",
       "      <th></th>\n",
       "      <th>speed</th>\n",
       "    </tr>\n",
       "  </thead>\n",
       "  <tbody>\n",
       "    <tr>\n",
       "      <th>0</th>\n",
       "      <td>0.000</td>\n",
       "    </tr>\n",
       "    <tr>\n",
       "      <th>1</th>\n",
       "      <td>0.125</td>\n",
       "    </tr>\n",
       "    <tr>\n",
       "      <th>2</th>\n",
       "      <td>0.150</td>\n",
       "    </tr>\n",
       "    <tr>\n",
       "      <th>3</th>\n",
       "      <td>0.225</td>\n",
       "    </tr>\n",
       "    <tr>\n",
       "      <th>4</th>\n",
       "      <td>0.275</td>\n",
       "    </tr>\n",
       "    <tr>\n",
       "      <th>...</th>\n",
       "      <td>...</td>\n",
       "    </tr>\n",
       "    <tr>\n",
       "      <th>495</th>\n",
       "      <td>24.775</td>\n",
       "    </tr>\n",
       "    <tr>\n",
       "      <th>496</th>\n",
       "      <td>24.850</td>\n",
       "    </tr>\n",
       "    <tr>\n",
       "      <th>497</th>\n",
       "      <td>24.875</td>\n",
       "    </tr>\n",
       "    <tr>\n",
       "      <th>498</th>\n",
       "      <td>24.950</td>\n",
       "    </tr>\n",
       "    <tr>\n",
       "      <th>499</th>\n",
       "      <td>25.000</td>\n",
       "    </tr>\n",
       "  </tbody>\n",
       "</table>\n",
       "<p>500 rows × 1 columns</p>\n",
       "</div>"
      ],
      "text/plain": [
       "      speed\n",
       "0     0.000\n",
       "1     0.125\n",
       "2     0.150\n",
       "3     0.225\n",
       "4     0.275\n",
       "..      ...\n",
       "495  24.775\n",
       "496  24.850\n",
       "497  24.875\n",
       "498  24.950\n",
       "499  25.000\n",
       "\n",
       "[500 rows x 1 columns]"
      ]
     },
     "execution_count": 7,
     "metadata": {},
     "output_type": "execute_result"
    }
   ],
   "source": [
    "# Create a new dataset containing only values from the speed column and print output\n",
    "speed_df = pp.drop('power',axis='columns')\n",
    "speed_df"
   ]
  },
  {
   "cell_type": "code",
   "execution_count": 8,
   "metadata": {},
   "outputs": [
    {
     "data": {
      "text/html": [
       "<div>\n",
       "<style scoped>\n",
       "    .dataframe tbody tr th:only-of-type {\n",
       "        vertical-align: middle;\n",
       "    }\n",
       "\n",
       "    .dataframe tbody tr th {\n",
       "        vertical-align: top;\n",
       "    }\n",
       "\n",
       "    .dataframe thead th {\n",
       "        text-align: right;\n",
       "    }\n",
       "</style>\n",
       "<table border=\"1\" class=\"dataframe\">\n",
       "  <thead>\n",
       "    <tr style=\"text-align: right;\">\n",
       "      <th></th>\n",
       "      <th>power</th>\n",
       "    </tr>\n",
       "  </thead>\n",
       "  <tbody>\n",
       "    <tr>\n",
       "      <th>0</th>\n",
       "      <td>0.0</td>\n",
       "    </tr>\n",
       "    <tr>\n",
       "      <th>1</th>\n",
       "      <td>0.0</td>\n",
       "    </tr>\n",
       "    <tr>\n",
       "      <th>2</th>\n",
       "      <td>0.0</td>\n",
       "    </tr>\n",
       "    <tr>\n",
       "      <th>3</th>\n",
       "      <td>0.0</td>\n",
       "    </tr>\n",
       "    <tr>\n",
       "      <th>4</th>\n",
       "      <td>0.0</td>\n",
       "    </tr>\n",
       "    <tr>\n",
       "      <th>...</th>\n",
       "      <td>...</td>\n",
       "    </tr>\n",
       "    <tr>\n",
       "      <th>495</th>\n",
       "      <td>0.0</td>\n",
       "    </tr>\n",
       "    <tr>\n",
       "      <th>496</th>\n",
       "      <td>0.0</td>\n",
       "    </tr>\n",
       "    <tr>\n",
       "      <th>497</th>\n",
       "      <td>0.0</td>\n",
       "    </tr>\n",
       "    <tr>\n",
       "      <th>498</th>\n",
       "      <td>0.0</td>\n",
       "    </tr>\n",
       "    <tr>\n",
       "      <th>499</th>\n",
       "      <td>0.0</td>\n",
       "    </tr>\n",
       "  </tbody>\n",
       "</table>\n",
       "<p>500 rows × 1 columns</p>\n",
       "</div>"
      ],
      "text/plain": [
       "     power\n",
       "0      0.0\n",
       "1      0.0\n",
       "2      0.0\n",
       "3      0.0\n",
       "4      0.0\n",
       "..     ...\n",
       "495    0.0\n",
       "496    0.0\n",
       "497    0.0\n",
       "498    0.0\n",
       "499    0.0\n",
       "\n",
       "[500 rows x 1 columns]"
      ]
     },
     "execution_count": 8,
     "metadata": {},
     "output_type": "execute_result"
    }
   ],
   "source": [
    "# Create a new dataset containing only values from the power column and print output \n",
    "power_df = pp.drop('speed',axis='columns')\n",
    "power_df"
   ]
  },
  {
   "cell_type": "markdown",
   "metadata": {},
   "source": [
    "<br>\n",
    "\n",
    "Next, I create an instance of the LinearRegression() class and call the `fit` method, passing the speed and power dataframes as arguments. "
   ]
  },
  {
   "cell_type": "code",
   "execution_count": 9,
   "metadata": {},
   "outputs": [
    {
     "data": {
      "text/plain": [
       "LinearRegression()"
      ]
     },
     "execution_count": 9,
     "metadata": {},
     "output_type": "execute_result"
    }
   ],
   "source": [
    "# Create an instance of the LinearRegression() class\n",
    "reg = LinearRegression()\n",
    "\n",
    "# Fit our data to the model\n",
    "reg.fit(speed_df, power_df)"
   ]
  },
  {
   "cell_type": "markdown",
   "metadata": {},
   "source": [
    "Once this is done, we can now test the model for accuracy. We can do this by calling a number of methods provided by the functionality of the `LinearRegresssion()` class.\n",
    "\n",
    "<br>\n",
    "\n",
    "First, I take a pick a value for speed and pass it to the `.predict` method"
   ]
  },
  {
   "cell_type": "code",
   "execution_count": 10,
   "metadata": {},
   "outputs": [],
   "source": [
    "# Predict method using a value for speed\n",
    "email = 10.89\n",
    "arr = reg.predict([[9.746]])"
   ]
  },
  {
   "cell_type": "markdown",
   "metadata": {},
   "source": []
  },
  {
   "cell_type": "markdown",
   "metadata": {},
   "source": []
  },
  {
   "cell_type": "markdown",
   "metadata": {},
   "source": [
    "<br>\n",
    "\n",
    "Next, I call the `intercept_` method to determine where the line intercepts the y-axis. And below that I use call `coef_` to get the slope of the line. This gives us all the values for formula for the best-fitting line: $$y = mx + b$$ where m is the slope, b is the y-interept and x is the independent variable [3].\n",
    "\n",
    "[3] dummies.com; How to calculate a regression line; https://www.dummies.com/education/math/statistics/how-to-calculate-a-regression-line/ <br>"
   ]
  },
  {
   "cell_type": "code",
   "execution_count": 11,
   "metadata": {},
   "outputs": [
    {
     "data": {
      "text/plain": [
       "array([-13.89990263])"
      ]
     },
     "execution_count": 11,
     "metadata": {},
     "output_type": "execute_result"
    }
   ],
   "source": [
    "# Call the intercept_ method to determine where the line intercepts the y-axis\n",
    "reg.intercept_"
   ]
  },
  {
   "cell_type": "code",
   "execution_count": 12,
   "metadata": {},
   "outputs": [
    {
     "data": {
      "text/plain": [
       "array([[4.91759567]])"
      ]
     },
     "execution_count": 12,
     "metadata": {},
     "output_type": "execute_result"
    }
   ],
   "source": [
    "# Call the coef_ method to calculate the slope of the line\n",
    "reg.coef_"
   ]
  },
  {
   "cell_type": "code",
   "execution_count": 13,
   "metadata": {},
   "outputs": [
    {
     "name": "stdout",
     "output_type": "stream",
     "text": [
      "34.02698476930036\n"
     ]
    }
   ],
   "source": [
    "# Set calculated values\n",
    "m = 4.91759567\n",
    "x = 9.746\n",
    "b = -13.899902630519641\n",
    "\n",
    "y = m*x + b\n",
    "print(y)"
   ]
  },
  {
   "cell_type": "markdown",
   "metadata": {},
   "source": [
    "As expected, we get the same result for y when we input these values into the formula (above)\n",
    "<br>\n",
    "\n"
   ]
  },
  {
   "cell_type": "markdown",
   "metadata": {},
   "source": [
    "### R-squared \n",
    "\n",
    "The `LinearRegression` class also provides functionality for calculating the the R-squared value. The R-squared value is a 'goodness-of-fit' measure which can give us an indication as to the accuracy of our regression model. The best possible score is 1.0, while a score of 0 or a negative value generally represents a worse-fitting line. The R-squared value \"indicates the percentage of the variance in the dependent variable that the independent variables explain collectively.\" [4] It is worth noting that a high R-squared does not necessarily always indicate the best fit [5].\n",
    "\n",
    "[4] Frost, J; How To Interpret R-squared in Regression Analysis; https://statisticsbyjim.com/regression/interpret-r-squared-regression/ <br>\n",
    "[5] *Ibid*"
   ]
  },
  {
   "cell_type": "code",
   "execution_count": 14,
   "metadata": {},
   "outputs": [
    {
     "data": {
      "text/plain": [
       "0.7289360258564072"
      ]
     },
     "execution_count": 14,
     "metadata": {},
     "output_type": "execute_result"
    }
   ],
   "source": [
    "# Calculate R-squared value\n",
    "reg.score(speed_df, power_df)"
   ]
  },
  {
   "cell_type": "markdown",
   "metadata": {},
   "source": [
    "<br>\n",
    "\n",
    "\n",
    "***"
   ]
  },
  {
   "cell_type": "markdown",
   "metadata": {},
   "source": [
    "### Train_test_split\n",
    "\n",
    "The train-test-split procedure involves training a machine learning algorithm by splitting the data into separate proportions. One proportion (train) is used to train the model while the other (test) is held back in order to test its accuracy. (It is worth pointing out that it may not always be appropriate as a technique to increase accuracy of prediction e.g. if the data set is too small [6].) \n",
    "\n",
    "<br>\n",
    "\n",
    "Below, I pass the speed_df and power_df dataframes to the `train_test_split` method and set the parameter *test_size* to 0.2. The test size indicates the size of the train and test sets. Common split percentages include \n",
    "* Train: 80%, Test: 20%\n",
    "* Train: 67%, Test: 33%\n",
    "* Train: 50%, Test: 50% [7]\n",
    "\n",
    "\n",
    "[6] machinelearningmastery.com; Train-Test Split for Evaluating Machine Learning Algorithms; https://machinelearningmastery.com/train-test-split-for-evaluating-machine-learning-algorithms/ <br>\n",
    "[7] *Ibid*"
   ]
  },
  {
   "cell_type": "code",
   "execution_count": 15,
   "metadata": {},
   "outputs": [],
   "source": [
    "# Call train_test_split method on dataframes\n",
    "A_Train, A_Test, B_Train, B_Test = train_test_split(speed_df, power_df, test_size = 0.2)"
   ]
  },
  {
   "cell_type": "code",
   "execution_count": null,
   "metadata": {},
   "outputs": [],
   "source": []
  },
  {
   "cell_type": "code",
   "execution_count": null,
   "metadata": {},
   "outputs": [],
   "source": []
  },
  {
   "cell_type": "code",
   "execution_count": null,
   "metadata": {},
   "outputs": [],
   "source": []
  },
  {
   "cell_type": "code",
   "execution_count": 16,
   "metadata": {},
   "outputs": [],
   "source": [
    "pp = pp[pp.power != 0]\n"
   ]
  },
  {
   "cell_type": "code",
   "execution_count": 17,
   "metadata": {},
   "outputs": [],
   "source": [
    "x = pp['speed']\n",
    "y = pp['power']"
   ]
  },
  {
   "cell_type": "code",
   "execution_count": 18,
   "metadata": {},
   "outputs": [
    {
     "data": {
      "image/png": "[encoded data removed]",
      "text/plain": [
       "<Figure size 792x432 with 1 Axes>"
      ]
     },
     "metadata": {},
     "output_type": "display_data"
    }
   ],
   "source": [
    "mymodel = np.poly1d(np.polyfit(x, y, 6))\n",
    "\n",
    "myline = np.linspace(0, 25, 100)\n",
    "\n",
    "plt.scatter(x, y, color='red', marker='x')\n",
    "plt.plot(myline, mymodel(myline))\n",
    "plt.show()\n"
   ]
  },
  {
   "cell_type": "code",
   "execution_count": null,
   "metadata": {},
   "outputs": [],
   "source": []
  },
  {
   "cell_type": "code",
   "execution_count": null,
   "metadata": {},
   "outputs": [],
   "source": []
  },
  {
   "cell_type": "code",
   "execution_count": null,
   "metadata": {},
   "outputs": [],
   "source": []
  },
  {
   "cell_type": "code",
   "execution_count": null,
   "metadata": {},
   "outputs": [],
   "source": []
  },
  {
   "cell_type": "markdown",
   "metadata": {},
   "source": [
    "## Neural network - Regression\n",
    "\n",
    "***"
   ]
  },
  {
   "cell_type": "code",
   "execution_count": 19,
   "metadata": {
    "scrolled": true
   },
   "outputs": [
    {
     "data": {
      "text/html": [
       "<div>\n",
       "<style scoped>\n",
       "    .dataframe tbody tr th:only-of-type {\n",
       "        vertical-align: middle;\n",
       "    }\n",
       "\n",
       "    .dataframe tbody tr th {\n",
       "        vertical-align: top;\n",
       "    }\n",
       "\n",
       "    .dataframe thead th {\n",
       "        text-align: right;\n",
       "    }\n",
       "</style>\n",
       "<table border=\"1\" class=\"dataframe\">\n",
       "  <thead>\n",
       "    <tr style=\"text-align: right;\">\n",
       "      <th></th>\n",
       "      <th>speed</th>\n",
       "      <th>power</th>\n",
       "    </tr>\n",
       "  </thead>\n",
       "  <tbody>\n",
       "    <tr>\n",
       "      <th>count</th>\n",
       "      <td>451.000000</td>\n",
       "      <td>451.000000</td>\n",
       "    </tr>\n",
       "    <tr>\n",
       "      <th>mean</th>\n",
       "      <td>13.004302</td>\n",
       "      <td>53.231246</td>\n",
       "    </tr>\n",
       "    <tr>\n",
       "      <th>std</th>\n",
       "      <td>6.835979</td>\n",
       "      <td>40.522055</td>\n",
       "    </tr>\n",
       "    <tr>\n",
       "      <th>min</th>\n",
       "      <td>0.325000</td>\n",
       "      <td>0.067000</td>\n",
       "    </tr>\n",
       "    <tr>\n",
       "      <th>25%</th>\n",
       "      <td>7.344500</td>\n",
       "      <td>8.543500</td>\n",
       "    </tr>\n",
       "    <tr>\n",
       "      <th>50%</th>\n",
       "      <td>13.038000</td>\n",
       "      <td>58.168000</td>\n",
       "    </tr>\n",
       "    <tr>\n",
       "      <th>75%</th>\n",
       "      <td>18.781500</td>\n",
       "      <td>94.725500</td>\n",
       "    </tr>\n",
       "    <tr>\n",
       "      <th>max</th>\n",
       "      <td>24.399000</td>\n",
       "      <td>113.556000</td>\n",
       "    </tr>\n",
       "  </tbody>\n",
       "</table>\n",
       "</div>"
      ],
      "text/plain": [
       "            speed       power\n",
       "count  451.000000  451.000000\n",
       "mean    13.004302   53.231246\n",
       "std      6.835979   40.522055\n",
       "min      0.325000    0.067000\n",
       "25%      7.344500    8.543500\n",
       "50%     13.038000   58.168000\n",
       "75%     18.781500   94.725500\n",
       "max     24.399000  113.556000"
      ]
     },
     "execution_count": 19,
     "metadata": {},
     "output_type": "execute_result"
    }
   ],
   "source": [
    "pp = pp[pp.power != 0]\n",
    "pp.describe()"
   ]
  },
  {
   "cell_type": "code",
   "execution_count": 20,
   "metadata": {},
   "outputs": [],
   "source": [
    "# Create neural network with one neuron\n",
    "def create_model():\n",
    "    model = kr.models.Sequential()\n",
    "    model.add(kr.Input(shape=(1,)))\n",
    "    model.add(kr.layers.Dense(100, activation='relu', kernel_initializer='glorot_uniform', bias_initializer='glorot_uniform'))\n",
    "    model.add(kr.layers.Dense(100, activation='relu', kernel_initializer='glorot_uniform', bias_initializer='glorot_uniform'))\n",
    "    model.add(kr.layers.Dense(1, activation='linear', kernel_initializer='glorot_uniform', bias_initializer='glorot_uniform'))\n",
    "    model.compile(kr.optimizers.Adam(lr=0.001), loss='mean_squared_error')\n",
    "    \n",
    "    return model"
   ]
  },
  {
   "cell_type": "code",
   "execution_count": 21,
   "metadata": {},
   "outputs": [],
   "source": [
    "model = create_model()"
   ]
  },
  {
   "cell_type": "code",
   "execution_count": 22,
   "metadata": {},
   "outputs": [],
   "source": [
    "\n",
    "\n",
    "msk = np.random.rand(len(pp)) < 0.5\n",
    "train = pp[msk]\n",
    "\n",
    "test = pp[~msk]"
   ]
  },
  {
   "cell_type": "code",
   "execution_count": 23,
   "metadata": {},
   "outputs": [
    {
     "name": "stdout",
     "output_type": "stream",
     "text": [
      "Epoch 1/500\n",
      "23/23 [==============================] - 2s 3ms/step - loss: 3979.0445\n",
      "Epoch 2/500\n",
      "23/23 [==============================] - 0s 4ms/step - loss: 3509.7066\n",
      "Epoch 3/500\n",
      "23/23 [==============================] - 0s 3ms/step - loss: 1733.3115\n",
      "Epoch 4/500\n",
      "23/23 [==============================] - 0s 3ms/step - loss: 501.0028\n",
      "Epoch 5/500\n",
      "23/23 [==============================] - 0s 3ms/step - loss: 269.2217\n",
      "Epoch 6/500\n",
      "23/23 [==============================] - 0s 3ms/step - loss: 295.2341\n",
      "Epoch 7/500\n",
      "23/23 [==============================] - 0s 3ms/step - loss: 252.3710\n",
      "Epoch 8/500\n",
      "23/23 [==============================] - 0s 4ms/step - loss: 227.6657\n",
      "Epoch 9/500\n",
      "23/23 [==============================] - 0s 3ms/step - loss: 244.0547\n",
      "Epoch 10/500\n",
      "23/23 [==============================] - 0s 3ms/step - loss: 242.9297\n",
      "Epoch 11/500\n",
      "23/23 [==============================] - 0s 3ms/step - loss: 240.9219\n",
      "Epoch 12/500\n",
      "23/23 [==============================] - 0s 3ms/step - loss: 203.8299\n",
      "Epoch 13/500\n",
      "23/23 [==============================] - 0s 3ms/step - loss: 230.3985\n",
      "Epoch 14/500\n",
      "23/23 [==============================] - ETA: 0s - loss: 238.379 - 0s 3ms/step - loss: 237.1209\n",
      "Epoch 15/500\n",
      "23/23 [==============================] - 0s 3ms/step - loss: 219.8372\n",
      "Epoch 16/500\n",
      "23/23 [==============================] - 0s 3ms/step - loss: 223.1723\n",
      "Epoch 17/500\n",
      "23/23 [==============================] - 0s 3ms/step - loss: 216.1110\n",
      "Epoch 18/500\n",
      "23/23 [==============================] - 0s 3ms/step - loss: 210.0704\n",
      "Epoch 19/500\n",
      "23/23 [==============================] - 0s 3ms/step - loss: 203.2237\n",
      "Epoch 20/500\n",
      "23/23 [==============================] - 0s 3ms/step - loss: 206.8744\n",
      "Epoch 21/500\n",
      "23/23 [==============================] - 0s 3ms/step - loss: 189.7697\n",
      "Epoch 22/500\n",
      "23/23 [==============================] - 0s 3ms/step - loss: 220.9850\n",
      "Epoch 23/500\n",
      "23/23 [==============================] - 0s 3ms/step - loss: 202.7465\n",
      "Epoch 24/500\n",
      "23/23 [==============================] - 0s 3ms/step - loss: 204.4494\n",
      "Epoch 25/500\n",
      "23/23 [==============================] - 0s 3ms/step - loss: 199.5269\n",
      "Epoch 26/500\n",
      "23/23 [==============================] - 0s 3ms/step - loss: 177.8526\n",
      "Epoch 27/500\n",
      "23/23 [==============================] - 0s 3ms/step - loss: 170.8138\n",
      "Epoch 28/500\n",
      "23/23 [==============================] - 0s 3ms/step - loss: 174.7304\n",
      "Epoch 29/500\n",
      "23/23 [==============================] - 0s 3ms/step - loss: 168.9894\n",
      "Epoch 30/500\n",
      "23/23 [==============================] - 0s 3ms/step - loss: 165.4337\n",
      "Epoch 31/500\n",
      "23/23 [==============================] - 0s 3ms/step - loss: 146.3060\n",
      "Epoch 32/500\n",
      "23/23 [==============================] - 0s 3ms/step - loss: 159.6086\n",
      "Epoch 33/500\n",
      "23/23 [==============================] - 0s 3ms/step - loss: 181.7662\n",
      "Epoch 34/500\n",
      "23/23 [==============================] - 0s 4ms/step - loss: 160.4819\n",
      "Epoch 35/500\n",
      "23/23 [==============================] - 0s 2ms/step - loss: 129.8430\n",
      "Epoch 36/500\n",
      "23/23 [==============================] - 0s 3ms/step - loss: 140.7370\n",
      "Epoch 37/500\n",
      "23/23 [==============================] - 0s 4ms/step - loss: 148.0556\n",
      "Epoch 38/500\n",
      "23/23 [==============================] - 0s 3ms/step - loss: 138.2143\n",
      "Epoch 39/500\n",
      "23/23 [==============================] - 0s 3ms/step - loss: 154.3635\n",
      "Epoch 40/500\n",
      "23/23 [==============================] - 0s 3ms/step - loss: 130.9242\n",
      "Epoch 41/500\n",
      "23/23 [==============================] - 0s 2ms/step - loss: 131.5704\n",
      "Epoch 42/500\n",
      "23/23 [==============================] - 0s 3ms/step - loss: 145.2593\n",
      "Epoch 43/500\n",
      "23/23 [==============================] - 0s 4ms/step - loss: 133.3865\n",
      "Epoch 44/500\n",
      "23/23 [==============================] - 0s 3ms/step - loss: 149.0282\n",
      "Epoch 45/500\n",
      "23/23 [==============================] - 0s 3ms/step - loss: 134.9416\n",
      "Epoch 46/500\n",
      "23/23 [==============================] - 0s 3ms/step - loss: 129.9488\n",
      "Epoch 47/500\n",
      "23/23 [==============================] - 0s 3ms/step - loss: 137.0726\n",
      "Epoch 48/500\n",
      "23/23 [==============================] - 0s 3ms/step - loss: 145.8220\n",
      "Epoch 49/500\n",
      "23/23 [==============================] - 0s 2ms/step - loss: 130.3549\n",
      "Epoch 50/500\n",
      "23/23 [==============================] - 0s 3ms/step - loss: 135.2339\n",
      "Epoch 51/500\n",
      "23/23 [==============================] - 0s 4ms/step - loss: 126.3678\n",
      "Epoch 52/500\n",
      "23/23 [==============================] - 0s 3ms/step - loss: 132.0166\n",
      "Epoch 53/500\n",
      "23/23 [==============================] - 0s 2ms/step - loss: 123.9567\n",
      "Epoch 54/500\n",
      "23/23 [==============================] - 0s 3ms/step - loss: 129.0176\n",
      "Epoch 55/500\n",
      "23/23 [==============================] - 0s 3ms/step - loss: 128.7254\n",
      "Epoch 56/500\n",
      "23/23 [==============================] - 0s 2ms/step - loss: 132.5024\n",
      "Epoch 57/500\n",
      "23/23 [==============================] - 0s 2ms/step - loss: 119.2513\n",
      "Epoch 58/500\n",
      "23/23 [==============================] - 0s 2ms/step - loss: 122.7738\n",
      "Epoch 59/500\n",
      "23/23 [==============================] - 0s 2ms/step - loss: 137.0913\n",
      "Epoch 60/500\n",
      "23/23 [==============================] - 0s 3ms/step - loss: 113.2810\n",
      "Epoch 61/500\n",
      "23/23 [==============================] - 0s 3ms/step - loss: 129.3751\n",
      "Epoch 62/500\n",
      "23/23 [==============================] - 0s 3ms/step - loss: 123.1957\n",
      "Epoch 63/500\n",
      "23/23 [==============================] - 0s 2ms/step - loss: 141.9231\n",
      "Epoch 64/500\n",
      "23/23 [==============================] - 0s 3ms/step - loss: 123.1157\n",
      "Epoch 65/500\n",
      "23/23 [==============================] - 0s 2ms/step - loss: 140.4168\n",
      "Epoch 66/500\n",
      "23/23 [==============================] - 0s 3ms/step - loss: 118.6091\n",
      "Epoch 67/500\n",
      "23/23 [==============================] - 0s 3ms/step - loss: 120.6910\n",
      "Epoch 68/500\n",
      "23/23 [==============================] - 0s 3ms/step - loss: 106.6506\n",
      "Epoch 69/500\n",
      "23/23 [==============================] - 0s 3ms/step - loss: 122.7565\n",
      "Epoch 70/500\n",
      "23/23 [==============================] - 0s 3ms/step - loss: 120.9098\n",
      "Epoch 71/500\n",
      "23/23 [==============================] - 0s 3ms/step - loss: 115.1413\n",
      "Epoch 72/500\n",
      "23/23 [==============================] - 0s 3ms/step - loss: 132.6404\n",
      "Epoch 73/500\n",
      "23/23 [==============================] - 0s 3ms/step - loss: 138.9356\n",
      "Epoch 74/500\n",
      "23/23 [==============================] - 0s 3ms/step - loss: 102.0320\n",
      "Epoch 75/500\n",
      "23/23 [==============================] - 0s 3ms/step - loss: 115.4834\n",
      "Epoch 76/500\n",
      "23/23 [==============================] - 0s 3ms/step - loss: 115.4569\n",
      "Epoch 77/500\n",
      "23/23 [==============================] - 0s 3ms/step - loss: 106.6183\n",
      "Epoch 78/500\n",
      "23/23 [==============================] - 0s 2ms/step - loss: 123.2298\n",
      "Epoch 79/500\n",
      "23/23 [==============================] - 0s 3ms/step - loss: 127.3001\n",
      "Epoch 80/500\n",
      "23/23 [==============================] - 0s 3ms/step - loss: 120.6416\n",
      "Epoch 81/500\n",
      "23/23 [==============================] - 0s 2ms/step - loss: 127.6242\n",
      "Epoch 82/500\n",
      "23/23 [==============================] - 0s 3ms/step - loss: 142.7250\n",
      "Epoch 83/500\n",
      "23/23 [==============================] - 0s 3ms/step - loss: 111.9178\n",
      "Epoch 84/500\n",
      "23/23 [==============================] - 0s 3ms/step - loss: 114.0561\n",
      "Epoch 85/500\n",
      "23/23 [==============================] - 0s 3ms/step - loss: 125.1464\n",
      "Epoch 86/500\n",
      "23/23 [==============================] - 0s 3ms/step - loss: 109.6115\n",
      "Epoch 87/500\n",
      "23/23 [==============================] - 0s 3ms/step - loss: 130.7928\n",
      "Epoch 88/500\n",
      "23/23 [==============================] - 0s 3ms/step - loss: 103.7756\n",
      "Epoch 89/500\n",
      "23/23 [==============================] - 0s 3ms/step - loss: 111.4550\n",
      "Epoch 90/500\n",
      "23/23 [==============================] - 0s 3ms/step - loss: 129.9639\n",
      "Epoch 91/500\n",
      "23/23 [==============================] - 0s 3ms/step - loss: 117.0227\n",
      "Epoch 92/500\n",
      "23/23 [==============================] - 0s 3ms/step - loss: 105.2413\n",
      "Epoch 93/500\n",
      "23/23 [==============================] - 0s 3ms/step - loss: 100.2370\n",
      "Epoch 94/500\n",
      "23/23 [==============================] - 0s 3ms/step - loss: 116.6664\n",
      "Epoch 95/500\n",
      "23/23 [==============================] - 0s 3ms/step - loss: 92.2851\n",
      "Epoch 96/500\n",
      "23/23 [==============================] - 0s 3ms/step - loss: 114.7774\n",
      "Epoch 97/500\n",
      "23/23 [==============================] - 0s 3ms/step - loss: 92.6885\n",
      "Epoch 98/500\n",
      "23/23 [==============================] - 0s 2ms/step - loss: 110.3101\n",
      "Epoch 99/500\n"
     ]
    },
    {
     "name": "stdout",
     "output_type": "stream",
     "text": [
      "23/23 [==============================] - 0s 3ms/step - loss: 128.1529\n",
      "Epoch 100/500\n",
      "23/23 [==============================] - 0s 3ms/step - loss: 114.5214\n",
      "Epoch 101/500\n",
      "23/23 [==============================] - 0s 3ms/step - loss: 110.6666\n",
      "Epoch 102/500\n",
      "23/23 [==============================] - 0s 2ms/step - loss: 97.7666\n",
      "Epoch 103/500\n",
      "23/23 [==============================] - 0s 3ms/step - loss: 119.5600\n",
      "Epoch 104/500\n",
      "23/23 [==============================] - 0s 3ms/step - loss: 112.3085\n",
      "Epoch 105/500\n",
      "23/23 [==============================] - 0s 3ms/step - loss: 103.1622\n",
      "Epoch 106/500\n",
      "23/23 [==============================] - 0s 3ms/step - loss: 123.6254\n",
      "Epoch 107/500\n",
      "23/23 [==============================] - 0s 3ms/step - loss: 109.9642\n",
      "Epoch 108/500\n",
      "23/23 [==============================] - 0s 2ms/step - loss: 106.9010\n",
      "Epoch 109/500\n",
      "23/23 [==============================] - 0s 2ms/step - loss: 100.7855\n",
      "Epoch 110/500\n",
      "23/23 [==============================] - 0s 2ms/step - loss: 109.4546\n",
      "Epoch 111/500\n",
      "23/23 [==============================] - 0s 3ms/step - loss: 94.1890\n",
      "Epoch 112/500\n",
      "23/23 [==============================] - 0s 2ms/step - loss: 99.3964\n",
      "Epoch 113/500\n",
      "23/23 [==============================] - 0s 3ms/step - loss: 106.9849\n",
      "Epoch 114/500\n",
      "23/23 [==============================] - 0s 3ms/step - loss: 106.7340\n",
      "Epoch 115/500\n",
      "23/23 [==============================] - 0s 3ms/step - loss: 113.9979\n",
      "Epoch 116/500\n",
      "23/23 [==============================] - 0s 3ms/step - loss: 99.5351\n",
      "Epoch 117/500\n",
      "23/23 [==============================] - 0s 3ms/step - loss: 89.1640\n",
      "Epoch 118/500\n",
      "23/23 [==============================] - 0s 3ms/step - loss: 95.9062\n",
      "Epoch 119/500\n",
      "23/23 [==============================] - 0s 4ms/step - loss: 109.9549\n",
      "Epoch 120/500\n",
      "23/23 [==============================] - 0s 3ms/step - loss: 113.6143\n",
      "Epoch 121/500\n",
      "23/23 [==============================] - 0s 4ms/step - loss: 83.1550\n",
      "Epoch 122/500\n",
      "23/23 [==============================] - 0s 3ms/step - loss: 117.2970\n",
      "Epoch 123/500\n",
      "23/23 [==============================] - 0s 3ms/step - loss: 109.6011\n",
      "Epoch 124/500\n",
      "23/23 [==============================] - 0s 3ms/step - loss: 101.2625\n",
      "Epoch 125/500\n",
      "23/23 [==============================] - 0s 3ms/step - loss: 84.2895\n",
      "Epoch 126/500\n",
      "23/23 [==============================] - 0s 3ms/step - loss: 107.8036\n",
      "Epoch 127/500\n",
      "23/23 [==============================] - 0s 3ms/step - loss: 94.5157\n",
      "Epoch 128/500\n",
      "23/23 [==============================] - 0s 3ms/step - loss: 98.7262\n",
      "Epoch 129/500\n",
      "23/23 [==============================] - 0s 3ms/step - loss: 91.7746\n",
      "Epoch 130/500\n",
      "23/23 [==============================] - 0s 3ms/step - loss: 90.6349\n",
      "Epoch 131/500\n",
      "23/23 [==============================] - 0s 3ms/step - loss: 86.3417\n",
      "Epoch 132/500\n",
      "23/23 [==============================] - 0s 2ms/step - loss: 96.9150\n",
      "Epoch 133/500\n",
      "23/23 [==============================] - 0s 3ms/step - loss: 92.5060\n",
      "Epoch 134/500\n",
      "23/23 [==============================] - 0s 3ms/step - loss: 95.0126\n",
      "Epoch 135/500\n",
      "23/23 [==============================] - 0s 3ms/step - loss: 99.0588\n",
      "Epoch 136/500\n",
      "23/23 [==============================] - 0s 3ms/step - loss: 89.4600\n",
      "Epoch 137/500\n",
      "23/23 [==============================] - 0s 3ms/step - loss: 117.9320\n",
      "Epoch 138/500\n",
      "23/23 [==============================] - 0s 3ms/step - loss: 91.5724\n",
      "Epoch 139/500\n",
      "23/23 [==============================] - 0s 2ms/step - loss: 108.5440\n",
      "Epoch 140/500\n",
      "23/23 [==============================] - 0s 3ms/step - loss: 106.3728\n",
      "Epoch 141/500\n",
      "23/23 [==============================] - 0s 3ms/step - loss: 95.0756\n",
      "Epoch 142/500\n",
      "23/23 [==============================] - 0s 3ms/step - loss: 106.5243\n",
      "Epoch 143/500\n",
      "23/23 [==============================] - 0s 3ms/step - loss: 91.6695\n",
      "Epoch 144/500\n",
      "23/23 [==============================] - 0s 2ms/step - loss: 98.3490\n",
      "Epoch 145/500\n",
      "23/23 [==============================] - 0s 2ms/step - loss: 83.7561\n",
      "Epoch 146/500\n",
      "23/23 [==============================] - 0s 2ms/step - loss: 95.0404\n",
      "Epoch 147/500\n",
      "23/23 [==============================] - 0s 2ms/step - loss: 82.0329\n",
      "Epoch 148/500\n",
      "23/23 [==============================] - 0s 2ms/step - loss: 98.9859\n",
      "Epoch 149/500\n",
      "23/23 [==============================] - 0s 2ms/step - loss: 91.0149\n",
      "Epoch 150/500\n",
      "23/23 [==============================] - 0s 3ms/step - loss: 100.4552\n",
      "Epoch 151/500\n",
      "23/23 [==============================] - 0s 3ms/step - loss: 88.6827\n",
      "Epoch 152/500\n",
      "23/23 [==============================] - 0s 3ms/step - loss: 82.5234\n",
      "Epoch 153/500\n",
      "23/23 [==============================] - 0s 3ms/step - loss: 99.0254\n",
      "Epoch 154/500\n",
      "23/23 [==============================] - 0s 2ms/step - loss: 86.1674\n",
      "Epoch 155/500\n",
      "23/23 [==============================] - 0s 3ms/step - loss: 81.3770\n",
      "Epoch 156/500\n",
      "23/23 [==============================] - 0s 3ms/step - loss: 97.5825\n",
      "Epoch 157/500\n",
      "23/23 [==============================] - 0s 3ms/step - loss: 75.9888\n",
      "Epoch 158/500\n",
      "23/23 [==============================] - 0s 3ms/step - loss: 90.3727\n",
      "Epoch 159/500\n",
      "23/23 [==============================] - 0s 3ms/step - loss: 92.8537\n",
      "Epoch 160/500\n",
      "23/23 [==============================] - 0s 3ms/step - loss: 85.6277\n",
      "Epoch 161/500\n",
      "23/23 [==============================] - 0s 2ms/step - loss: 77.8463\n",
      "Epoch 162/500\n",
      "23/23 [==============================] - 0s 3ms/step - loss: 78.2103\n",
      "Epoch 163/500\n",
      "23/23 [==============================] - 0s 3ms/step - loss: 89.3390\n",
      "Epoch 164/500\n",
      "23/23 [==============================] - 0s 2ms/step - loss: 89.8785\n",
      "Epoch 165/500\n",
      "23/23 [==============================] - 0s 3ms/step - loss: 89.3591\n",
      "Epoch 166/500\n",
      "23/23 [==============================] - 0s 2ms/step - loss: 76.5015\n",
      "Epoch 167/500\n",
      "23/23 [==============================] - 0s 2ms/step - loss: 84.3672\n",
      "Epoch 168/500\n",
      "23/23 [==============================] - 0s 3ms/step - loss: 92.4796\n",
      "Epoch 169/500\n",
      "23/23 [==============================] - 0s 3ms/step - loss: 95.5137\n",
      "Epoch 170/500\n",
      "23/23 [==============================] - 0s 3ms/step - loss: 89.9208\n",
      "Epoch 171/500\n",
      "23/23 [==============================] - 0s 3ms/step - loss: 76.9708\n",
      "Epoch 172/500\n",
      "23/23 [==============================] - 0s 3ms/step - loss: 81.4002\n",
      "Epoch 173/500\n",
      "23/23 [==============================] - 0s 3ms/step - loss: 88.0471\n",
      "Epoch 174/500\n",
      "23/23 [==============================] - 0s 3ms/step - loss: 71.3039\n",
      "Epoch 175/500\n",
      "23/23 [==============================] - 0s 2ms/step - loss: 78.8615\n",
      "Epoch 176/500\n",
      "23/23 [==============================] - 0s 3ms/step - loss: 81.0758\n",
      "Epoch 177/500\n",
      "23/23 [==============================] - 0s 3ms/step - loss: 74.4750\n",
      "Epoch 178/500\n",
      "23/23 [==============================] - 0s 3ms/step - loss: 75.2832\n",
      "Epoch 179/500\n",
      "23/23 [==============================] - 0s 3ms/step - loss: 72.2109\n",
      "Epoch 180/500\n",
      "23/23 [==============================] - 0s 3ms/step - loss: 77.6527\n",
      "Epoch 181/500\n",
      "23/23 [==============================] - 0s 3ms/step - loss: 72.4221\n",
      "Epoch 182/500\n",
      "23/23 [==============================] - 0s 3ms/step - loss: 74.5582\n",
      "Epoch 183/500\n",
      "23/23 [==============================] - 0s 3ms/step - loss: 84.5315\n",
      "Epoch 184/500\n",
      "23/23 [==============================] - 0s 3ms/step - loss: 79.6234\n",
      "Epoch 185/500\n",
      "23/23 [==============================] - 0s 3ms/step - loss: 79.2906\n",
      "Epoch 186/500\n",
      "23/23 [==============================] - 0s 3ms/step - loss: 72.0673\n",
      "Epoch 187/500\n",
      "23/23 [==============================] - 0s 3ms/step - loss: 78.1680\n",
      "Epoch 188/500\n",
      "23/23 [==============================] - 0s 3ms/step - loss: 65.1086\n",
      "Epoch 189/500\n",
      "23/23 [==============================] - 0s 3ms/step - loss: 88.5029\n",
      "Epoch 190/500\n",
      "23/23 [==============================] - 0s 3ms/step - loss: 73.2124\n",
      "Epoch 191/500\n",
      "23/23 [==============================] - 0s 3ms/step - loss: 69.1198\n",
      "Epoch 192/500\n",
      "23/23 [==============================] - 0s 3ms/step - loss: 82.1935\n",
      "Epoch 193/500\n",
      "23/23 [==============================] - 0s 2ms/step - loss: 88.9451\n",
      "Epoch 194/500\n",
      "23/23 [==============================] - 0s 3ms/step - loss: 74.8867\n",
      "Epoch 195/500\n",
      "23/23 [==============================] - 0s 3ms/step - loss: 57.9758\n",
      "Epoch 196/500\n",
      "23/23 [==============================] - 0s 3ms/step - loss: 71.0417\n",
      "Epoch 197/500\n"
     ]
    },
    {
     "name": "stdout",
     "output_type": "stream",
     "text": [
      "23/23 [==============================] - 0s 3ms/step - loss: 83.2035\n",
      "Epoch 198/500\n",
      "23/23 [==============================] - 0s 3ms/step - loss: 89.4119\n",
      "Epoch 199/500\n",
      "23/23 [==============================] - 0s 4ms/step - loss: 70.3361\n",
      "Epoch 200/500\n",
      "23/23 [==============================] - 0s 3ms/step - loss: 63.0512\n",
      "Epoch 201/500\n",
      "23/23 [==============================] - 0s 3ms/step - loss: 66.9669\n",
      "Epoch 202/500\n",
      "23/23 [==============================] - 0s 3ms/step - loss: 70.0281\n",
      "Epoch 203/500\n",
      "23/23 [==============================] - 0s 3ms/step - loss: 74.0512\n",
      "Epoch 204/500\n",
      "23/23 [==============================] - 0s 3ms/step - loss: 66.1468\n",
      "Epoch 205/500\n",
      "23/23 [==============================] - 0s 3ms/step - loss: 75.3618\n",
      "Epoch 206/500\n",
      "23/23 [==============================] - 0s 3ms/step - loss: 68.0974\n",
      "Epoch 207/500\n",
      "23/23 [==============================] - 0s 3ms/step - loss: 67.9654\n",
      "Epoch 208/500\n",
      "23/23 [==============================] - 0s 3ms/step - loss: 64.4474\n",
      "Epoch 209/500\n",
      "23/23 [==============================] - 0s 2ms/step - loss: 70.3848\n",
      "Epoch 210/500\n",
      "23/23 [==============================] - 0s 3ms/step - loss: 62.7999\n",
      "Epoch 211/500\n",
      "23/23 [==============================] - 0s 3ms/step - loss: 69.3461\n",
      "Epoch 212/500\n",
      "23/23 [==============================] - 0s 3ms/step - loss: 64.9550\n",
      "Epoch 213/500\n",
      "23/23 [==============================] - 0s 3ms/step - loss: 63.9499\n",
      "Epoch 214/500\n",
      "23/23 [==============================] - 0s 3ms/step - loss: 62.6570\n",
      "Epoch 215/500\n",
      "23/23 [==============================] - 0s 3ms/step - loss: 68.7169\n",
      "Epoch 216/500\n",
      "23/23 [==============================] - 0s 3ms/step - loss: 65.8909\n",
      "Epoch 217/500\n",
      "23/23 [==============================] - 0s 3ms/step - loss: 61.7002\n",
      "Epoch 218/500\n",
      "23/23 [==============================] - 0s 3ms/step - loss: 74.5553\n",
      "Epoch 219/500\n",
      "23/23 [==============================] - 0s 3ms/step - loss: 71.8463\n",
      "Epoch 220/500\n",
      "23/23 [==============================] - 0s 3ms/step - loss: 62.7841\n",
      "Epoch 221/500\n",
      "23/23 [==============================] - 0s 3ms/step - loss: 63.1679\n",
      "Epoch 222/500\n",
      "23/23 [==============================] - 0s 3ms/step - loss: 55.6498\n",
      "Epoch 223/500\n",
      "23/23 [==============================] - 0s 2ms/step - loss: 68.5609\n",
      "Epoch 224/500\n",
      "23/23 [==============================] - 0s 2ms/step - loss: 49.6439\n",
      "Epoch 225/500\n",
      "23/23 [==============================] - 0s 2ms/step - loss: 54.0413\n",
      "Epoch 226/500\n",
      "23/23 [==============================] - 0s 2ms/step - loss: 57.7807\n",
      "Epoch 227/500\n",
      "23/23 [==============================] - 0s 2ms/step - loss: 57.1148\n",
      "Epoch 228/500\n",
      "23/23 [==============================] - 0s 2ms/step - loss: 65.6353\n",
      "Epoch 229/500\n",
      "23/23 [==============================] - 0s 3ms/step - loss: 65.4781\n",
      "Epoch 230/500\n",
      "23/23 [==============================] - 0s 3ms/step - loss: 55.5875\n",
      "Epoch 231/500\n",
      "23/23 [==============================] - 0s 3ms/step - loss: 54.8348\n",
      "Epoch 232/500\n",
      "23/23 [==============================] - 0s 3ms/step - loss: 59.2109\n",
      "Epoch 233/500\n",
      "23/23 [==============================] - 0s 2ms/step - loss: 56.4545\n",
      "Epoch 234/500\n",
      "23/23 [==============================] - 0s 3ms/step - loss: 48.4516\n",
      "Epoch 235/500\n",
      "23/23 [==============================] - 0s 3ms/step - loss: 55.5672\n",
      "Epoch 236/500\n",
      "23/23 [==============================] - 0s 3ms/step - loss: 52.1532\n",
      "Epoch 237/500\n",
      "23/23 [==============================] - 0s 3ms/step - loss: 64.2832\n",
      "Epoch 238/500\n",
      "23/23 [==============================] - 0s 3ms/step - loss: 50.4779\n",
      "Epoch 239/500\n",
      "23/23 [==============================] - 0s 3ms/step - loss: 57.4265\n",
      "Epoch 240/500\n",
      "23/23 [==============================] - 0s 3ms/step - loss: 55.0131\n",
      "Epoch 241/500\n",
      "23/23 [==============================] - 0s 3ms/step - loss: 49.9119\n",
      "Epoch 242/500\n",
      "23/23 [==============================] - 0s 3ms/step - loss: 57.9993\n",
      "Epoch 243/500\n",
      "23/23 [==============================] - 0s 3ms/step - loss: 64.9800\n",
      "Epoch 244/500\n",
      "23/23 [==============================] - 0s 3ms/step - loss: 56.7245\n",
      "Epoch 245/500\n",
      "23/23 [==============================] - 0s 3ms/step - loss: 54.6039\n",
      "Epoch 246/500\n",
      "23/23 [==============================] - 0s 3ms/step - loss: 57.4499\n",
      "Epoch 247/500\n",
      "23/23 [==============================] - 0s 3ms/step - loss: 52.0247\n",
      "Epoch 248/500\n",
      "23/23 [==============================] - 0s 3ms/step - loss: 48.0086\n",
      "Epoch 249/500\n",
      "23/23 [==============================] - 0s 3ms/step - loss: 52.0677\n",
      "Epoch 250/500\n",
      "23/23 [==============================] - 0s 2ms/step - loss: 49.1313\n",
      "Epoch 251/500\n",
      "23/23 [==============================] - 0s 2ms/step - loss: 51.5460\n",
      "Epoch 252/500\n",
      "23/23 [==============================] - 0s 3ms/step - loss: 44.6958\n",
      "Epoch 253/500\n",
      "23/23 [==============================] - 0s 3ms/step - loss: 45.0498\n",
      "Epoch 254/500\n",
      "23/23 [==============================] - 0s 3ms/step - loss: 41.1179\n",
      "Epoch 255/500\n",
      "23/23 [==============================] - 0s 3ms/step - loss: 44.6266\n",
      "Epoch 256/500\n",
      "23/23 [==============================] - 0s 3ms/step - loss: 46.3562\n",
      "Epoch 257/500\n",
      "23/23 [==============================] - 0s 2ms/step - loss: 50.4422\n",
      "Epoch 258/500\n",
      "23/23 [==============================] - 0s 2ms/step - loss: 51.4235\n",
      "Epoch 259/500\n",
      "23/23 [==============================] - 0s 3ms/step - loss: 42.5407\n",
      "Epoch 260/500\n",
      "23/23 [==============================] - 0s 3ms/step - loss: 49.8805\n",
      "Epoch 261/500\n",
      "23/23 [==============================] - 0s 2ms/step - loss: 49.9442\n",
      "Epoch 262/500\n",
      "23/23 [==============================] - 0s 2ms/step - loss: 47.7559\n",
      "Epoch 263/500\n",
      "23/23 [==============================] - 0s 3ms/step - loss: 42.8404\n",
      "Epoch 264/500\n",
      "23/23 [==============================] - 0s 3ms/step - loss: 40.2348\n",
      "Epoch 265/500\n",
      "23/23 [==============================] - 0s 3ms/step - loss: 45.2823\n",
      "Epoch 266/500\n",
      "23/23 [==============================] - 0s 3ms/step - loss: 46.0776\n",
      "Epoch 267/500\n",
      "23/23 [==============================] - 0s 3ms/step - loss: 42.0527\n",
      "Epoch 268/500\n",
      "23/23 [==============================] - 0s 2ms/step - loss: 46.0514\n",
      "Epoch 269/500\n",
      "23/23 [==============================] - 0s 2ms/step - loss: 45.1101\n",
      "Epoch 270/500\n",
      "23/23 [==============================] - 0s 3ms/step - loss: 38.4277\n",
      "Epoch 271/500\n",
      "23/23 [==============================] - 0s 3ms/step - loss: 41.8766\n",
      "Epoch 272/500\n",
      "23/23 [==============================] - 0s 3ms/step - loss: 46.7885\n",
      "Epoch 273/500\n",
      "23/23 [==============================] - 0s 2ms/step - loss: 45.4243\n",
      "Epoch 274/500\n",
      "23/23 [==============================] - 0s 2ms/step - loss: 38.6772\n",
      "Epoch 275/500\n",
      "23/23 [==============================] - 0s 3ms/step - loss: 38.8078\n",
      "Epoch 276/500\n",
      "23/23 [==============================] - 0s 2ms/step - loss: 34.9383\n",
      "Epoch 277/500\n",
      "23/23 [==============================] - 0s 2ms/step - loss: 42.3177\n",
      "Epoch 278/500\n",
      "23/23 [==============================] - 0s 3ms/step - loss: 46.5935\n",
      "Epoch 279/500\n",
      "23/23 [==============================] - 0s 2ms/step - loss: 37.8859\n",
      "Epoch 280/500\n",
      "23/23 [==============================] - 0s 2ms/step - loss: 33.0810\n",
      "Epoch 281/500\n",
      "23/23 [==============================] - 0s 3ms/step - loss: 36.1803\n",
      "Epoch 282/500\n",
      "23/23 [==============================] - 0s 3ms/step - loss: 36.3338\n",
      "Epoch 283/500\n",
      "23/23 [==============================] - 0s 2ms/step - loss: 50.6272\n",
      "Epoch 284/500\n",
      "23/23 [==============================] - 0s 3ms/step - loss: 39.3154\n",
      "Epoch 285/500\n",
      "23/23 [==============================] - 0s 3ms/step - loss: 40.1398\n",
      "Epoch 286/500\n",
      "23/23 [==============================] - 0s 3ms/step - loss: 34.5676\n",
      "Epoch 287/500\n",
      "23/23 [==============================] - 0s 2ms/step - loss: 34.7671\n",
      "Epoch 288/500\n",
      "23/23 [==============================] - 0s 3ms/step - loss: 32.7412\n",
      "Epoch 289/500\n",
      "23/23 [==============================] - 0s 3ms/step - loss: 36.4895\n",
      "Epoch 290/500\n",
      "23/23 [==============================] - 0s 3ms/step - loss: 40.5768\n",
      "Epoch 291/500\n",
      "23/23 [==============================] - 0s 2ms/step - loss: 37.3149\n",
      "Epoch 292/500\n",
      "23/23 [==============================] - 0s 3ms/step - loss: 36.6497\n",
      "Epoch 293/500\n",
      "23/23 [==============================] - 0s 3ms/step - loss: 37.2312\n",
      "Epoch 294/500\n",
      "23/23 [==============================] - 0s 3ms/step - loss: 32.3708\n",
      "Epoch 295/500\n"
     ]
    },
    {
     "name": "stdout",
     "output_type": "stream",
     "text": [
      "23/23 [==============================] - 0s 3ms/step - loss: 33.7658\n",
      "Epoch 296/500\n",
      "23/23 [==============================] - 0s 3ms/step - loss: 32.7747\n",
      "Epoch 297/500\n",
      "23/23 [==============================] - 0s 3ms/step - loss: 28.3474\n",
      "Epoch 298/500\n",
      "23/23 [==============================] - 0s 3ms/step - loss: 33.2103\n",
      "Epoch 299/500\n",
      "23/23 [==============================] - 0s 3ms/step - loss: 40.2735\n",
      "Epoch 300/500\n",
      "23/23 [==============================] - 0s 2ms/step - loss: 33.0705\n",
      "Epoch 301/500\n",
      "23/23 [==============================] - 0s 2ms/step - loss: 33.1197\n",
      "Epoch 302/500\n",
      "23/23 [==============================] - 0s 2ms/step - loss: 32.0204\n",
      "Epoch 303/500\n",
      "23/23 [==============================] - 0s 2ms/step - loss: 31.7258\n",
      "Epoch 304/500\n",
      "23/23 [==============================] - 0s 3ms/step - loss: 32.2691\n",
      "Epoch 305/500\n",
      "23/23 [==============================] - 0s 2ms/step - loss: 29.4661\n",
      "Epoch 306/500\n",
      "23/23 [==============================] - 0s 3ms/step - loss: 30.9871\n",
      "Epoch 307/500\n",
      "23/23 [==============================] - 0s 2ms/step - loss: 27.4016\n",
      "Epoch 308/500\n",
      "23/23 [==============================] - 0s 2ms/step - loss: 30.0048\n",
      "Epoch 309/500\n",
      "23/23 [==============================] - 0s 2ms/step - loss: 29.4347\n",
      "Epoch 310/500\n",
      "23/23 [==============================] - 0s 3ms/step - loss: 25.4932\n",
      "Epoch 311/500\n",
      "23/23 [==============================] - 0s 3ms/step - loss: 31.3881\n",
      "Epoch 312/500\n",
      "23/23 [==============================] - 0s 3ms/step - loss: 30.5205\n",
      "Epoch 313/500\n",
      "23/23 [==============================] - 0s 2ms/step - loss: 28.1359\n",
      "Epoch 314/500\n",
      "23/23 [==============================] - 0s 3ms/step - loss: 25.3797\n",
      "Epoch 315/500\n",
      "23/23 [==============================] - 0s 3ms/step - loss: 24.3995\n",
      "Epoch 316/500\n",
      "23/23 [==============================] - 0s 3ms/step - loss: 33.0199\n",
      "Epoch 317/500\n",
      "23/23 [==============================] - 0s 3ms/step - loss: 28.5679\n",
      "Epoch 318/500\n",
      "23/23 [==============================] - 0s 3ms/step - loss: 29.0685\n",
      "Epoch 319/500\n",
      "23/23 [==============================] - 0s 2ms/step - loss: 29.3006\n",
      "Epoch 320/500\n",
      "23/23 [==============================] - 0s 3ms/step - loss: 27.8946\n",
      "Epoch 321/500\n",
      "23/23 [==============================] - 0s 3ms/step - loss: 29.1985\n",
      "Epoch 322/500\n",
      "23/23 [==============================] - 0s 3ms/step - loss: 32.2797\n",
      "Epoch 323/500\n",
      "23/23 [==============================] - 0s 2ms/step - loss: 28.4334\n",
      "Epoch 324/500\n",
      "23/23 [==============================] - 0s 3ms/step - loss: 26.8626\n",
      "Epoch 325/500\n",
      "23/23 [==============================] - 0s 3ms/step - loss: 24.3352\n",
      "Epoch 326/500\n",
      "23/23 [==============================] - 0s 3ms/step - loss: 29.3827\n",
      "Epoch 327/500\n",
      "23/23 [==============================] - 0s 3ms/step - loss: 31.8064\n",
      "Epoch 328/500\n",
      "23/23 [==============================] - 0s 3ms/step - loss: 31.5633\n",
      "Epoch 329/500\n",
      "23/23 [==============================] - 0s 3ms/step - loss: 28.9708\n",
      "Epoch 330/500\n",
      "23/23 [==============================] - 0s 3ms/step - loss: 24.8708\n",
      "Epoch 331/500\n",
      "23/23 [==============================] - 0s 3ms/step - loss: 24.2063\n",
      "Epoch 332/500\n",
      "23/23 [==============================] - 0s 3ms/step - loss: 30.6768\n",
      "Epoch 333/500\n",
      "23/23 [==============================] - 0s 3ms/step - loss: 26.6851\n",
      "Epoch 334/500\n",
      "23/23 [==============================] - 0s 4ms/step - loss: 24.1575\n",
      "Epoch 335/500\n",
      "23/23 [==============================] - 0s 3ms/step - loss: 27.3891\n",
      "Epoch 336/500\n",
      "23/23 [==============================] - 0s 3ms/step - loss: 27.4409\n",
      "Epoch 337/500\n",
      "23/23 [==============================] - 0s 3ms/step - loss: 29.6539\n",
      "Epoch 338/500\n",
      "23/23 [==============================] - 0s 3ms/step - loss: 23.5911\n",
      "Epoch 339/500\n",
      "23/23 [==============================] - 0s 3ms/step - loss: 28.3040\n",
      "Epoch 340/500\n",
      "23/23 [==============================] - 0s 3ms/step - loss: 25.2885\n",
      "Epoch 341/500\n",
      "23/23 [==============================] - 0s 3ms/step - loss: 25.9130\n",
      "Epoch 342/500\n",
      "23/23 [==============================] - 0s 3ms/step - loss: 25.6482\n",
      "Epoch 343/500\n",
      "23/23 [==============================] - 0s 2ms/step - loss: 29.9953\n",
      "Epoch 344/500\n",
      "23/23 [==============================] - 0s 2ms/step - loss: 25.7345\n",
      "Epoch 345/500\n",
      "23/23 [==============================] - 0s 2ms/step - loss: 26.1348\n",
      "Epoch 346/500\n",
      "23/23 [==============================] - 0s 2ms/step - loss: 26.0847\n",
      "Epoch 347/500\n",
      "23/23 [==============================] - 0s 2ms/step - loss: 22.8149\n",
      "Epoch 348/500\n",
      "23/23 [==============================] - 0s 2ms/step - loss: 24.7004\n",
      "Epoch 349/500\n",
      "23/23 [==============================] - 0s 3ms/step - loss: 23.9877\n",
      "Epoch 350/500\n",
      "23/23 [==============================] - 0s 3ms/step - loss: 23.6451\n",
      "Epoch 351/500\n",
      "23/23 [==============================] - 0s 3ms/step - loss: 27.6891\n",
      "Epoch 352/500\n",
      "23/23 [==============================] - 0s 3ms/step - loss: 23.3150\n",
      "Epoch 353/500\n",
      "23/23 [==============================] - 0s 3ms/step - loss: 22.3029\n",
      "Epoch 354/500\n",
      "23/23 [==============================] - 0s 2ms/step - loss: 25.0761\n",
      "Epoch 355/500\n",
      "23/23 [==============================] - 0s 3ms/step - loss: 24.6203\n",
      "Epoch 356/500\n",
      "23/23 [==============================] - 0s 3ms/step - loss: 20.1521\n",
      "Epoch 357/500\n",
      "23/23 [==============================] - 0s 3ms/step - loss: 24.1469\n",
      "Epoch 358/500\n",
      "23/23 [==============================] - 0s 2ms/step - loss: 28.8169\n",
      "Epoch 359/500\n",
      "23/23 [==============================] - 0s 3ms/step - loss: 27.6701\n",
      "Epoch 360/500\n",
      "23/23 [==============================] - 0s 2ms/step - loss: 19.8531\n",
      "Epoch 361/500\n",
      "23/23 [==============================] - 0s 4ms/step - loss: 19.7388\n",
      "Epoch 362/500\n",
      "23/23 [==============================] - 0s 3ms/step - loss: 28.3726\n",
      "Epoch 363/500\n",
      "23/23 [==============================] - 0s 3ms/step - loss: 27.5918\n",
      "Epoch 364/500\n",
      "23/23 [==============================] - 0s 3ms/step - loss: 22.0545\n",
      "Epoch 365/500\n",
      "23/23 [==============================] - 0s 3ms/step - loss: 23.2810\n",
      "Epoch 366/500\n",
      "23/23 [==============================] - 0s 3ms/step - loss: 24.0116\n",
      "Epoch 367/500\n",
      "23/23 [==============================] - 0s 2ms/step - loss: 25.3643\n",
      "Epoch 368/500\n",
      "23/23 [==============================] - 0s 3ms/step - loss: 24.1659\n",
      "Epoch 369/500\n",
      "23/23 [==============================] - 0s 3ms/step - loss: 23.0186\n",
      "Epoch 370/500\n",
      "23/23 [==============================] - 0s 4ms/step - loss: 20.7345\n",
      "Epoch 371/500\n",
      "23/23 [==============================] - 0s 3ms/step - loss: 22.0225\n",
      "Epoch 372/500\n",
      "23/23 [==============================] - 0s 3ms/step - loss: 20.7709\n",
      "Epoch 373/500\n",
      "23/23 [==============================] - 0s 3ms/step - loss: 21.0089\n",
      "Epoch 374/500\n",
      "23/23 [==============================] - 0s 3ms/step - loss: 22.7502\n",
      "Epoch 375/500\n",
      "23/23 [==============================] - 0s 3ms/step - loss: 22.7161\n",
      "Epoch 376/500\n",
      "23/23 [==============================] - 0s 3ms/step - loss: 22.8319\n",
      "Epoch 377/500\n",
      "23/23 [==============================] - 0s 3ms/step - loss: 24.9420\n",
      "Epoch 378/500\n",
      "23/23 [==============================] - 0s 3ms/step - loss: 23.8654\n",
      "Epoch 379/500\n",
      "23/23 [==============================] - 0s 2ms/step - loss: 23.0165\n",
      "Epoch 380/500\n",
      "23/23 [==============================] - 0s 3ms/step - loss: 25.0237\n",
      "Epoch 381/500\n",
      "23/23 [==============================] - 0s 3ms/step - loss: 24.5059\n",
      "Epoch 382/500\n",
      "23/23 [==============================] - 0s 3ms/step - loss: 21.8637\n",
      "Epoch 383/500\n",
      "23/23 [==============================] - 0s 3ms/step - loss: 32.3774\n",
      "Epoch 384/500\n",
      "23/23 [==============================] - 0s 3ms/step - loss: 21.3846\n",
      "Epoch 385/500\n",
      "23/23 [==============================] - 0s 3ms/step - loss: 22.8073\n",
      "Epoch 386/500\n",
      "23/23 [==============================] - 0s 3ms/step - loss: 18.8331\n",
      "Epoch 387/500\n",
      "23/23 [==============================] - 0s 3ms/step - loss: 26.6008\n",
      "Epoch 388/500\n",
      "23/23 [==============================] - 0s 3ms/step - loss: 20.8203\n",
      "Epoch 389/500\n",
      "23/23 [==============================] - 0s 3ms/step - loss: 25.6875\n",
      "Epoch 390/500\n",
      "23/23 [==============================] - 0s 3ms/step - loss: 20.9894\n",
      "Epoch 391/500\n",
      "23/23 [==============================] - 0s 3ms/step - loss: 22.8028\n",
      "Epoch 392/500\n",
      "23/23 [==============================] - 0s 3ms/step - loss: 20.2758\n",
      "Epoch 393/500\n"
     ]
    },
    {
     "name": "stdout",
     "output_type": "stream",
     "text": [
      "23/23 [==============================] - 0s 3ms/step - loss: 21.0292\n",
      "Epoch 394/500\n",
      "23/23 [==============================] - 0s 3ms/step - loss: 21.0388\n",
      "Epoch 395/500\n",
      "23/23 [==============================] - 0s 3ms/step - loss: 21.0218\n",
      "Epoch 396/500\n",
      "23/23 [==============================] - 0s 4ms/step - loss: 19.8777\n",
      "Epoch 397/500\n",
      "23/23 [==============================] - 0s 3ms/step - loss: 21.0982\n",
      "Epoch 398/500\n",
      "23/23 [==============================] - 0s 3ms/step - loss: 23.8841\n",
      "Epoch 399/500\n",
      "23/23 [==============================] - 0s 3ms/step - loss: 18.7339\n",
      "Epoch 400/500\n",
      "23/23 [==============================] - 0s 3ms/step - loss: 22.0267\n",
      "Epoch 401/500\n",
      "23/23 [==============================] - 0s 3ms/step - loss: 24.1379\n",
      "Epoch 402/500\n",
      "23/23 [==============================] - 0s 3ms/step - loss: 23.1535\n",
      "Epoch 403/500\n",
      "23/23 [==============================] - 0s 3ms/step - loss: 23.1623\n",
      "Epoch 404/500\n",
      "23/23 [==============================] - 0s 3ms/step - loss: 24.1392\n",
      "Epoch 405/500\n",
      "23/23 [==============================] - 0s 3ms/step - loss: 18.4924\n",
      "Epoch 406/500\n",
      "23/23 [==============================] - 0s 3ms/step - loss: 16.1118\n",
      "Epoch 407/500\n",
      "23/23 [==============================] - 0s 3ms/step - loss: 21.5967\n",
      "Epoch 408/500\n",
      "23/23 [==============================] - 0s 3ms/step - loss: 20.6012\n",
      "Epoch 409/500\n",
      "23/23 [==============================] - 0s 3ms/step - loss: 20.7557\n",
      "Epoch 410/500\n",
      "23/23 [==============================] - 0s 3ms/step - loss: 24.4805\n",
      "Epoch 411/500\n",
      "23/23 [==============================] - 0s 3ms/step - loss: 27.2637\n",
      "Epoch 412/500\n",
      "23/23 [==============================] - 0s 3ms/step - loss: 21.1141\n",
      "Epoch 413/500\n",
      "23/23 [==============================] - 0s 3ms/step - loss: 20.6887\n",
      "Epoch 414/500\n",
      "23/23 [==============================] - 0s 2ms/step - loss: 18.0506\n",
      "Epoch 415/500\n",
      "23/23 [==============================] - 0s 3ms/step - loss: 21.2802\n",
      "Epoch 416/500\n",
      "23/23 [==============================] - 0s 3ms/step - loss: 31.6237\n",
      "Epoch 417/500\n",
      "23/23 [==============================] - 0s 3ms/step - loss: 20.8068\n",
      "Epoch 418/500\n",
      "23/23 [==============================] - 0s 3ms/step - loss: 20.6574\n",
      "Epoch 419/500\n",
      "23/23 [==============================] - 0s 2ms/step - loss: 23.2258\n",
      "Epoch 420/500\n",
      "23/23 [==============================] - 0s 3ms/step - loss: 19.1524\n",
      "Epoch 421/500\n",
      "23/23 [==============================] - 0s 3ms/step - loss: 21.3393\n",
      "Epoch 422/500\n",
      "23/23 [==============================] - 0s 3ms/step - loss: 18.6334\n",
      "Epoch 423/500\n",
      "23/23 [==============================] - 0s 3ms/step - loss: 19.3320\n",
      "Epoch 424/500\n",
      "23/23 [==============================] - 0s 4ms/step - loss: 24.0318\n",
      "Epoch 425/500\n",
      "23/23 [==============================] - 0s 3ms/step - loss: 21.1515\n",
      "Epoch 426/500\n",
      "23/23 [==============================] - 0s 3ms/step - loss: 20.2548\n",
      "Epoch 427/500\n",
      "23/23 [==============================] - 0s 3ms/step - loss: 18.7965\n",
      "Epoch 428/500\n",
      "23/23 [==============================] - 0s 3ms/step - loss: 23.5206\n",
      "Epoch 429/500\n",
      "23/23 [==============================] - 0s 4ms/step - loss: 23.7351\n",
      "Epoch 430/500\n",
      "23/23 [==============================] - 0s 3ms/step - loss: 23.1344\n",
      "Epoch 431/500\n",
      "23/23 [==============================] - 0s 3ms/step - loss: 20.5256\n",
      "Epoch 432/500\n",
      "23/23 [==============================] - 0s 2ms/step - loss: 20.8985\n",
      "Epoch 433/500\n",
      "23/23 [==============================] - 0s 2ms/step - loss: 20.1035\n",
      "Epoch 434/500\n",
      "23/23 [==============================] - 0s 2ms/step - loss: 22.9113\n",
      "Epoch 435/500\n",
      "23/23 [==============================] - 0s 2ms/step - loss: 21.7504\n",
      "Epoch 436/500\n",
      "23/23 [==============================] - 0s 2ms/step - loss: 22.6242\n",
      "Epoch 437/500\n",
      "23/23 [==============================] - 0s 3ms/step - loss: 18.6372\n",
      "Epoch 438/500\n",
      "23/23 [==============================] - 0s 3ms/step - loss: 21.6599\n",
      "Epoch 439/500\n",
      "23/23 [==============================] - 0s 3ms/step - loss: 23.8088\n",
      "Epoch 440/500\n",
      "23/23 [==============================] - 0s 3ms/step - loss: 22.1357\n",
      "Epoch 441/500\n",
      "23/23 [==============================] - 0s 3ms/step - loss: 19.3556\n",
      "Epoch 442/500\n",
      "23/23 [==============================] - 0s 3ms/step - loss: 21.0636\n",
      "Epoch 443/500\n",
      "23/23 [==============================] - 0s 3ms/step - loss: 18.5053\n",
      "Epoch 444/500\n",
      "23/23 [==============================] - 0s 2ms/step - loss: 21.9410\n",
      "Epoch 445/500\n",
      "23/23 [==============================] - 0s 3ms/step - loss: 21.5741\n",
      "Epoch 446/500\n",
      "23/23 [==============================] - 0s 3ms/step - loss: 23.0709\n",
      "Epoch 447/500\n",
      "23/23 [==============================] - 0s 2ms/step - loss: 19.2039\n",
      "Epoch 448/500\n",
      "23/23 [==============================] - 0s 2ms/step - loss: 21.0223\n",
      "Epoch 449/500\n",
      "23/23 [==============================] - 0s 3ms/step - loss: 22.3480\n",
      "Epoch 450/500\n",
      "23/23 [==============================] - 0s 2ms/step - loss: 21.9437\n",
      "Epoch 451/500\n",
      "23/23 [==============================] - 0s 2ms/step - loss: 25.6022\n",
      "Epoch 452/500\n",
      "23/23 [==============================] - 0s 2ms/step - loss: 23.2503\n",
      "Epoch 453/500\n",
      "23/23 [==============================] - 0s 3ms/step - loss: 25.1034\n",
      "Epoch 454/500\n",
      "23/23 [==============================] - 0s 3ms/step - loss: 24.2546\n",
      "Epoch 455/500\n",
      "23/23 [==============================] - 0s 3ms/step - loss: 17.1873\n",
      "Epoch 456/500\n",
      "23/23 [==============================] - 0s 3ms/step - loss: 16.9631\n",
      "Epoch 457/500\n",
      "23/23 [==============================] - 0s 3ms/step - loss: 21.4534\n",
      "Epoch 458/500\n",
      "23/23 [==============================] - 0s 3ms/step - loss: 22.5764\n",
      "Epoch 459/500\n",
      "23/23 [==============================] - 0s 4ms/step - loss: 23.1955\n",
      "Epoch 460/500\n",
      "23/23 [==============================] - 0s 3ms/step - loss: 20.1430\n",
      "Epoch 461/500\n",
      "23/23 [==============================] - 0s 3ms/step - loss: 16.6094\n",
      "Epoch 462/500\n",
      "23/23 [==============================] - 0s 2ms/step - loss: 22.8759\n",
      "Epoch 463/500\n",
      "23/23 [==============================] - 0s 3ms/step - loss: 20.2541\n",
      "Epoch 464/500\n",
      "23/23 [==============================] - 0s 3ms/step - loss: 19.8746\n",
      "Epoch 465/500\n",
      "23/23 [==============================] - 0s 2ms/step - loss: 26.3080\n",
      "Epoch 466/500\n",
      "23/23 [==============================] - 0s 3ms/step - loss: 25.2039\n",
      "Epoch 467/500\n",
      "23/23 [==============================] - 0s 2ms/step - loss: 22.1212\n",
      "Epoch 468/500\n",
      "23/23 [==============================] - 0s 3ms/step - loss: 24.9688\n",
      "Epoch 469/500\n",
      "23/23 [==============================] - 0s 3ms/step - loss: 21.7760\n",
      "Epoch 470/500\n",
      "23/23 [==============================] - 0s 2ms/step - loss: 23.6713\n",
      "Epoch 471/500\n",
      "23/23 [==============================] - 0s 3ms/step - loss: 23.9374\n",
      "Epoch 472/500\n",
      "23/23 [==============================] - 0s 3ms/step - loss: 22.8998\n",
      "Epoch 473/500\n",
      "23/23 [==============================] - 0s 3ms/step - loss: 26.0168\n",
      "Epoch 474/500\n",
      "23/23 [==============================] - 0s 3ms/step - loss: 21.5667\n",
      "Epoch 475/500\n",
      "23/23 [==============================] - 0s 3ms/step - loss: 21.1138\n",
      "Epoch 476/500\n",
      "23/23 [==============================] - 0s 3ms/step - loss: 21.4587\n",
      "Epoch 477/500\n",
      "23/23 [==============================] - 0s 2ms/step - loss: 23.9564\n",
      "Epoch 478/500\n",
      "23/23 [==============================] - 0s 3ms/step - loss: 21.4166\n",
      "Epoch 479/500\n",
      "23/23 [==============================] - 0s 3ms/step - loss: 21.0208\n",
      "Epoch 480/500\n",
      "23/23 [==============================] - 0s 3ms/step - loss: 18.1545\n",
      "Epoch 481/500\n",
      "23/23 [==============================] - 0s 3ms/step - loss: 23.2978\n",
      "Epoch 482/500\n",
      "23/23 [==============================] - 0s 2ms/step - loss: 26.9608\n",
      "Epoch 483/500\n",
      "23/23 [==============================] - 0s 3ms/step - loss: 21.4930\n",
      "Epoch 484/500\n",
      "23/23 [==============================] - 0s 2ms/step - loss: 20.0063\n",
      "Epoch 485/500\n",
      "23/23 [==============================] - ETA: 0s - loss: 10.44 - 0s 2ms/step - loss: 20.3270\n",
      "Epoch 486/500\n",
      "23/23 [==============================] - 0s 3ms/step - loss: 21.7732\n",
      "Epoch 487/500\n",
      "23/23 [==============================] - 0s 3ms/step - loss: 18.9108\n",
      "Epoch 488/500\n",
      "23/23 [==============================] - 0s 3ms/step - loss: 23.2369\n",
      "Epoch 489/500\n",
      "23/23 [==============================] - 0s 3ms/step - loss: 23.8207\n",
      "Epoch 490/500\n",
      "23/23 [==============================] - 0s 3ms/step - loss: 17.8251\n",
      "Epoch 491/500\n"
     ]
    },
    {
     "name": "stdout",
     "output_type": "stream",
     "text": [
      "23/23 [==============================] - 0s 3ms/step - loss: 20.9292\n",
      "Epoch 492/500\n",
      "23/23 [==============================] - 0s 2ms/step - loss: 21.2975\n",
      "Epoch 493/500\n",
      "23/23 [==============================] - 0s 3ms/step - loss: 19.3664\n",
      "Epoch 494/500\n",
      "23/23 [==============================] - 0s 3ms/step - loss: 20.7172\n",
      "Epoch 495/500\n",
      "23/23 [==============================] - 0s 3ms/step - loss: 25.9695\n",
      "Epoch 496/500\n",
      "23/23 [==============================] - 0s 3ms/step - loss: 19.9384\n",
      "Epoch 497/500\n",
      "23/23 [==============================] - 0s 3ms/step - loss: 19.5982\n",
      "Epoch 498/500\n",
      "23/23 [==============================] - 0s 3ms/step - loss: 23.1655\n",
      "Epoch 499/500\n",
      "23/23 [==============================] - 0s 4ms/step - loss: 19.8264\n",
      "Epoch 500/500\n",
      "23/23 [==============================] - 0s 3ms/step - loss: 18.8735\n"
     ]
    },
    {
     "data": {
      "text/plain": [
       "<tensorflow.python.keras.callbacks.History at 0x1d5c2591940>"
      ]
     },
     "execution_count": 23,
     "metadata": {},
     "output_type": "execute_result"
    }
   ],
   "source": [
    "model.fit(train['speed'], train['power'], epochs=500, batch_size=10)"
   ]
  },
  {
   "cell_type": "code",
   "execution_count": 24,
   "metadata": {},
   "outputs": [
    {
     "data": {
      "text/plain": [
       "<matplotlib.legend.Legend at 0x1d5c279f8e0>"
      ]
     },
     "execution_count": 24,
     "metadata": {},
     "output_type": "execute_result"
    },
    {
     "data": {
      "image/png": "[encoded data removed]",
      "text/plain": [
       "<Figure size 792x432 with 1 Axes>"
      ]
     },
     "metadata": {},
     "output_type": "display_data"
    }
   ],
   "source": [
    "plt.scatter(test['speed'], test['power'], label='actual')\n",
    "plt.plot(test['speed'], model.predict(test['speed']), label='prediction')\n",
    "plt.legend()"
   ]
  },
  {
   "cell_type": "code",
   "execution_count": 25,
   "metadata": {},
   "outputs": [
    {
     "name": "stdout",
     "output_type": "stream",
     "text": [
      "Model: \"sequential\"\n",
      "_________________________________________________________________\n",
      "Layer (type)                 Output Shape              Param #   \n",
      "=================================================================\n",
      "dense (Dense)                (None, 100)               200       \n",
      "_________________________________________________________________\n",
      "dense_1 (Dense)              (None, 100)               10100     \n",
      "_________________________________________________________________\n",
      "dense_2 (Dense)              (None, 1)                 101       \n",
      "=================================================================\n",
      "Total params: 10,401\n",
      "Trainable params: 10,401\n",
      "Non-trainable params: 0\n",
      "_________________________________________________________________\n"
     ]
    }
   ],
   "source": [
    "model.summary()"
   ]
  },
  {
   "cell_type": "code",
   "execution_count": 26,
   "metadata": {},
   "outputs": [],
   "source": [
    "model.save('my_model.h5')"
   ]
  },
  {
   "cell_type": "code",
   "execution_count": 27,
   "metadata": {},
   "outputs": [
    {
     "data": {
      "text/plain": [
       "array([[66.96124]], dtype=float32)"
      ]
     },
     "execution_count": 27,
     "metadata": {},
     "output_type": "execute_result"
    }
   ],
   "source": [
    "model.predict([14])"
   ]
  },
  {
   "cell_type": "code",
   "execution_count": null,
   "metadata": {},
   "outputs": [],
   "source": []
  },
  {
   "cell_type": "code",
   "execution_count": 28,
   "metadata": {},
   "outputs": [
    {
     "name": "stderr",
     "output_type": "stream",
     "text": [
      "<ipython-input-28-5eafad447be6>:1: FutureWarning: Support for multi-dimensional indexing (e.g. `obj[:, None]`) is deprecated and will be removed in a future version.  Convert to a numpy array before indexing instead.\n",
      "  lin_x = pp.speed[:, np.newaxis]\n",
      "<ipython-input-28-5eafad447be6>:2: FutureWarning: Support for multi-dimensional indexing (e.g. `obj[:, None]`) is deprecated and will be removed in a future version.  Convert to a numpy array before indexing instead.\n",
      "  lin_y = pp.power[:, np.newaxis]\n"
     ]
    }
   ],
   "source": [
    "lin_x = pp.speed[:, np.newaxis]\n",
    "lin_y = pp.power[:, np.newaxis]"
   ]
  },
  {
   "cell_type": "code",
   "execution_count": 29,
   "metadata": {},
   "outputs": [],
   "source": [
    "polynomial_features= PolynomialFeatures(degree=5)\n",
    "x_poly = polynomial_features.fit_transform(lin_x)"
   ]
  },
  {
   "cell_type": "code",
   "execution_count": 30,
   "metadata": {},
   "outputs": [],
   "source": [
    "lin_model = LinearRegression()\n",
    "lin_model.fit(x_poly, lin_y)\n",
    "y_poly_pred = lin_model.predict(x_poly)"
   ]
  },
  {
   "cell_type": "code",
   "execution_count": 31,
   "metadata": {},
   "outputs": [
    {
     "name": "stdout",
     "output_type": "stream",
     "text": [
      "4.438058874744193\n",
      "0.9879782627661895\n"
     ]
    }
   ],
   "source": [
    "\n",
    "rmse = np.sqrt(mean_squared_error(lin_y,y_poly_pred))\n",
    "r2 = r2_score(lin_y,y_poly_pred)\n",
    "print(rmse)\n",
    "print(r2)"
   ]
  },
  {
   "cell_type": "code",
   "execution_count": 32,
   "metadata": {},
   "outputs": [
    {
     "data": {
      "image/png": "[encoded data removed]",
      "text/plain": [
       "<Figure size 792x432 with 1 Axes>"
      ]
     },
     "metadata": {},
     "output_type": "display_data"
    }
   ],
   "source": [
    "\n",
    "plt.scatter(lin_x, lin_y, s=10)\n",
    "# sort the values of x before line plot\n",
    "# sort_axis = operator.itemgetter(0)\n",
    "# sorted_zip = sorted(zip(x,y_poly_pred), key=sort_axis)\n",
    "# x, y_poly_pred = zip(*sorted_zip)\n",
    "plt.plot(lin_x, y_poly_pred, color='m')\n",
    "plt.show()"
   ]
  },
  {
   "cell_type": "code",
   "execution_count": null,
   "metadata": {},
   "outputs": [],
   "source": []
  },
  {
   "cell_type": "code",
   "execution_count": null,
   "metadata": {},
   "outputs": [],
   "source": []
  },
  {
   "cell_type": "code",
   "execution_count": null,
   "metadata": {},
   "outputs": [],
   "source": []
  },
  {
   "cell_type": "code",
   "execution_count": null,
   "metadata": {},
   "outputs": [],
   "source": []
  },
  {
   "cell_type": "code",
   "execution_count": 33,
   "metadata": {},
   "outputs": [
    {
     "name": "stdout",
     "output_type": "stream",
     "text": [
      "10.120437473614711\n",
      "0.8537647164420812\n"
     ]
    }
   ],
   "source": [
    "np.random.seed(0)\n",
    "x = 2 - 3 * np.random.normal(0, 1, 20)\n",
    "y = x - 2 * (x ** 2) + 0.5 * (x ** 3) + np.random.normal(-3, 3, 20)\n",
    "\n",
    "# transforming the data to include another axis\n",
    "x = x[:, np.newaxis]\n",
    "y = y[:, np.newaxis]\n",
    "\n",
    "polynomial_features= PolynomialFeatures(degree=2)\n",
    "x_poly = polynomial_features.fit_transform(x)\n",
    "\n",
    "model = LinearRegression()\n",
    "model.fit(x_poly, y)\n",
    "y_poly_pred = model.predict(x_poly)\n",
    "\n",
    "rmse = np.sqrt(mean_squared_error(y,y_poly_pred))\n",
    "r2 = r2_score(y,y_poly_pred)\n",
    "print(rmse)\n",
    "print(r2)"
   ]
  },
  {
   "cell_type": "code",
   "execution_count": null,
   "metadata": {},
   "outputs": [],
   "source": []
  },
  {
   "cell_type": "code",
   "execution_count": null,
   "metadata": {},
   "outputs": [],
   "source": []
  },
  {
   "cell_type": "code",
   "execution_count": null,
   "metadata": {},
   "outputs": [],
   "source": []
  },
  {
   "cell_type": "code",
   "execution_count": null,
   "metadata": {},
   "outputs": [],
   "source": []
  },
  {
   "cell_type": "code",
   "execution_count": null,
   "metadata": {},
   "outputs": [],
   "source": []
  },
  {
   "cell_type": "code",
   "execution_count": null,
   "metadata": {},
   "outputs": [],
   "source": []
  },
  {
   "cell_type": "code",
   "execution_count": null,
   "metadata": {},
   "outputs": [],
   "source": []
  },
  {
   "cell_type": "code",
   "execution_count": null,
   "metadata": {},
   "outputs": [],
   "source": []
  },
  {
   "cell_type": "code",
   "execution_count": null,
   "metadata": {},
   "outputs": [],
   "source": []
  },
  {
   "cell_type": "code",
   "execution_count": null,
   "metadata": {},
   "outputs": [],
   "source": []
  },
  {
   "cell_type": "code",
   "execution_count": null,
   "metadata": {},
   "outputs": [],
   "source": []
  },
  {
   "cell_type": "code",
   "execution_count": null,
   "metadata": {},
   "outputs": [],
   "source": []
  },
  {
   "cell_type": "code",
   "execution_count": null,
   "metadata": {},
   "outputs": [],
   "source": []
  },
  {
   "cell_type": "code",
   "execution_count": null,
   "metadata": {},
   "outputs": [],
   "source": []
  },
  {
   "cell_type": "code",
   "execution_count": null,
   "metadata": {},
   "outputs": [],
   "source": []
  },
  {
   "cell_type": "code",
   "execution_count": null,
   "metadata": {},
   "outputs": [],
   "source": []
  },
  {
   "cell_type": "code",
   "execution_count": null,
   "metadata": {},
   "outputs": [],
   "source": []
  },
  {
   "cell_type": "code",
   "execution_count": null,
   "metadata": {},
   "outputs": [],
   "source": []
  },
  {
   "cell_type": "code",
   "execution_count": null,
   "metadata": {},
   "outputs": [],
   "source": []
  },
  {
   "cell_type": "code",
   "execution_count": null,
   "metadata": {},
   "outputs": [],
   "source": []
  },
  {
   "cell_type": "code",
   "execution_count": null,
   "metadata": {},
   "outputs": [],
   "source": []
  },
  {
   "cell_type": "code",
   "execution_count": null,
   "metadata": {},
   "outputs": [],
   "source": []
  },
  {
   "cell_type": "code",
   "execution_count": null,
   "metadata": {},
   "outputs": [],
   "source": []
  },
  {
   "cell_type": "markdown",
   "metadata": {},
   "source": [
    "### References\n",
    "\n",
    "[1] w3schools.com; Numpy Introduction; https://www.w3schools.com/python/numpy_intro.asp <br>\n",
    "[2] w3schools.com; Pandas Tutorial https://www.w3schools.com/python/pandas_tutorial.asp <br>\n",
    "[3] w3schools.com; Matplotlib Pyplot; https://www.w3schools.com/python/matplotlib_pyplot.asp <br>\n",
    "[4] wikipedia.org; scikit_learn https://en.wikipedia.org/wiki/Scikit-learn <br>\n",
    "[5] tensorflow.org; https://www.tensorflow.org/ <br>\n",
    "[6] keras.io; https://keras.io/ <br>\n",
    "[7] youtube.com; Wind Turbine Power Curve description; https://www.youtube.com/watch?v=8tNOL4ZL9Do <br>\n",
    "[8] Brownlee, J.; Difference Between Classification and Regression in Machine Learning https://machinelearningmastery.com/classification-versus-regression-in-machine-learning/ <br>\n",
    "[9] *Ibid* <br>\n",
    "[10] Wikipedia.org; Regression analysis; https://en.wikipedia.org/wiki/Regression_analysis <br>\n",
    "[11] yale.edu; Linear Regression; http://www.stat.yale.edu/Courses/1997-98/101/linreg.htm <br>\n",
    "[12] wikipdeia.org; scikit-learn; https://en.wikipedia.org/wiki/Scikit-learn <br>\n",
    "[13] Brownlee, J; How to Remove Outliers for Machine Learning; https://machinelearningmastery.com/how-to-use-statistics-to-identify-outliers-in-data/ <br>\n",
    "[14] *Ibid* <br>\n",
    "[15] Frost, J; 5 Ways to Find Outliers in Your Data; https://statisticsbyjim.com/basics/outliers/ <br>\n",
    "[16] Detecting And Treating Outliers In Python — Part 2; https://towardsdatascience.com/detecting-and-treating-outliers-in-python-part-2-3a3319ec2c33 <br>\n",
    "[17] Pei, S. and Li, P., 2019; Wind Turbine Power Curve Modeling with a Hybrid Machine Learning Technique; https://www.researchgate.net/publication/337325612_Wind_Turbine_Power_Curve_Modeling_with_a_Hybrid_Machine_Learning_Technique <br>\n",
    "[14] realpython.com; Linear Regression in Python; https://realpython.com/linear-regression-in-python/ <br>"
   ]
  }
 ],
 "metadata": {
  "kernelspec": {
   "display_name": "Python 3",
   "language": "python",
   "name": "python3"
  },
  "language_info": {
   "codemirror_mode": {
    "name": "ipython",
    "version": 3
   },
   "file_extension": ".py",
   "mimetype": "text/x-python",
   "name": "python",
   "nbconvert_exporter": "python",
   "pygments_lexer": "ipython3",
   "version": "3.8.5"
  }
 },
 "nbformat": 4,
 "nbformat_minor": 4
}
