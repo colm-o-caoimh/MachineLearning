{
 "cells": [
  {
   "cell_type": "markdown",
   "metadata": {},
   "source": [
    "## Machine Learning and Statistics Project 2020\n",
    "***\n"
   ]
  },
  {
   "cell_type": "markdown",
   "metadata": {},
   "source": [
    "The aim of this project is to create a web service that uses machine learning to make predictions based on the data set 'powerproduction'. The goal is to produce a model that accurately predicts wind turbine power output from wind speed values, as in the data set. Then, to develop a web service that will respond with predicted power values based on speed values sent as HTTP requests."
   ]
  },
  {
   "cell_type": "markdown",
   "metadata": {},
   "source": [
    "<br>\n",
    "\n"
   ]
  },
  {
   "cell_type": "markdown",
   "metadata": {},
   "source": [
    "<br>\n",
    "\n",
    "## Introduction\n",
    "\n",
    "***"
   ]
  },
  {
   "cell_type": "markdown",
   "metadata": {},
   "source": [
    "There are a number of steps involved in creating an accurate predictive model as described in the project brief. This project follows these steps, providing explanations for the choice of model used through analysis of the *powerproduction* data set. With this in mind, it is divided into the following sections:\n",
    "\n",
    "* Preliminary Analysis\n",
    "* Function Approximation (Regression vs Classification)\n",
    "* Regression with `scikit-learn`\n",
    "* Regression with `keras`\n",
    "* Model evaluation"
   ]
  },
  {
   "cell_type": "markdown",
   "metadata": {},
   "source": [
    "<br>\n",
    "\n"
   ]
  },
  {
   "cell_type": "markdown",
   "metadata": {},
   "source": [
    "## 1. Preliminary Analysis\n",
    "\n",
    "***"
   ]
  },
  {
   "cell_type": "markdown",
   "metadata": {},
   "source": [
    "First, I import the modules needed and choose a style for visualisation throughout the project:\n",
    "\n",
    "* `numpy` is a python library which allows us to work with arrays, more suited to data analysis than traditional python `lists` [1] \n",
    "* `pandas` is suited to working with data sets and provides the DataFrame structure to make this more effective and efficient [2]. \n",
    "* `matplotlib.pyplot` is used for visualisation. It is a graph plotting library on which many visualisation packages are built in python. The `pyplot` submodule contains most of matplotlib's utilities [3]\n",
    "* With the `scikit-learn` library, we have access to numerous machine learning algorithms [4]. In this project it is used to generate predictive models and also to evaluate those models. \n",
    "* `tensorflow` is a machine learning platform with a focus on working with and training neural networks [5]. `keras` is an API built on tensorflow, providing an interface for working with neural networks [6]."
   ]
  },
  {
   "cell_type": "code",
   "execution_count": 1,
   "metadata": {},
   "outputs": [],
   "source": [
    "# Working with arrays\n",
    "import numpy as np\n",
    "\n",
    "# Working with dataframes\n",
    "import pandas as pd\n",
    "\n",
    "# Visualisation\n",
    "import matplotlib.pyplot as plt\n",
    "\n",
    "# Linear regression algorithm\n",
    "from sklearn.linear_model import LinearRegression\n",
    "\n",
    "# Working with more complex variable relationships\n",
    "from sklearn.preprocessing import PolynomialFeatures\n",
    "\n",
    "# Metrics for evaluation\n",
    "from sklearn.metrics import mean_squared_error, r2_score\n",
    "\n",
    "# Splitting data into train and test sets\n",
    "from sklearn.model_selection import train_test_split\n",
    "\n",
    "# Working with neural networks\n",
    "import tensorflow.keras as kr"
   ]
  },
  {
   "cell_type": "code",
   "execution_count": 40,
   "metadata": {},
   "outputs": [],
   "source": [
    "# Plot style\n",
    "plt.style.use('ggplot')\n",
    "\n",
    "# Plot size\n",
    "plt.rcParams['figure.figsize'] = [11, 6]"
   ]
  },
  {
   "cell_type": "markdown",
   "metadata": {},
   "source": [
    "Next, I read in the dataset using `pandas.read_csv` which stores the data in a pandas dataframe. I assign this to `pp` and output the first 10 rows. With `pandas.describe` we get a statistical summary of the data set:"
   ]
  },
  {
   "cell_type": "code",
   "execution_count": 170,
   "metadata": {},
   "outputs": [
    {
     "data": {
      "text/html": [
       "<div>\n",
       "<style scoped>\n",
       "    .dataframe tbody tr th:only-of-type {\n",
       "        vertical-align: middle;\n",
       "    }\n",
       "\n",
       "    .dataframe tbody tr th {\n",
       "        vertical-align: top;\n",
       "    }\n",
       "\n",
       "    .dataframe thead th {\n",
       "        text-align: right;\n",
       "    }\n",
       "</style>\n",
       "<table border=\"1\" class=\"dataframe\">\n",
       "  <thead>\n",
       "    <tr style=\"text-align: right;\">\n",
       "      <th></th>\n",
       "      <th>speed</th>\n",
       "      <th>power</th>\n",
       "    </tr>\n",
       "  </thead>\n",
       "  <tbody>\n",
       "    <tr>\n",
       "      <th>0</th>\n",
       "      <td>0.000</td>\n",
       "      <td>0.000</td>\n",
       "    </tr>\n",
       "    <tr>\n",
       "      <th>1</th>\n",
       "      <td>0.125</td>\n",
       "      <td>0.000</td>\n",
       "    </tr>\n",
       "    <tr>\n",
       "      <th>2</th>\n",
       "      <td>0.150</td>\n",
       "      <td>0.000</td>\n",
       "    </tr>\n",
       "    <tr>\n",
       "      <th>3</th>\n",
       "      <td>0.225</td>\n",
       "      <td>0.000</td>\n",
       "    </tr>\n",
       "    <tr>\n",
       "      <th>4</th>\n",
       "      <td>0.275</td>\n",
       "      <td>0.000</td>\n",
       "    </tr>\n",
       "    <tr>\n",
       "      <th>5</th>\n",
       "      <td>0.325</td>\n",
       "      <td>4.331</td>\n",
       "    </tr>\n",
       "    <tr>\n",
       "      <th>6</th>\n",
       "      <td>0.400</td>\n",
       "      <td>5.186</td>\n",
       "    </tr>\n",
       "    <tr>\n",
       "      <th>7</th>\n",
       "      <td>0.450</td>\n",
       "      <td>3.826</td>\n",
       "    </tr>\n",
       "    <tr>\n",
       "      <th>8</th>\n",
       "      <td>0.501</td>\n",
       "      <td>1.048</td>\n",
       "    </tr>\n",
       "    <tr>\n",
       "      <th>9</th>\n",
       "      <td>0.526</td>\n",
       "      <td>5.553</td>\n",
       "    </tr>\n",
       "  </tbody>\n",
       "</table>\n",
       "</div>"
      ],
      "text/plain": [
       "   speed  power\n",
       "0  0.000  0.000\n",
       "1  0.125  0.000\n",
       "2  0.150  0.000\n",
       "3  0.225  0.000\n",
       "4  0.275  0.000\n",
       "5  0.325  4.331\n",
       "6  0.400  5.186\n",
       "7  0.450  3.826\n",
       "8  0.501  1.048\n",
       "9  0.526  5.553"
      ]
     },
     "execution_count": 170,
     "metadata": {},
     "output_type": "execute_result"
    }
   ],
   "source": [
    "# Read in data set\n",
    "pp = pd.read_csv('powerproduction.csv')\n",
    "\n",
    "# Output first 10 rows\n",
    "pp.head(10)"
   ]
  },
  {
   "cell_type": "code",
   "execution_count": 171,
   "metadata": {},
   "outputs": [
    {
     "data": {
      "text/html": [
       "<div>\n",
       "<style scoped>\n",
       "    .dataframe tbody tr th:only-of-type {\n",
       "        vertical-align: middle;\n",
       "    }\n",
       "\n",
       "    .dataframe tbody tr th {\n",
       "        vertical-align: top;\n",
       "    }\n",
       "\n",
       "    .dataframe thead th {\n",
       "        text-align: right;\n",
       "    }\n",
       "</style>\n",
       "<table border=\"1\" class=\"dataframe\">\n",
       "  <thead>\n",
       "    <tr style=\"text-align: right;\">\n",
       "      <th></th>\n",
       "      <th>speed</th>\n",
       "      <th>power</th>\n",
       "    </tr>\n",
       "  </thead>\n",
       "  <tbody>\n",
       "    <tr>\n",
       "      <th>count</th>\n",
       "      <td>500.000000</td>\n",
       "      <td>500.000000</td>\n",
       "    </tr>\n",
       "    <tr>\n",
       "      <th>mean</th>\n",
       "      <td>12.590398</td>\n",
       "      <td>48.014584</td>\n",
       "    </tr>\n",
       "    <tr>\n",
       "      <th>std</th>\n",
       "      <td>7.224991</td>\n",
       "      <td>41.614572</td>\n",
       "    </tr>\n",
       "    <tr>\n",
       "      <th>min</th>\n",
       "      <td>0.000000</td>\n",
       "      <td>0.000000</td>\n",
       "    </tr>\n",
       "    <tr>\n",
       "      <th>25%</th>\n",
       "      <td>6.324750</td>\n",
       "      <td>5.288000</td>\n",
       "    </tr>\n",
       "    <tr>\n",
       "      <th>50%</th>\n",
       "      <td>12.550500</td>\n",
       "      <td>41.645500</td>\n",
       "    </tr>\n",
       "    <tr>\n",
       "      <th>75%</th>\n",
       "      <td>18.775250</td>\n",
       "      <td>93.537000</td>\n",
       "    </tr>\n",
       "    <tr>\n",
       "      <th>max</th>\n",
       "      <td>25.000000</td>\n",
       "      <td>113.556000</td>\n",
       "    </tr>\n",
       "  </tbody>\n",
       "</table>\n",
       "</div>"
      ],
      "text/plain": [
       "            speed       power\n",
       "count  500.000000  500.000000\n",
       "mean    12.590398   48.014584\n",
       "std      7.224991   41.614572\n",
       "min      0.000000    0.000000\n",
       "25%      6.324750    5.288000\n",
       "50%     12.550500   41.645500\n",
       "75%     18.775250   93.537000\n",
       "max     25.000000  113.556000"
      ]
     },
     "execution_count": 171,
     "metadata": {},
     "output_type": "execute_result"
    }
   ],
   "source": [
    "# Output summary statistics of data set\n",
    "pp.describe()"
   ]
  },
  {
   "cell_type": "markdown",
   "metadata": {},
   "source": [
    "The data set contains two continuous variables. To get an overview of the relationship between them, we can plot them using a scatterplot. Visualising this relationship is a useful first step in understanding what predictive model might be suitable. It can also offer other insights, such as the presence of outliers: "
   ]
  },
  {
   "cell_type": "code",
   "execution_count": 172,
   "metadata": {},
   "outputs": [
    {
     "data": {
      "text/plain": [
       "<matplotlib.collections.PathCollection at 0x2071f189f70>"
      ]
     },
     "execution_count": 172,
     "metadata": {},
     "output_type": "execute_result"
    },
    {
     "data": {
      "image/png": "[encoded data removed]",
      "text/plain": [
       "<Figure size 792x432 with 1 Axes>"
      ]
     },
     "metadata": {},
     "output_type": "display_data"
    }
   ],
   "source": [
    "# Plot data on a scatter plot\n",
    "plt.xlabel('speed (m/s)')\n",
    "plt.ylabel('power (kW)')\n",
    "plt.scatter(pp['speed'], pp['power'], color='brown', marker='o')"
   ]
  },
  {
   "cell_type": "markdown",
   "metadata": {},
   "source": [
    "#### Wind Turbine Power Curve\n",
    "This plot produces a visualisation of the typical wind turbine power curve. The *cut-in* wind speed is at ~7m/s, below which the turbine is producing hardly any power. Between wind speeds of ~7 and ~17m/s the power ramps up to what is known as the *rated power capacity*. From approximate speeds of ~17m/s the power generated remains constant, right up to ~25m/s, or the *cut-out* wind speed. While there is much potential power in the wind speed above the cut-out speed, the cost of making the turbine capable of producing power under these conditions outweights the benefits of more power being generated [7]. <br>\n",
    "\n",
    "#### Outliers\n",
    "What is also notable from the plot is the presence of seeming outliers in the data. There are a number of observations where no power (0kW) is being generated despite sufficiently high wind speeds. This is something which will be examined in greater detail below.\n",
    "\n",
    "#### What Predictive Model?\n",
    "Through visualisation we can get a preliminary indication of what model might best be suited when predicting power output from wind speed. Initial inclinations would suggest that this is a *regression* problem. Given that there are only two variables in the data set, simple linear regression may be an appropriate model although fitting a straight line to the data may not yield the most accurate predictions. It might be more suitable to fit a curve. The variables are clearly *positively* correlated between the *cut-in* speed and the *rated power capacity*. "
   ]
  },
  {
   "cell_type": "markdown",
   "metadata": {},
   "source": [
    "##### end section 1\n",
    "\n",
    "<br>\n",
    "\n"
   ]
  },
  {
   "cell_type": "markdown",
   "metadata": {},
   "source": [
    "## 2. Function Approximation: Classification vs Regression\n",
    "\n",
    "***"
   ]
  },
  {
   "cell_type": "markdown",
   "metadata": {},
   "source": [
    "*Function approximation* is the term used to describe the problem of approximating a mapping function from input variables to output variables. Generally speaking, function approximation problems can be divided into *classification* and *regression* tasks [8]. Deciding between which of these is most appropriate for the current project is the next step.\n",
    "\n",
    "#### Classification vs Regression\n",
    "\"Classification predictive modeling is the task of approximating a mapping function (f) from input variables (X) to *discrete* output variables (y)\" [9], while the output variables for regression models are *continuous* numeric variables. The aim of the current project is to predict power output from wind speed. As noted above, this is a continuous numeric variable which tells us that regression is an appropriate model/function for this task.\n",
    "\n",
    "#### Regression\n",
    "Regression is a statistical method which describes the relationship between a dependent variable and one or more independent variables [10]. Additionally, it is associated with fitting a line (or curve) to the data by plotting the line over the data points to get the best fit [11]. Taking a look data as plotted on a scatter plot, it is clear that we could fit a line (or curve) in order to accurately predict the dependent variable.\n",
    "\n"
   ]
  },
  {
   "cell_type": "markdown",
   "metadata": {},
   "source": [
    "##### end section 2\n",
    "\n",
    "<br>\n",
    "\n"
   ]
  },
  {
   "cell_type": "markdown",
   "metadata": {},
   "source": [
    "## 3. Regression with `scikit-learn`\n",
    "\n",
    "***"
   ]
  },
  {
   "cell_type": "markdown",
   "metadata": {},
   "source": [
    "`scikit-learn` is a machine learning library for the python programming language. It provides a range of machine learning algorithms and is used widely for the purposes of predictive modelling [12]. In the current project, `scikit-learn`'s `LinearRegression` model will be applied to the *powerproduction* data set. Additionally, the package provides a number of tools which will be used to prepare the data and evaluate the models created below.\n",
    "\n",
    "### 3.1 Data preparation\n",
    "\n",
    "***\n",
    "\n",
    "Before building the first model, it is necessary to prepare the data to maximise the ultimate accuracy of the predictions. Firstly, I use a function to dectect any outliers which may impact the performance of the models. Second, I split the data set into subsets using the *train-test split* procedure.\n"
   ]
  },
  {
   "cell_type": "markdown",
   "metadata": {},
   "source": [
    "#### 3.1.1 Outliers\n",
    "\n",
    "Before applying the linear regression model to the data set, it is important to remove any outliers so that the data we train and test the model on most accurately represents the situation at hand. The removal of outliers must be handled sensitively and cautiously so as not to misrepresent the data, and because every data set is different, there is often a lack of clearly defined rules around how to deal with them [13]. As we saw above, visualisation can give us a strong indication that some of the observations may need to be removed. However, statistical methods can also be used to detect extreme or unlikely values in a data set. \n",
    "\n",
    "##### Mahalonibis Distance\n",
    "\n",
    "In researching outlier detection, much of the online resources appeared to deal with *univariate* outliers [14], [15]. Additionally, detection tools available as part of the `scikit-learn` library e.g. `LocalOutlierFactor`, (which uses the nearest neighbours algorithm to detect outliers in a sample) were not suited to the current project. For *multivariate* outliers, a common statistical method of dection is the *Mahalonibis Distance* measure, which is \"... widely used distance metric for the detection of multivariate outliers...\" [16]. Indeed it has been applied to wind turbine curve modeling by a number of studies (e.g. Pei and Li, 2019) [17]. \n",
    "\n",
    "The code for the function below was found on an informative blog post [18] and applies Mahalonibis Distance to the data set to detect outliers. This function returns a list of index values for the rows containing outliers as detected by the method. I locate these rows using the `pandas.loc` method and remove them from the data set:"
   ]
  },
  {
   "cell_type": "code",
   "execution_count": 173,
   "metadata": {},
   "outputs": [],
   "source": [
    "import scipy as sp\n",
    "from scipy.stats import chi2\n",
    "from sklearn.covariance import MinCovDet\n",
    "\n",
    "# Set variable df to equal pp data set\n",
    "df = pp\n",
    "\n",
    "#Robust Mahalonibis Distance\n",
    "def robust_mahalanobis_method(df):\n",
    "    #Minimum covariance determinant\n",
    "    rng = np.random.RandomState(0)\n",
    "    real_cov = np.cov(df.values.T)\n",
    "    X = rng.multivariate_normal(mean=np.mean(df, axis=0), cov=real_cov, size=506)\n",
    "    cov = MinCovDet(random_state=0).fit(X)\n",
    "    mcd = cov.covariance_ #robust covariance metric\n",
    "    robust_mean = cov.location_  #robust mean\n",
    "    inv_covmat = sp.linalg.inv(mcd) #inverse covariance metric\n",
    "    \n",
    "    #Robust M-Distance\n",
    "    x_minus_mu = df - robust_mean\n",
    "    left_term = np.dot(x_minus_mu, inv_covmat)\n",
    "    mahal = np.dot(left_term, x_minus_mu.T)\n",
    "    md = np.sqrt(mahal.diagonal())\n",
    "    \n",
    "    #Flag as outlier\n",
    "    outlier = []\n",
    "    C = np.sqrt(chi2.ppf((1-0.001), df=df.shape[1]))#degrees of freedom = number of variables\n",
    "    for index, value in enumerate(md):\n",
    "        if value > C:\n",
    "            outlier.append(index)\n",
    "        else:\n",
    "            continue\n",
    "    return outlier, md\n",
    "\n",
    "outliers_mahal_rob, md_rb = robust_mahalanobis_method(df=df)"
   ]
  },
  {
   "cell_type": "code",
   "execution_count": 174,
   "metadata": {},
   "outputs": [
    {
     "data": {
      "text/html": [
       "<div>\n",
       "<style scoped>\n",
       "    .dataframe tbody tr th:only-of-type {\n",
       "        vertical-align: middle;\n",
       "    }\n",
       "\n",
       "    .dataframe tbody tr th {\n",
       "        vertical-align: top;\n",
       "    }\n",
       "\n",
       "    .dataframe thead th {\n",
       "        text-align: right;\n",
       "    }\n",
       "</style>\n",
       "<table border=\"1\" class=\"dataframe\">\n",
       "  <thead>\n",
       "    <tr style=\"text-align: right;\">\n",
       "      <th></th>\n",
       "      <th>speed</th>\n",
       "      <th>power</th>\n",
       "    </tr>\n",
       "  </thead>\n",
       "  <tbody>\n",
       "    <tr>\n",
       "      <th>340</th>\n",
       "      <td>17.167</td>\n",
       "      <td>0.0</td>\n",
       "    </tr>\n",
       "    <tr>\n",
       "      <th>404</th>\n",
       "      <td>20.095</td>\n",
       "      <td>0.0</td>\n",
       "    </tr>\n",
       "    <tr>\n",
       "      <th>456</th>\n",
       "      <td>22.998</td>\n",
       "      <td>0.0</td>\n",
       "    </tr>\n",
       "    <tr>\n",
       "      <th>490</th>\n",
       "      <td>24.499</td>\n",
       "      <td>0.0</td>\n",
       "    </tr>\n",
       "    <tr>\n",
       "      <th>491</th>\n",
       "      <td>24.525</td>\n",
       "      <td>0.0</td>\n",
       "    </tr>\n",
       "    <tr>\n",
       "      <th>492</th>\n",
       "      <td>24.575</td>\n",
       "      <td>0.0</td>\n",
       "    </tr>\n",
       "    <tr>\n",
       "      <th>493</th>\n",
       "      <td>24.650</td>\n",
       "      <td>0.0</td>\n",
       "    </tr>\n",
       "    <tr>\n",
       "      <th>494</th>\n",
       "      <td>24.750</td>\n",
       "      <td>0.0</td>\n",
       "    </tr>\n",
       "    <tr>\n",
       "      <th>495</th>\n",
       "      <td>24.775</td>\n",
       "      <td>0.0</td>\n",
       "    </tr>\n",
       "    <tr>\n",
       "      <th>496</th>\n",
       "      <td>24.850</td>\n",
       "      <td>0.0</td>\n",
       "    </tr>\n",
       "    <tr>\n",
       "      <th>497</th>\n",
       "      <td>24.875</td>\n",
       "      <td>0.0</td>\n",
       "    </tr>\n",
       "    <tr>\n",
       "      <th>498</th>\n",
       "      <td>24.950</td>\n",
       "      <td>0.0</td>\n",
       "    </tr>\n",
       "    <tr>\n",
       "      <th>499</th>\n",
       "      <td>25.000</td>\n",
       "      <td>0.0</td>\n",
       "    </tr>\n",
       "  </tbody>\n",
       "</table>\n",
       "</div>"
      ],
      "text/plain": [
       "      speed  power\n",
       "340  17.167    0.0\n",
       "404  20.095    0.0\n",
       "456  22.998    0.0\n",
       "490  24.499    0.0\n",
       "491  24.525    0.0\n",
       "492  24.575    0.0\n",
       "493  24.650    0.0\n",
       "494  24.750    0.0\n",
       "495  24.775    0.0\n",
       "496  24.850    0.0\n",
       "497  24.875    0.0\n",
       "498  24.950    0.0\n",
       "499  25.000    0.0"
      ]
     },
     "execution_count": 174,
     "metadata": {},
     "output_type": "execute_result"
    }
   ],
   "source": [
    "# Find rows containing outlier indices\n",
    "pp_outliers = pp.loc[ outliers_mahal_rob , : ]\n",
    "\n",
    "# Output dataframe of outliers\n",
    "pp_outliers"
   ]
  },
  {
   "cell_type": "markdown",
   "metadata": {},
   "source": [
    "Above is the data frame containing the outlier observations. All the outliers detected have a power value of 0kW. This is what was observed in the scatterplot. Below, I remove them from the data set, creating an updated data set `pp_clean` in the process:"
   ]
  },
  {
   "cell_type": "code",
   "execution_count": 175,
   "metadata": {},
   "outputs": [],
   "source": [
    "# Remove outliers from data set\n",
    "pp_clean = pp.drop(outliers_mahal_rob)"
   ]
  },
  {
   "cell_type": "code",
   "execution_count": 176,
   "metadata": {
    "scrolled": true
   },
   "outputs": [
    {
     "data": {
      "text/html": [
       "<div>\n",
       "<style scoped>\n",
       "    .dataframe tbody tr th:only-of-type {\n",
       "        vertical-align: middle;\n",
       "    }\n",
       "\n",
       "    .dataframe tbody tr th {\n",
       "        vertical-align: top;\n",
       "    }\n",
       "\n",
       "    .dataframe thead th {\n",
       "        text-align: right;\n",
       "    }\n",
       "</style>\n",
       "<table border=\"1\" class=\"dataframe\">\n",
       "  <thead>\n",
       "    <tr style=\"text-align: right;\">\n",
       "      <th></th>\n",
       "      <th>speed</th>\n",
       "      <th>power</th>\n",
       "    </tr>\n",
       "  </thead>\n",
       "  <tbody>\n",
       "    <tr>\n",
       "      <th>count</th>\n",
       "      <td>487.000000</td>\n",
       "      <td>487.000000</td>\n",
       "    </tr>\n",
       "    <tr>\n",
       "      <th>mean</th>\n",
       "      <td>12.294641</td>\n",
       "      <td>49.296287</td>\n",
       "    </tr>\n",
       "    <tr>\n",
       "      <th>std</th>\n",
       "      <td>7.077215</td>\n",
       "      <td>41.409933</td>\n",
       "    </tr>\n",
       "    <tr>\n",
       "      <th>min</th>\n",
       "      <td>0.000000</td>\n",
       "      <td>0.000000</td>\n",
       "    </tr>\n",
       "    <tr>\n",
       "      <th>25%</th>\n",
       "      <td>6.143500</td>\n",
       "      <td>5.769000</td>\n",
       "    </tr>\n",
       "    <tr>\n",
       "      <th>50%</th>\n",
       "      <td>12.337000</td>\n",
       "      <td>44.745000</td>\n",
       "    </tr>\n",
       "    <tr>\n",
       "      <th>75%</th>\n",
       "      <td>18.380500</td>\n",
       "      <td>93.733500</td>\n",
       "    </tr>\n",
       "    <tr>\n",
       "      <th>max</th>\n",
       "      <td>24.399000</td>\n",
       "      <td>113.556000</td>\n",
       "    </tr>\n",
       "  </tbody>\n",
       "</table>\n",
       "</div>"
      ],
      "text/plain": [
       "            speed       power\n",
       "count  487.000000  487.000000\n",
       "mean    12.294641   49.296287\n",
       "std      7.077215   41.409933\n",
       "min      0.000000    0.000000\n",
       "25%      6.143500    5.769000\n",
       "50%     12.337000   44.745000\n",
       "75%     18.380500   93.733500\n",
       "max     24.399000  113.556000"
      ]
     },
     "execution_count": 176,
     "metadata": {},
     "output_type": "execute_result"
    }
   ],
   "source": [
    "pp_clean.describe()"
   ]
  },
  {
   "cell_type": "markdown",
   "metadata": {},
   "source": [
    "<br>\n",
    "\n"
   ]
  },
  {
   "cell_type": "markdown",
   "metadata": {},
   "source": [
    "\n",
    "#### 3.1.2 Train-test split\n",
    "\n",
    "The goal of this project is to accurately predict wind turbine power output from wind speed values. Indeed, it is the aim of any predictive model to maximise the accuracy of model output. In machine learning, *evaluation* and *validation* are key aspects in measuring how accurate a model is in this regard [19]. To ensure that the potential for bias is minimized when evaluating model performance, it is common practice in supervised machine learning to apply the *train-test split* procedure. This involves training a model by splitting the data into subsets. The *train* subset is used to train the model while the *test* subset is held back in order to test the model's accuracy. Given that we already know the output values for the test subset, we can make informed comparisons between the predicted observed values. (It is worth pointing out that it may not always be appropriate as a technique to increase accuracy of prediction e.g. if the data set is too small [20].) \n",
    "\n"
   ]
  },
  {
   "cell_type": "markdown",
   "metadata": {},
   "source": [
    "<br>\n",
    "\n",
    "First, the `pp_clean` data set is split by column into two separate subsets, one containing each variable. :"
   ]
  },
  {
   "cell_type": "code",
   "execution_count": 177,
   "metadata": {},
   "outputs": [
    {
     "data": {
      "text/html": [
       "<div>\n",
       "<style scoped>\n",
       "    .dataframe tbody tr th:only-of-type {\n",
       "        vertical-align: middle;\n",
       "    }\n",
       "\n",
       "    .dataframe tbody tr th {\n",
       "        vertical-align: top;\n",
       "    }\n",
       "\n",
       "    .dataframe thead th {\n",
       "        text-align: right;\n",
       "    }\n",
       "</style>\n",
       "<table border=\"1\" class=\"dataframe\">\n",
       "  <thead>\n",
       "    <tr style=\"text-align: right;\">\n",
       "      <th></th>\n",
       "      <th>speed</th>\n",
       "    </tr>\n",
       "  </thead>\n",
       "  <tbody>\n",
       "    <tr>\n",
       "      <th>0</th>\n",
       "      <td>0.000</td>\n",
       "    </tr>\n",
       "    <tr>\n",
       "      <th>1</th>\n",
       "      <td>0.125</td>\n",
       "    </tr>\n",
       "    <tr>\n",
       "      <th>2</th>\n",
       "      <td>0.150</td>\n",
       "    </tr>\n",
       "    <tr>\n",
       "      <th>3</th>\n",
       "      <td>0.225</td>\n",
       "    </tr>\n",
       "    <tr>\n",
       "      <th>4</th>\n",
       "      <td>0.275</td>\n",
       "    </tr>\n",
       "    <tr>\n",
       "      <th>5</th>\n",
       "      <td>0.325</td>\n",
       "    </tr>\n",
       "    <tr>\n",
       "      <th>6</th>\n",
       "      <td>0.400</td>\n",
       "    </tr>\n",
       "    <tr>\n",
       "      <th>7</th>\n",
       "      <td>0.450</td>\n",
       "    </tr>\n",
       "    <tr>\n",
       "      <th>8</th>\n",
       "      <td>0.501</td>\n",
       "    </tr>\n",
       "    <tr>\n",
       "      <th>9</th>\n",
       "      <td>0.526</td>\n",
       "    </tr>\n",
       "  </tbody>\n",
       "</table>\n",
       "</div>"
      ],
      "text/plain": [
       "   speed\n",
       "0  0.000\n",
       "1  0.125\n",
       "2  0.150\n",
       "3  0.225\n",
       "4  0.275\n",
       "5  0.325\n",
       "6  0.400\n",
       "7  0.450\n",
       "8  0.501\n",
       "9  0.526"
      ]
     },
     "execution_count": 177,
     "metadata": {},
     "output_type": "execute_result"
    }
   ],
   "source": [
    "# Create a new dataset containing only values from the speed column\n",
    "speed_df = pp_clean.drop('power',axis='columns')\n",
    "\n",
    "#  Print first 10 rows\n",
    "speed_df.head(10)"
   ]
  },
  {
   "cell_type": "code",
   "execution_count": 178,
   "metadata": {},
   "outputs": [
    {
     "data": {
      "text/html": [
       "<div>\n",
       "<style scoped>\n",
       "    .dataframe tbody tr th:only-of-type {\n",
       "        vertical-align: middle;\n",
       "    }\n",
       "\n",
       "    .dataframe tbody tr th {\n",
       "        vertical-align: top;\n",
       "    }\n",
       "\n",
       "    .dataframe thead th {\n",
       "        text-align: right;\n",
       "    }\n",
       "</style>\n",
       "<table border=\"1\" class=\"dataframe\">\n",
       "  <thead>\n",
       "    <tr style=\"text-align: right;\">\n",
       "      <th></th>\n",
       "      <th>power</th>\n",
       "    </tr>\n",
       "  </thead>\n",
       "  <tbody>\n",
       "    <tr>\n",
       "      <th>0</th>\n",
       "      <td>0.000</td>\n",
       "    </tr>\n",
       "    <tr>\n",
       "      <th>1</th>\n",
       "      <td>0.000</td>\n",
       "    </tr>\n",
       "    <tr>\n",
       "      <th>2</th>\n",
       "      <td>0.000</td>\n",
       "    </tr>\n",
       "    <tr>\n",
       "      <th>3</th>\n",
       "      <td>0.000</td>\n",
       "    </tr>\n",
       "    <tr>\n",
       "      <th>4</th>\n",
       "      <td>0.000</td>\n",
       "    </tr>\n",
       "    <tr>\n",
       "      <th>5</th>\n",
       "      <td>4.331</td>\n",
       "    </tr>\n",
       "    <tr>\n",
       "      <th>6</th>\n",
       "      <td>5.186</td>\n",
       "    </tr>\n",
       "    <tr>\n",
       "      <th>7</th>\n",
       "      <td>3.826</td>\n",
       "    </tr>\n",
       "    <tr>\n",
       "      <th>8</th>\n",
       "      <td>1.048</td>\n",
       "    </tr>\n",
       "    <tr>\n",
       "      <th>9</th>\n",
       "      <td>5.553</td>\n",
       "    </tr>\n",
       "  </tbody>\n",
       "</table>\n",
       "</div>"
      ],
      "text/plain": [
       "   power\n",
       "0  0.000\n",
       "1  0.000\n",
       "2  0.000\n",
       "3  0.000\n",
       "4  0.000\n",
       "5  4.331\n",
       "6  5.186\n",
       "7  3.826\n",
       "8  1.048\n",
       "9  5.553"
      ]
     },
     "execution_count": 178,
     "metadata": {},
     "output_type": "execute_result"
    }
   ],
   "source": [
    "# Create a new dataset containing only values from the power column\n",
    "power_df = pp_clean.drop('speed',axis='columns')\n",
    "\n",
    "# Print first 10 rows\n",
    "power_df.head(10)"
   ]
  },
  {
   "cell_type": "markdown",
   "metadata": {},
   "source": [
    "<br>\n",
    "\n",
    "Next, I pass the speed_df and power_df dataframe subsets to `scikit-learn`'s `train_test_split` method and set the parameter *test_size* to 0.5. The test size indicates the size of the train and test sets. Common split percentages include\n",
    "\n",
    "* Train: 80%, Test: 20%\n",
    "* Train: 67%, Test: 33%\n",
    "* Train: 50%, Test: 50% [21]\n",
    "\n",
    "The values for the train and test subsets are randomly selected, so I set *random_state* to 1. This reproduces the same division of the data each time the program is run. Setting the seed also allows for more representative model comparison as well as parameter comparison when assessing the performance of different models and functions."
   ]
  },
  {
   "cell_type": "code",
   "execution_count": 179,
   "metadata": {},
   "outputs": [],
   "source": [
    "# Call train_test_split method on dataframes\n",
    "A_Train, A_Test, B_Train, B_Test = train_test_split(speed_df, power_df, test_size = 0.5, random_state=1)"
   ]
  },
  {
   "cell_type": "markdown",
   "metadata": {},
   "source": [
    "\n",
    "<br>\n",
    "\n",
    "### 3.2 Simple linear regression\n",
    "\n",
    "***\n",
    "\n",
    "Simple linear regression is \"... the simplest case of linear regression with a single independent variable\" [14]. The *powerproduction* data set contains one independent variable (speed) and one dependent variable (power).  function imported from Python's Scikit-learn library to produce a model. Simple linear regression can be applied when the data set contains only two variables - a dependent and independent variable. This is a condition which is filled by the 'powerproduction' data set.\n",
    "\n",
    "\n",
    "#### 3.2.1 Fitting the model\n",
    "\n",
    "I then create an instance of the `LinearRegression()` class and call the `fit` method, passing the training data as arguments. This will create a simple linear regression model:"
   ]
  },
  {
   "cell_type": "code",
   "execution_count": 180,
   "metadata": {},
   "outputs": [
    {
     "data": {
      "text/plain": [
       "LinearRegression()"
      ]
     },
     "execution_count": 180,
     "metadata": {},
     "output_type": "execute_result"
    }
   ],
   "source": [
    "# Create an instance of the LinearRegression class\n",
    "reg = LinearRegression()\n",
    "\n",
    "# Fit our data to the model\n",
    "#reg.fit(speed_df, power_df)\n",
    "reg.fit(A_Train, B_Train)"
   ]
  },
  {
   "cell_type": "markdown",
   "metadata": {},
   "source": [
    "#### Check performance\n",
    "\n",
    "With the training data now fit to the model, the next step is to use the `score` method to see how well the it is performing. This method calculates the the R-squared value (or coefficient of determination [16]). The R-squared value is a 'goodness-of-fit' measure which can give us an indication as to the accuracy of our regression model. The best possible score is 1.0, while a score of 0 or a negative value generally represents a worse-fitting line. The R-squared value \"indicates the percentage of the variance in the dependent variable that the independent variables explain collectively.\" [17] It is worth noting that a high R-squared does not necessarily always indicate the best fit [18].\n"
   ]
  },
  {
   "cell_type": "code",
   "execution_count": 181,
   "metadata": {},
   "outputs": [
    {
     "name": "stdout",
     "output_type": "stream",
     "text": [
      "0.9033195523632082\n"
     ]
    }
   ],
   "source": [
    "# Calculate R-squared value\n",
    "score = reg.score(A_Train, B_Train)\n",
    "\n",
    "# Print value\n",
    "print(score)"
   ]
  },
  {
   "cell_type": "markdown",
   "metadata": {},
   "source": [
    "#### Prediction\n",
    "\n",
    "Finally, I call the `predict` method on the test data for wind output prediction before plotting this to visualise how well the line fits the data:"
   ]
  },
  {
   "cell_type": "code",
   "execution_count": 160,
   "metadata": {},
   "outputs": [
    {
     "data": {
      "text/plain": [
       "<matplotlib.legend.Legend at 0x2071f147f70>"
      ]
     },
     "execution_count": 160,
     "metadata": {},
     "output_type": "execute_result"
    },
    {
     "data": {
      "image/png": "[encoded data removed]",
      "text/plain": [
       "<Figure size 792x432 with 1 Axes>"
      ]
     },
     "metadata": {},
     "output_type": "display_data"
    }
   ],
   "source": [
    "# Use model to make predictions\n",
    "prediction = reg.predict(A_Test)\n",
    "\n",
    "# Plot fitted line against data for visualisation\n",
    "plt.scatter(A_Test, B_Test, label='actual')\n",
    "plt.scatter(A_Test, prediction, label='prediction', color='b')\n",
    "\n",
    "plt.xlabel('speed (m/s)')\n",
    "plt.ylabel('power (kW)')\n",
    "plt.legend()"
   ]
  },
  {
   "cell_type": "markdown",
   "metadata": {},
   "source": [
    "We can see clearly that a straight line does not fit the data perfectly. For certain predictive models, an R-squared value of ~0.90 might be considered a satisfactory score. However for the current project, it makes sense to attempt to fit a curve to the data to maximise accuracy of predicted output. The following section applies polynomial regression to the data.\n",
    "\n",
    "#### Outlier vs no outlier\n",
    "Before moving to the next section, let us briefly create a model with the original data set (prior to outlier removal) in order to demonstrate the impact of dropping outliers from the data set:"
   ]
  },
  {
   "cell_type": "code",
   "execution_count": 184,
   "metadata": {},
   "outputs": [
    {
     "name": "stdout",
     "output_type": "stream",
     "text": [
      "0.7380879260677631\n"
     ]
    }
   ],
   "source": [
    "# Using original (pp) data set to train model \n",
    "speed_df_pp = pp.drop('power',axis='columns')\n",
    "power_df_pp = pp.drop('speed',axis='columns')\n",
    "\n",
    "# Train test split\n",
    "A_Train_pp, A_Test_pp, B_Train_pp, B_Test_pp = train_test_split(speed_df_pp, power_df_pp, test_size = 0.5, random_state=1)\n",
    "\n",
    "# Create model\n",
    "reg_pp = LinearRegression()\n",
    "\n",
    "# Fit model\n",
    "reg_pp.fit(A_Train_pp, B_Train_pp)\n",
    "\n",
    "# Calculate R-squared value\n",
    "score_pp = reg_pp.score(A_Train_pp, B_Train_pp)\n",
    "\n",
    "# Print score\n",
    "print(score_pp)"
   ]
  },
  {
   "cell_type": "markdown",
   "metadata": {},
   "source": [
    "When the model is trained using the original data set, we can see that there is a significant drop in the score. (~0.74 vs ~0.90). This demonstrates the importance of outlier removal, if appropriate."
   ]
  },
  {
   "cell_type": "markdown",
   "metadata": {},
   "source": [
    "<br>\n",
    "\n",
    "### Polynomial regression\n",
    "\n",
    "***"
   ]
  },
  {
   "cell_type": "code",
   "execution_count": 9,
   "metadata": {},
   "outputs": [],
   "source": []
  },
  {
   "cell_type": "markdown",
   "metadata": {},
   "source": []
  },
  {
   "cell_type": "code",
   "execution_count": null,
   "metadata": {},
   "outputs": [],
   "source": []
  },
  {
   "cell_type": "code",
   "execution_count": null,
   "metadata": {},
   "outputs": [],
   "source": []
  },
  {
   "cell_type": "code",
   "execution_count": null,
   "metadata": {},
   "outputs": [],
   "source": []
  },
  {
   "cell_type": "code",
   "execution_count": null,
   "metadata": {},
   "outputs": [],
   "source": []
  },
  {
   "cell_type": "markdown",
   "metadata": {},
   "source": []
  },
  {
   "cell_type": "markdown",
   "metadata": {},
   "source": [
    "<br>\n",
    "\n"
   ]
  },
  {
   "cell_type": "markdown",
   "metadata": {},
   "source": [
    "<br>\n"
   ]
  },
  {
   "cell_type": "code",
   "execution_count": 13,
   "metadata": {},
   "outputs": [
    {
     "data": {
      "text/plain": [
       "LinearRegression()"
      ]
     },
     "execution_count": 13,
     "metadata": {},
     "output_type": "execute_result"
    }
   ],
   "source": []
  },
  {
   "cell_type": "markdown",
   "metadata": {},
   "source": [
    "Once this is done, we can now test the model for accuracy. We can do this by calling a number of methods provided by the functionality of the `LinearRegresssion()` class.\n",
    "\n",
    "<br>\n",
    "\n",
    "First, I take a pick a value for speed and pass it to the `.predict` method"
   ]
  },
  {
   "cell_type": "code",
   "execution_count": 14,
   "metadata": {},
   "outputs": [],
   "source": [
    "# Predict method using a value for speed\n",
    "email = 10.89\n",
    "arr = reg.predict([[9.746]])"
   ]
  },
  {
   "cell_type": "markdown",
   "metadata": {},
   "source": []
  },
  {
   "cell_type": "markdown",
   "metadata": {},
   "source": []
  },
  {
   "cell_type": "markdown",
   "metadata": {},
   "source": [
    "<br>\n",
    "\n",
    "Next, I call the `intercept_` method to determine where the line intercepts the y-axis. And below that I use call `coef_` to get the slope of the line. This gives us all the values for formula for the best-fitting line: $$y = mx + b$$ where m is the slope, b is the y-interept and x is the independent variable [3].\n",
    "\n",
    "[3] dummies.com; How to calculate a regression line; https://www.dummies.com/education/math/statistics/how-to-calculate-a-regression-line/ <br>"
   ]
  },
  {
   "cell_type": "code",
   "execution_count": 15,
   "metadata": {},
   "outputs": [
    {
     "data": {
      "text/plain": [
       "array([-13.89990263])"
      ]
     },
     "execution_count": 15,
     "metadata": {},
     "output_type": "execute_result"
    }
   ],
   "source": [
    "# Call the intercept_ method to determine where the line intercepts the y-axis\n",
    "reg.intercept_"
   ]
  },
  {
   "cell_type": "code",
   "execution_count": 16,
   "metadata": {},
   "outputs": [
    {
     "data": {
      "text/plain": [
       "array([[4.91759567]])"
      ]
     },
     "execution_count": 16,
     "metadata": {},
     "output_type": "execute_result"
    }
   ],
   "source": [
    "# Call the coef_ method to calculate the slope of the line\n",
    "reg.coef_"
   ]
  },
  {
   "cell_type": "code",
   "execution_count": 17,
   "metadata": {},
   "outputs": [
    {
     "name": "stdout",
     "output_type": "stream",
     "text": [
      "34.02698476930036\n"
     ]
    }
   ],
   "source": [
    "# Set calculated values\n",
    "m = 4.91759567\n",
    "x = 9.746\n",
    "b = -13.899902630519641\n",
    "\n",
    "y = m*x + b\n",
    "print(y)"
   ]
  },
  {
   "cell_type": "markdown",
   "metadata": {},
   "source": [
    "As expected, we get the same result for y when we input these values into the formula (above)\n",
    "<br>\n",
    "\n"
   ]
  },
  {
   "cell_type": "markdown",
   "metadata": {},
   "source": []
  },
  {
   "cell_type": "code",
   "execution_count": 18,
   "metadata": {},
   "outputs": [
    {
     "data": {
      "text/plain": [
       "0.7289360258564072"
      ]
     },
     "execution_count": 18,
     "metadata": {},
     "output_type": "execute_result"
    }
   ],
   "source": [
    "# Calculate R-squared value\n",
    "reg.score(speed_df, power_df)"
   ]
  },
  {
   "cell_type": "markdown",
   "metadata": {},
   "source": [
    "<br>\n",
    "\n",
    "\n",
    "***"
   ]
  },
  {
   "cell_type": "code",
   "execution_count": 19,
   "metadata": {},
   "outputs": [],
   "source": []
  },
  {
   "cell_type": "code",
   "execution_count": null,
   "metadata": {},
   "outputs": [],
   "source": []
  },
  {
   "cell_type": "code",
   "execution_count": null,
   "metadata": {},
   "outputs": [],
   "source": []
  },
  {
   "cell_type": "code",
   "execution_count": null,
   "metadata": {},
   "outputs": [],
   "source": []
  },
  {
   "cell_type": "code",
   "execution_count": 20,
   "metadata": {},
   "outputs": [],
   "source": [
    "# pp = pp[pp.power != 0]\n"
   ]
  },
  {
   "cell_type": "code",
   "execution_count": 21,
   "metadata": {},
   "outputs": [],
   "source": [
    "x = pp['speed']\n",
    "y = pp['power']"
   ]
  },
  {
   "cell_type": "code",
   "execution_count": 22,
   "metadata": {},
   "outputs": [
    {
     "data": {
      "image/png": "[encoded data removed]",
      "text/plain": [
       "<Figure size 792x432 with 1 Axes>"
      ]
     },
     "metadata": {},
     "output_type": "display_data"
    }
   ],
   "source": [
    "mymodel = np.poly1d(np.polyfit(x, y, 6))\n",
    "\n",
    "myline = np.linspace(0, 25, 100)\n",
    "\n",
    "plt.scatter(x, y, color='red', marker='x')\n",
    "plt.plot(myline, mymodel(myline))\n",
    "plt.show()\n"
   ]
  },
  {
   "cell_type": "code",
   "execution_count": null,
   "metadata": {},
   "outputs": [],
   "source": []
  },
  {
   "cell_type": "code",
   "execution_count": null,
   "metadata": {},
   "outputs": [],
   "source": []
  },
  {
   "cell_type": "code",
   "execution_count": null,
   "metadata": {},
   "outputs": [],
   "source": []
  },
  {
   "cell_type": "code",
   "execution_count": null,
   "metadata": {},
   "outputs": [],
   "source": []
  },
  {
   "cell_type": "markdown",
   "metadata": {},
   "source": [
    "## Neural network - Regression\n",
    "\n",
    "***"
   ]
  },
  {
   "cell_type": "code",
   "execution_count": 23,
   "metadata": {
    "scrolled": true
   },
   "outputs": [
    {
     "data": {
      "text/html": [
       "<div>\n",
       "<style scoped>\n",
       "    .dataframe tbody tr th:only-of-type {\n",
       "        vertical-align: middle;\n",
       "    }\n",
       "\n",
       "    .dataframe tbody tr th {\n",
       "        vertical-align: top;\n",
       "    }\n",
       "\n",
       "    .dataframe thead th {\n",
       "        text-align: right;\n",
       "    }\n",
       "</style>\n",
       "<table border=\"1\" class=\"dataframe\">\n",
       "  <thead>\n",
       "    <tr style=\"text-align: right;\">\n",
       "      <th></th>\n",
       "      <th>speed</th>\n",
       "      <th>power</th>\n",
       "    </tr>\n",
       "  </thead>\n",
       "  <tbody>\n",
       "    <tr>\n",
       "      <th>count</th>\n",
       "      <td>451.000000</td>\n",
       "      <td>451.000000</td>\n",
       "    </tr>\n",
       "    <tr>\n",
       "      <th>mean</th>\n",
       "      <td>13.004302</td>\n",
       "      <td>53.231246</td>\n",
       "    </tr>\n",
       "    <tr>\n",
       "      <th>std</th>\n",
       "      <td>6.835979</td>\n",
       "      <td>40.522055</td>\n",
       "    </tr>\n",
       "    <tr>\n",
       "      <th>min</th>\n",
       "      <td>0.325000</td>\n",
       "      <td>0.067000</td>\n",
       "    </tr>\n",
       "    <tr>\n",
       "      <th>25%</th>\n",
       "      <td>7.344500</td>\n",
       "      <td>8.543500</td>\n",
       "    </tr>\n",
       "    <tr>\n",
       "      <th>50%</th>\n",
       "      <td>13.038000</td>\n",
       "      <td>58.168000</td>\n",
       "    </tr>\n",
       "    <tr>\n",
       "      <th>75%</th>\n",
       "      <td>18.781500</td>\n",
       "      <td>94.725500</td>\n",
       "    </tr>\n",
       "    <tr>\n",
       "      <th>max</th>\n",
       "      <td>24.399000</td>\n",
       "      <td>113.556000</td>\n",
       "    </tr>\n",
       "  </tbody>\n",
       "</table>\n",
       "</div>"
      ],
      "text/plain": [
       "            speed       power\n",
       "count  451.000000  451.000000\n",
       "mean    13.004302   53.231246\n",
       "std      6.835979   40.522055\n",
       "min      0.325000    0.067000\n",
       "25%      7.344500    8.543500\n",
       "50%     13.038000   58.168000\n",
       "75%     18.781500   94.725500\n",
       "max     24.399000  113.556000"
      ]
     },
     "execution_count": 23,
     "metadata": {},
     "output_type": "execute_result"
    }
   ],
   "source": [
    "pp = pp[pp.power != 0]\n",
    "pp.describe()"
   ]
  },
  {
   "cell_type": "code",
   "execution_count": 24,
   "metadata": {},
   "outputs": [],
   "source": [
    "# Create neural network with one neuron\n",
    "def create_model():\n",
    "    model = kr.models.Sequential()\n",
    "    model.add(kr.Input(shape=(1,)))\n",
    "    model.add(kr.layers.Dense(100, activation='relu', kernel_initializer='glorot_uniform', bias_initializer='glorot_uniform'))\n",
    "    model.add(kr.layers.Dense(100, activation='relu', kernel_initializer='glorot_uniform', bias_initializer='glorot_uniform'))\n",
    "    model.add(kr.layers.Dense(1, activation='linear', kernel_initializer='glorot_uniform', bias_initializer='glorot_uniform'))\n",
    "    model.compile(kr.optimizers.Adam(lr=0.001), loss='mean_squared_error')\n",
    "    \n",
    "    return model"
   ]
  },
  {
   "cell_type": "code",
   "execution_count": 25,
   "metadata": {},
   "outputs": [],
   "source": [
    "model = create_model()"
   ]
  },
  {
   "cell_type": "code",
   "execution_count": 26,
   "metadata": {},
   "outputs": [],
   "source": [
    "\n",
    "\n",
    "msk = np.random.rand(len(pp)) < 0.5\n",
    "train = pp[msk]\n",
    "\n",
    "test = pp[~msk]"
   ]
  },
  {
   "cell_type": "code",
   "execution_count": 27,
   "metadata": {},
   "outputs": [
    {
     "name": "stdout",
     "output_type": "stream",
     "text": [
      "Epoch 1/500\n",
      "23/23 [==============================] - 2s 4ms/step - loss: 4450.8279\n",
      "Epoch 2/500\n",
      "23/23 [==============================] - 0s 4ms/step - loss: 3254.6209\n",
      "Epoch 3/500\n",
      "23/23 [==============================] - 0s 4ms/step - loss: 1954.8745\n",
      "Epoch 4/500\n",
      "23/23 [==============================] - 0s 4ms/step - loss: 571.6824\n",
      "Epoch 5/500\n",
      "23/23 [==============================] - 0s 4ms/step - loss: 307.7515\n",
      "Epoch 6/500\n",
      "23/23 [==============================] - 0s 4ms/step - loss: 264.1532\n",
      "Epoch 7/500\n",
      "23/23 [==============================] - ETA: 0s - loss: 234.890 - 0s 4ms/step - loss: 246.8849\n",
      "Epoch 8/500\n",
      "23/23 [==============================] - 0s 4ms/step - loss: 277.4155\n",
      "Epoch 9/500\n",
      "23/23 [==============================] - 0s 5ms/step - loss: 247.1076\n",
      "Epoch 10/500\n",
      "23/23 [==============================] - 0s 5ms/step - loss: 236.8093\n",
      "Epoch 11/500\n",
      "23/23 [==============================] - 0s 5ms/step - loss: 242.4242\n",
      "Epoch 12/500\n",
      "23/23 [==============================] - 0s 5ms/step - loss: 274.1912\n",
      "Epoch 13/500\n",
      "23/23 [==============================] - 0s 4ms/step - loss: 263.0181\n",
      "Epoch 14/500\n",
      "23/23 [==============================] - 0s 4ms/step - loss: 240.7832\n",
      "Epoch 15/500\n",
      "23/23 [==============================] - 0s 4ms/step - loss: 238.0447\n",
      "Epoch 16/500\n",
      "23/23 [==============================] - 0s 3ms/step - loss: 234.9607\n",
      "Epoch 17/500\n",
      "23/23 [==============================] - 0s 4ms/step - loss: 221.2332\n",
      "Epoch 18/500\n",
      "23/23 [==============================] - 0s 4ms/step - loss: 214.9619\n",
      "Epoch 19/500\n",
      "23/23 [==============================] - 0s 4ms/step - loss: 211.0064\n",
      "Epoch 20/500\n",
      "23/23 [==============================] - 0s 4ms/step - loss: 185.5288\n",
      "Epoch 21/500\n",
      "23/23 [==============================] - 0s 4ms/step - loss: 205.9649\n",
      "Epoch 22/500\n",
      "23/23 [==============================] - 0s 5ms/step - loss: 183.7789\n",
      "Epoch 23/500\n",
      "23/23 [==============================] - 0s 4ms/step - loss: 208.1005\n",
      "Epoch 24/500\n",
      "23/23 [==============================] - 0s 4ms/step - loss: 182.9097\n",
      "Epoch 25/500\n",
      "23/23 [==============================] - 0s 4ms/step - loss: 180.8262\n",
      "Epoch 26/500\n",
      "23/23 [==============================] - 0s 4ms/step - loss: 171.8432\n",
      "Epoch 27/500\n",
      "23/23 [==============================] - 0s 4ms/step - loss: 183.1263\n",
      "Epoch 28/500\n",
      "23/23 [==============================] - 0s 4ms/step - loss: 163.6307\n",
      "Epoch 29/500\n",
      "23/23 [==============================] - 0s 4ms/step - loss: 160.8857\n",
      "Epoch 30/500\n",
      "23/23 [==============================] - 0s 4ms/step - loss: 153.8587\n",
      "Epoch 31/500\n",
      "23/23 [==============================] - 0s 5ms/step - loss: 162.2225\n",
      "Epoch 32/500\n",
      "23/23 [==============================] - 0s 4ms/step - loss: 142.3665\n",
      "Epoch 33/500\n",
      "23/23 [==============================] - 0s 4ms/step - loss: 145.3321\n",
      "Epoch 34/500\n",
      "23/23 [==============================] - 0s 4ms/step - loss: 134.1918\n",
      "Epoch 35/500\n",
      "23/23 [==============================] - 0s 3ms/step - loss: 130.7056\n",
      "Epoch 36/500\n",
      "23/23 [==============================] - 0s 4ms/step - loss: 121.5686\n",
      "Epoch 37/500\n",
      "23/23 [==============================] - 0s 4ms/step - loss: 126.3696\n",
      "Epoch 38/500\n",
      "23/23 [==============================] - 0s 4ms/step - loss: 119.0220\n",
      "Epoch 39/500\n",
      "23/23 [==============================] - 0s 4ms/step - loss: 132.6233\n",
      "Epoch 40/500\n",
      "23/23 [==============================] - 0s 4ms/step - loss: 117.1199\n",
      "Epoch 41/500\n",
      "23/23 [==============================] - 0s 4ms/step - loss: 119.8321\n",
      "Epoch 42/500\n",
      "23/23 [==============================] - 0s 4ms/step - loss: 110.3312\n",
      "Epoch 43/500\n",
      "23/23 [==============================] - 0s 4ms/step - loss: 106.7452\n",
      "Epoch 44/500\n",
      "23/23 [==============================] - 0s 4ms/step - loss: 105.4097\n",
      "Epoch 45/500\n",
      "23/23 [==============================] - 0s 4ms/step - loss: 110.5840\n",
      "Epoch 46/500\n",
      "23/23 [==============================] - 0s 4ms/step - loss: 99.7942\n",
      "Epoch 47/500\n",
      "23/23 [==============================] - 0s 4ms/step - loss: 101.3230\n",
      "Epoch 48/500\n",
      "23/23 [==============================] - 0s 3ms/step - loss: 101.4756\n",
      "Epoch 49/500\n",
      "23/23 [==============================] - 0s 4ms/step - loss: 92.8522\n",
      "Epoch 50/500\n",
      "23/23 [==============================] - 0s 4ms/step - loss: 100.3789\n",
      "Epoch 51/500\n",
      "23/23 [==============================] - 0s 3ms/step - loss: 87.9247\n",
      "Epoch 52/500\n",
      "23/23 [==============================] - 0s 3ms/step - loss: 92.8446\n",
      "Epoch 53/500\n",
      "23/23 [==============================] - 0s 4ms/step - loss: 96.4953\n",
      "Epoch 54/500\n",
      "23/23 [==============================] - 0s 4ms/step - loss: 89.9175\n",
      "Epoch 55/500\n",
      "23/23 [==============================] - 0s 3ms/step - loss: 82.6028\n",
      "Epoch 56/500\n",
      "23/23 [==============================] - 0s 3ms/step - loss: 98.4197\n",
      "Epoch 57/500\n",
      "23/23 [==============================] - 0s 3ms/step - loss: 88.4214\n",
      "Epoch 58/500\n",
      "23/23 [==============================] - 0s 3ms/step - loss: 89.0048\n",
      "Epoch 59/500\n",
      "23/23 [==============================] - 0s 4ms/step - loss: 98.3367\n",
      "Epoch 60/500\n",
      "23/23 [==============================] - 0s 4ms/step - loss: 97.1943\n",
      "Epoch 61/500\n",
      "23/23 [==============================] - 0s 5ms/step - loss: 96.2268\n",
      "Epoch 62/500\n",
      "23/23 [==============================] - 0s 5ms/step - loss: 79.5315\n",
      "Epoch 63/500\n",
      "23/23 [==============================] - 0s 4ms/step - loss: 96.7229\n",
      "Epoch 64/500\n",
      "23/23 [==============================] - 0s 4ms/step - loss: 73.9481\n",
      "Epoch 65/500\n",
      "23/23 [==============================] - 0s 4ms/step - loss: 85.6088\n",
      "Epoch 66/500\n",
      "23/23 [==============================] - 0s 5ms/step - loss: 83.2246\n",
      "Epoch 67/500\n",
      "23/23 [==============================] - 0s 3ms/step - loss: 81.2701\n",
      "Epoch 68/500\n",
      "23/23 [==============================] - 0s 4ms/step - loss: 86.0332\n",
      "Epoch 69/500\n",
      "23/23 [==============================] - 0s 3ms/step - loss: 76.9514\n",
      "Epoch 70/500\n",
      "23/23 [==============================] - 0s 4ms/step - loss: 85.5924\n",
      "Epoch 71/500\n",
      "23/23 [==============================] - 0s 3ms/step - loss: 75.3577\n",
      "Epoch 72/500\n",
      "23/23 [==============================] - 0s 4ms/step - loss: 81.0080\n",
      "Epoch 73/500\n",
      "23/23 [==============================] - 0s 4ms/step - loss: 79.0428\n",
      "Epoch 74/500\n",
      "23/23 [==============================] - 0s 3ms/step - loss: 76.3478\n",
      "Epoch 75/500\n",
      "23/23 [==============================] - 0s 4ms/step - loss: 82.3898\n",
      "Epoch 76/500\n",
      "23/23 [==============================] - 0s 4ms/step - loss: 83.4694\n",
      "Epoch 77/500\n",
      "23/23 [==============================] - 0s 5ms/step - loss: 74.3130\n",
      "Epoch 78/500\n",
      "23/23 [==============================] - 0s 4ms/step - loss: 81.6427\n",
      "Epoch 79/500\n",
      "23/23 [==============================] - 0s 4ms/step - loss: 75.5559\n",
      "Epoch 80/500\n",
      "23/23 [==============================] - 0s 3ms/step - loss: 77.6922\n",
      "Epoch 81/500\n",
      "23/23 [==============================] - 0s 4ms/step - loss: 78.7315\n",
      "Epoch 82/500\n",
      "23/23 [==============================] - 0s 4ms/step - loss: 76.9139\n",
      "Epoch 83/500\n",
      "23/23 [==============================] - 0s 4ms/step - loss: 75.6758\n",
      "Epoch 84/500\n",
      "23/23 [==============================] - 0s 4ms/step - loss: 75.7689\n",
      "Epoch 85/500\n",
      "23/23 [==============================] - 0s 4ms/step - loss: 69.8467\n",
      "Epoch 86/500\n",
      "23/23 [==============================] - 0s 3ms/step - loss: 80.9668\n",
      "Epoch 87/500\n",
      "23/23 [==============================] - 0s 4ms/step - loss: 74.0754\n",
      "Epoch 88/500\n",
      "23/23 [==============================] - 0s 3ms/step - loss: 71.3629\n",
      "Epoch 89/500\n",
      "23/23 [==============================] - 0s 4ms/step - loss: 83.3232\n",
      "Epoch 90/500\n",
      "23/23 [==============================] - 0s 4ms/step - loss: 74.6819\n",
      "Epoch 91/500\n",
      "23/23 [==============================] - 0s 3ms/step - loss: 70.5964\n",
      "Epoch 92/500\n",
      "23/23 [==============================] - 0s 4ms/step - loss: 80.4873\n",
      "Epoch 93/500\n",
      "23/23 [==============================] - 0s 4ms/step - loss: 72.1570\n",
      "Epoch 94/500\n",
      "23/23 [==============================] - 0s 3ms/step - loss: 69.0676\n",
      "Epoch 95/500\n",
      "23/23 [==============================] - 0s 4ms/step - loss: 81.7142\n",
      "Epoch 96/500\n",
      "23/23 [==============================] - 0s 5ms/step - loss: 67.8585\n",
      "Epoch 97/500\n",
      "23/23 [==============================] - 0s 5ms/step - loss: 71.1917\n",
      "Epoch 98/500\n",
      "23/23 [==============================] - 0s 5ms/step - loss: 66.1081\n",
      "Epoch 99/500\n",
      "23/23 [==============================] - 0s 4ms/step - loss: 82.3467\n",
      "Epoch 100/500\n"
     ]
    },
    {
     "name": "stdout",
     "output_type": "stream",
     "text": [
      "23/23 [==============================] - 0s 4ms/step - loss: 75.5689\n",
      "Epoch 101/500\n",
      "23/23 [==============================] - 0s 6ms/step - loss: 75.5198\n",
      "Epoch 102/500\n",
      "23/23 [==============================] - 0s 5ms/step - loss: 64.9598\n",
      "Epoch 103/500\n",
      "23/23 [==============================] - 0s 5ms/step - loss: 64.8030\n",
      "Epoch 104/500\n",
      "23/23 [==============================] - 0s 6ms/step - loss: 71.4043\n",
      "Epoch 105/500\n",
      "23/23 [==============================] - 0s 5ms/step - loss: 63.3673\n",
      "Epoch 106/500\n",
      "23/23 [==============================] - 0s 5ms/step - loss: 71.6193\n",
      "Epoch 107/500\n",
      "23/23 [==============================] - 0s 4ms/step - loss: 73.2137\n",
      "Epoch 108/500\n",
      "23/23 [==============================] - 0s 4ms/step - loss: 68.0352\n",
      "Epoch 109/500\n",
      "23/23 [==============================] - 0s 4ms/step - loss: 80.8680\n",
      "Epoch 110/500\n",
      "23/23 [==============================] - 0s 4ms/step - loss: 57.5388\n",
      "Epoch 111/500\n",
      "23/23 [==============================] - 0s 3ms/step - loss: 68.3986\n",
      "Epoch 112/500\n",
      "23/23 [==============================] - 0s 4ms/step - loss: 64.6805\n",
      "Epoch 113/500\n",
      "23/23 [==============================] - 0s 3ms/step - loss: 73.9029\n",
      "Epoch 114/500\n",
      "23/23 [==============================] - 0s 3ms/step - loss: 62.3630\n",
      "Epoch 115/500\n",
      "23/23 [==============================] - 0s 3ms/step - loss: 71.8760\n",
      "Epoch 116/500\n",
      "23/23 [==============================] - 0s 3ms/step - loss: 57.9653\n",
      "Epoch 117/500\n",
      "23/23 [==============================] - 0s 3ms/step - loss: 78.6464\n",
      "Epoch 118/500\n",
      "23/23 [==============================] - 0s 3ms/step - loss: 64.5515\n",
      "Epoch 119/500\n",
      "23/23 [==============================] - 0s 3ms/step - loss: 76.7461\n",
      "Epoch 120/500\n",
      "23/23 [==============================] - 0s 4ms/step - loss: 61.9984\n",
      "Epoch 121/500\n",
      "23/23 [==============================] - 0s 3ms/step - loss: 63.9267\n",
      "Epoch 122/500\n",
      "23/23 [==============================] - 0s 3ms/step - loss: 73.4858\n",
      "Epoch 123/500\n",
      "23/23 [==============================] - 0s 3ms/step - loss: 70.6305\n",
      "Epoch 124/500\n",
      "23/23 [==============================] - 0s 3ms/step - loss: 66.2235\n",
      "Epoch 125/500\n",
      "23/23 [==============================] - 0s 3ms/step - loss: 60.8554\n",
      "Epoch 126/500\n",
      "23/23 [==============================] - 0s 3ms/step - loss: 66.6464\n",
      "Epoch 127/500\n",
      "23/23 [==============================] - 0s 3ms/step - loss: 59.8063\n",
      "Epoch 128/500\n",
      "23/23 [==============================] - 0s 4ms/step - loss: 60.8033\n",
      "Epoch 129/500\n",
      "23/23 [==============================] - 0s 4ms/step - loss: 59.0539\n",
      "Epoch 130/500\n",
      "23/23 [==============================] - 0s 4ms/step - loss: 66.2646\n",
      "Epoch 131/500\n",
      "23/23 [==============================] - 0s 4ms/step - loss: 66.1098\n",
      "Epoch 132/500\n",
      "23/23 [==============================] - 0s 4ms/step - loss: 60.3233\n",
      "Epoch 133/500\n",
      "23/23 [==============================] - 0s 4ms/step - loss: 53.4346\n",
      "Epoch 134/500\n",
      "23/23 [==============================] - 0s 3ms/step - loss: 64.0620\n",
      "Epoch 135/500\n",
      "23/23 [==============================] - 0s 4ms/step - loss: 54.8001\n",
      "Epoch 136/500\n",
      "23/23 [==============================] - 0s 4ms/step - loss: 65.2058\n",
      "Epoch 137/500\n",
      "23/23 [==============================] - 0s 4ms/step - loss: 50.4885\n",
      "Epoch 138/500\n",
      "23/23 [==============================] - 0s 4ms/step - loss: 50.2750\n",
      "Epoch 139/500\n",
      "23/23 [==============================] - 0s 4ms/step - loss: 65.8883\n",
      "Epoch 140/500\n",
      "23/23 [==============================] - 0s 4ms/step - loss: 66.6522\n",
      "Epoch 141/500\n",
      "23/23 [==============================] - 0s 3ms/step - loss: 57.2626\n",
      "Epoch 142/500\n",
      "23/23 [==============================] - 0s 3ms/step - loss: 55.1796\n",
      "Epoch 143/500\n",
      "23/23 [==============================] - 0s 3ms/step - loss: 64.5793\n",
      "Epoch 144/500\n",
      "23/23 [==============================] - 0s 3ms/step - loss: 60.9040\n",
      "Epoch 145/500\n",
      "23/23 [==============================] - 0s 3ms/step - loss: 57.2644\n",
      "Epoch 146/500\n",
      "23/23 [==============================] - 0s 3ms/step - loss: 51.0718\n",
      "Epoch 147/500\n",
      "23/23 [==============================] - 0s 3ms/step - loss: 55.0338\n",
      "Epoch 148/500\n",
      "23/23 [==============================] - 0s 3ms/step - loss: 54.0065\n",
      "Epoch 149/500\n",
      "23/23 [==============================] - 0s 3ms/step - loss: 58.6223\n",
      "Epoch 150/500\n",
      "23/23 [==============================] - 0s 3ms/step - loss: 59.7171\n",
      "Epoch 151/500\n",
      "23/23 [==============================] - 0s 3ms/step - loss: 53.3973\n",
      "Epoch 152/500\n",
      "23/23 [==============================] - 0s 3ms/step - loss: 58.2977\n",
      "Epoch 153/500\n",
      "23/23 [==============================] - 0s 3ms/step - loss: 60.0151\n",
      "Epoch 154/500\n",
      "23/23 [==============================] - 0s 3ms/step - loss: 58.1237\n",
      "Epoch 155/500\n",
      "23/23 [==============================] - 0s 3ms/step - loss: 55.3630\n",
      "Epoch 156/500\n",
      "23/23 [==============================] - 0s 4ms/step - loss: 52.5032\n",
      "Epoch 157/500\n",
      "23/23 [==============================] - 0s 4ms/step - loss: 51.4983\n",
      "Epoch 158/500\n",
      "23/23 [==============================] - 0s 3ms/step - loss: 55.6226\n",
      "Epoch 159/500\n",
      "23/23 [==============================] - 0s 3ms/step - loss: 58.1211\n",
      "Epoch 160/500\n",
      "23/23 [==============================] - 0s 3ms/step - loss: 50.0195\n",
      "Epoch 161/500\n",
      "23/23 [==============================] - 0s 4ms/step - loss: 48.1550\n",
      "Epoch 162/500\n",
      "23/23 [==============================] - 0s 3ms/step - loss: 53.8077\n",
      "Epoch 163/500\n",
      "23/23 [==============================] - 0s 3ms/step - loss: 53.1739\n",
      "Epoch 164/500\n",
      "23/23 [==============================] - 0s 3ms/step - loss: 53.7619\n",
      "Epoch 165/500\n",
      "23/23 [==============================] - 0s 3ms/step - loss: 53.3657\n",
      "Epoch 166/500\n",
      "23/23 [==============================] - 0s 3ms/step - loss: 53.0766\n",
      "Epoch 167/500\n",
      "23/23 [==============================] - 0s 4ms/step - loss: 52.7002\n",
      "Epoch 168/500\n",
      "23/23 [==============================] - 0s 3ms/step - loss: 55.8900\n",
      "Epoch 169/500\n",
      "23/23 [==============================] - 0s 3ms/step - loss: 48.7945\n",
      "Epoch 170/500\n",
      "23/23 [==============================] - 0s 3ms/step - loss: 52.2640\n",
      "Epoch 171/500\n",
      "23/23 [==============================] - 0s 3ms/step - loss: 51.8947\n",
      "Epoch 172/500\n",
      "23/23 [==============================] - 0s 3ms/step - loss: 51.9758\n",
      "Epoch 173/500\n",
      "23/23 [==============================] - 0s 3ms/step - loss: 46.0802\n",
      "Epoch 174/500\n",
      "23/23 [==============================] - 0s 3ms/step - loss: 49.3177\n",
      "Epoch 175/500\n",
      "23/23 [==============================] - 0s 4ms/step - loss: 51.3877\n",
      "Epoch 176/500\n",
      "23/23 [==============================] - 0s 3ms/step - loss: 56.9144\n",
      "Epoch 177/500\n",
      "23/23 [==============================] - 0s 4ms/step - loss: 48.5255\n",
      "Epoch 178/500\n",
      "23/23 [==============================] - 0s 3ms/step - loss: 52.4459\n",
      "Epoch 179/500\n",
      "23/23 [==============================] - 0s 3ms/step - loss: 48.7080\n",
      "Epoch 180/500\n",
      "23/23 [==============================] - 0s 3ms/step - loss: 41.3892\n",
      "Epoch 181/500\n",
      "23/23 [==============================] - 0s 4ms/step - loss: 48.1738\n",
      "Epoch 182/500\n",
      "23/23 [==============================] - 0s 3ms/step - loss: 47.0275\n",
      "Epoch 183/500\n",
      "23/23 [==============================] - 0s 3ms/step - loss: 42.0590\n",
      "Epoch 184/500\n",
      "23/23 [==============================] - 0s 3ms/step - loss: 42.5722\n",
      "Epoch 185/500\n",
      "23/23 [==============================] - 0s 4ms/step - loss: 52.5595\n",
      "Epoch 186/500\n",
      "23/23 [==============================] - 0s 3ms/step - loss: 47.1619\n",
      "Epoch 187/500\n",
      "23/23 [==============================] - 0s 4ms/step - loss: 47.6238\n",
      "Epoch 188/500\n",
      "23/23 [==============================] - 0s 3ms/step - loss: 48.2686\n",
      "Epoch 189/500\n",
      "23/23 [==============================] - 0s 3ms/step - loss: 45.9678\n",
      "Epoch 190/500\n",
      "23/23 [==============================] - 0s 3ms/step - loss: 46.8297\n",
      "Epoch 191/500\n",
      "23/23 [==============================] - 0s 4ms/step - loss: 47.1962\n",
      "Epoch 192/500\n",
      "23/23 [==============================] - 0s 3ms/step - loss: 49.2621\n",
      "Epoch 193/500\n",
      "23/23 [==============================] - 0s 3ms/step - loss: 48.7601\n",
      "Epoch 194/500\n",
      "23/23 [==============================] - 0s 3ms/step - loss: 37.8877\n",
      "Epoch 195/500\n",
      "23/23 [==============================] - 0s 3ms/step - loss: 43.2134\n",
      "Epoch 196/500\n",
      "23/23 [==============================] - 0s 3ms/step - loss: 35.3723\n",
      "Epoch 197/500\n",
      "23/23 [==============================] - 0s 3ms/step - loss: 46.3256\n",
      "Epoch 198/500\n"
     ]
    },
    {
     "name": "stdout",
     "output_type": "stream",
     "text": [
      "23/23 [==============================] - 0s 3ms/step - loss: 48.9655\n",
      "Epoch 199/500\n",
      "23/23 [==============================] - 0s 3ms/step - loss: 46.6458\n",
      "Epoch 200/500\n",
      "23/23 [==============================] - 0s 4ms/step - loss: 38.7074\n",
      "Epoch 201/500\n",
      "23/23 [==============================] - 0s 3ms/step - loss: 45.5315\n",
      "Epoch 202/500\n",
      "23/23 [==============================] - 0s 3ms/step - loss: 38.3097\n",
      "Epoch 203/500\n",
      "23/23 [==============================] - 0s 3ms/step - loss: 52.9437\n",
      "Epoch 204/500\n",
      "23/23 [==============================] - 0s 3ms/step - loss: 50.0407\n",
      "Epoch 205/500\n",
      "23/23 [==============================] - 0s 3ms/step - loss: 38.8276\n",
      "Epoch 206/500\n",
      "23/23 [==============================] - 0s 3ms/step - loss: 44.0233\n",
      "Epoch 207/500\n",
      "23/23 [==============================] - 0s 3ms/step - loss: 41.7392\n",
      "Epoch 208/500\n",
      "23/23 [==============================] - 0s 3ms/step - loss: 42.5923\n",
      "Epoch 209/500\n",
      "23/23 [==============================] - 0s 3ms/step - loss: 43.9563\n",
      "Epoch 210/500\n",
      "23/23 [==============================] - 0s 3ms/step - loss: 37.4949\n",
      "Epoch 211/500\n",
      "23/23 [==============================] - 0s 3ms/step - loss: 43.1142\n",
      "Epoch 212/500\n",
      "23/23 [==============================] - 0s 3ms/step - loss: 42.8824\n",
      "Epoch 213/500\n",
      "23/23 [==============================] - 0s 3ms/step - loss: 42.2917\n",
      "Epoch 214/500\n",
      "23/23 [==============================] - 0s 4ms/step - loss: 41.9031\n",
      "Epoch 215/500\n",
      "23/23 [==============================] - 0s 2ms/step - loss: 41.6990\n",
      "Epoch 216/500\n",
      "23/23 [==============================] - 0s 3ms/step - loss: 40.0053\n",
      "Epoch 217/500\n",
      "23/23 [==============================] - 0s 3ms/step - loss: 51.4775\n",
      "Epoch 218/500\n",
      "23/23 [==============================] - 0s 3ms/step - loss: 39.2739\n",
      "Epoch 219/500\n",
      "23/23 [==============================] - 0s 3ms/step - loss: 36.8353\n",
      "Epoch 220/500\n",
      "23/23 [==============================] - 0s 3ms/step - loss: 44.9509\n",
      "Epoch 221/500\n",
      "23/23 [==============================] - 0s 3ms/step - loss: 38.5030\n",
      "Epoch 222/500\n",
      "23/23 [==============================] - 0s 3ms/step - loss: 40.6975\n",
      "Epoch 223/500\n",
      "23/23 [==============================] - 0s 3ms/step - loss: 37.9122\n",
      "Epoch 224/500\n",
      "23/23 [==============================] - 0s 4ms/step - loss: 40.0528\n",
      "Epoch 225/500\n",
      "23/23 [==============================] - 0s 3ms/step - loss: 33.5480\n",
      "Epoch 226/500\n",
      "23/23 [==============================] - 0s 4ms/step - loss: 32.2516\n",
      "Epoch 227/500\n",
      "23/23 [==============================] - 0s 4ms/step - loss: 40.0362\n",
      "Epoch 228/500\n",
      "23/23 [==============================] - 0s 3ms/step - loss: 33.3475\n",
      "Epoch 229/500\n",
      "23/23 [==============================] - 0s 4ms/step - loss: 35.9841\n",
      "Epoch 230/500\n",
      "23/23 [==============================] - 0s 3ms/step - loss: 40.5503\n",
      "Epoch 231/500\n",
      "23/23 [==============================] - 0s 4ms/step - loss: 50.9379\n",
      "Epoch 232/500\n",
      "23/23 [==============================] - 0s 4ms/step - loss: 32.9203\n",
      "Epoch 233/500\n",
      "23/23 [==============================] - 0s 3ms/step - loss: 38.3889\n",
      "Epoch 234/500\n",
      "23/23 [==============================] - 0s 4ms/step - loss: 33.0630\n",
      "Epoch 235/500\n",
      "23/23 [==============================] - 0s 3ms/step - loss: 37.5804\n",
      "Epoch 236/500\n",
      "23/23 [==============================] - 0s 3ms/step - loss: 39.3440\n",
      "Epoch 237/500\n",
      "23/23 [==============================] - 0s 3ms/step - loss: 38.9329\n",
      "Epoch 238/500\n",
      "23/23 [==============================] - 0s 3ms/step - loss: 36.2124\n",
      "Epoch 239/500\n",
      "23/23 [==============================] - 0s 3ms/step - loss: 33.8052\n",
      "Epoch 240/500\n",
      "23/23 [==============================] - 0s 3ms/step - loss: 33.8787\n",
      "Epoch 241/500\n",
      "23/23 [==============================] - 0s 3ms/step - loss: 34.0019\n",
      "Epoch 242/500\n",
      "23/23 [==============================] - 0s 3ms/step - loss: 34.2224\n",
      "Epoch 243/500\n",
      "23/23 [==============================] - 0s 4ms/step - loss: 29.0030\n",
      "Epoch 244/500\n",
      "23/23 [==============================] - 0s 3ms/step - loss: 32.2606\n",
      "Epoch 245/500\n",
      "23/23 [==============================] - 0s 4ms/step - loss: 37.3787\n",
      "Epoch 246/500\n",
      "23/23 [==============================] - 0s 3ms/step - loss: 32.2022\n",
      "Epoch 247/500\n",
      "23/23 [==============================] - 0s 3ms/step - loss: 36.0532\n",
      "Epoch 248/500\n",
      "23/23 [==============================] - 0s 3ms/step - loss: 27.9685\n",
      "Epoch 249/500\n",
      "23/23 [==============================] - 0s 3ms/step - loss: 34.8482\n",
      "Epoch 250/500\n",
      "23/23 [==============================] - 0s 3ms/step - loss: 31.2345\n",
      "Epoch 251/500\n",
      "23/23 [==============================] - 0s 3ms/step - loss: 32.9717\n",
      "Epoch 252/500\n",
      "23/23 [==============================] - 0s 3ms/step - loss: 36.0780\n",
      "Epoch 253/500\n",
      "23/23 [==============================] - 0s 3ms/step - loss: 28.4658\n",
      "Epoch 254/500\n",
      "23/23 [==============================] - 0s 4ms/step - loss: 31.2020\n",
      "Epoch 255/500\n",
      "23/23 [==============================] - 0s 3ms/step - loss: 33.0854\n",
      "Epoch 256/500\n",
      "23/23 [==============================] - 0s 3ms/step - loss: 28.7404\n",
      "Epoch 257/500\n",
      "23/23 [==============================] - 0s 3ms/step - loss: 27.2817\n",
      "Epoch 258/500\n",
      "23/23 [==============================] - 0s 3ms/step - loss: 28.9794\n",
      "Epoch 259/500\n",
      "23/23 [==============================] - 0s 4ms/step - loss: 30.9792\n",
      "Epoch 260/500\n",
      "23/23 [==============================] - 0s 4ms/step - loss: 34.1551\n",
      "Epoch 261/500\n",
      "23/23 [==============================] - 0s 4ms/step - loss: 30.4033\n",
      "Epoch 262/500\n",
      "23/23 [==============================] - 0s 4ms/step - loss: 28.8008\n",
      "Epoch 263/500\n",
      "23/23 [==============================] - 0s 5ms/step - loss: 25.0807\n",
      "Epoch 264/500\n",
      "23/23 [==============================] - 0s 5ms/step - loss: 30.8848\n",
      "Epoch 265/500\n",
      "23/23 [==============================] - 0s 4ms/step - loss: 32.6456\n",
      "Epoch 266/500\n",
      "23/23 [==============================] - 0s 5ms/step - loss: 27.7167\n",
      "Epoch 267/500\n",
      "23/23 [==============================] - 0s 4ms/step - loss: 28.8294\n",
      "Epoch 268/500\n",
      "23/23 [==============================] - ETA: 0s - loss: 26.29 - 0s 4ms/step - loss: 27.2382\n",
      "Epoch 269/500\n",
      "23/23 [==============================] - 0s 4ms/step - loss: 29.0878\n",
      "Epoch 270/500\n",
      "23/23 [==============================] - 0s 3ms/step - loss: 24.6243\n",
      "Epoch 271/500\n",
      "23/23 [==============================] - 0s 3ms/step - loss: 31.3979\n",
      "Epoch 272/500\n",
      "23/23 [==============================] - 0s 3ms/step - loss: 24.5815\n",
      "Epoch 273/500\n",
      "23/23 [==============================] - 0s 4ms/step - loss: 24.9628\n",
      "Epoch 274/500\n",
      "23/23 [==============================] - 0s 3ms/step - loss: 27.8468\n",
      "Epoch 275/500\n",
      "23/23 [==============================] - 0s 4ms/step - loss: 26.7766\n",
      "Epoch 276/500\n",
      "23/23 [==============================] - 0s 3ms/step - loss: 30.2996\n",
      "Epoch 277/500\n",
      "23/23 [==============================] - 0s 3ms/step - loss: 28.7757\n",
      "Epoch 278/500\n",
      "23/23 [==============================] - 0s 4ms/step - loss: 25.2254\n",
      "Epoch 279/500\n",
      "23/23 [==============================] - 0s 3ms/step - loss: 23.1770\n",
      "Epoch 280/500\n",
      "23/23 [==============================] - 0s 3ms/step - loss: 32.9850\n",
      "Epoch 281/500\n",
      "23/23 [==============================] - 0s 3ms/step - loss: 26.8485\n",
      "Epoch 282/500\n",
      "23/23 [==============================] - 0s 4ms/step - loss: 24.9168\n",
      "Epoch 283/500\n",
      "23/23 [==============================] - 0s 3ms/step - loss: 24.8962\n",
      "Epoch 284/500\n",
      "23/23 [==============================] - 0s 4ms/step - loss: 29.2849\n",
      "Epoch 285/500\n",
      "23/23 [==============================] - 0s 3ms/step - loss: 26.0187\n",
      "Epoch 286/500\n",
      "23/23 [==============================] - 0s 4ms/step - loss: 22.1238\n",
      "Epoch 287/500\n",
      "23/23 [==============================] - 0s 3ms/step - loss: 25.7073\n",
      "Epoch 288/500\n",
      "23/23 [==============================] - 0s 4ms/step - loss: 31.7107\n",
      "Epoch 289/500\n",
      "23/23 [==============================] - 0s 3ms/step - loss: 24.6806\n",
      "Epoch 290/500\n",
      "23/23 [==============================] - 0s 3ms/step - loss: 23.5448\n",
      "Epoch 291/500\n",
      "23/23 [==============================] - 0s 3ms/step - loss: 25.3496\n",
      "Epoch 292/500\n",
      "23/23 [==============================] - 0s 3ms/step - loss: 25.1147\n",
      "Epoch 293/500\n",
      "23/23 [==============================] - 0s 3ms/step - loss: 25.8565\n",
      "Epoch 294/500\n",
      "23/23 [==============================] - 0s 2ms/step - loss: 20.1999\n",
      "Epoch 295/500\n",
      "23/23 [==============================] - 0s 3ms/step - loss: 28.3559\n",
      "Epoch 296/500\n"
     ]
    },
    {
     "name": "stdout",
     "output_type": "stream",
     "text": [
      "23/23 [==============================] - 0s 3ms/step - loss: 20.7092\n",
      "Epoch 297/500\n",
      "23/23 [==============================] - 0s 3ms/step - loss: 25.8008\n",
      "Epoch 298/500\n",
      "23/23 [==============================] - 0s 3ms/step - loss: 26.4807\n",
      "Epoch 299/500\n",
      "23/23 [==============================] - 0s 3ms/step - loss: 22.6283\n",
      "Epoch 300/500\n",
      "23/23 [==============================] - 0s 3ms/step - loss: 23.7373\n",
      "Epoch 301/500\n",
      "23/23 [==============================] - 0s 3ms/step - loss: 19.8806\n",
      "Epoch 302/500\n",
      "23/23 [==============================] - 0s 3ms/step - loss: 23.6696\n",
      "Epoch 303/500\n",
      "23/23 [==============================] - 0s 3ms/step - loss: 22.5800\n",
      "Epoch 304/500\n",
      "23/23 [==============================] - 0s 3ms/step - loss: 23.6579\n",
      "Epoch 305/500\n",
      "23/23 [==============================] - 0s 3ms/step - loss: 26.3116\n",
      "Epoch 306/500\n",
      "23/23 [==============================] - 0s 3ms/step - loss: 23.2541\n",
      "Epoch 307/500\n",
      "23/23 [==============================] - 0s 3ms/step - loss: 20.1449\n",
      "Epoch 308/500\n",
      "23/23 [==============================] - 0s 3ms/step - loss: 22.8858\n",
      "Epoch 309/500\n",
      "23/23 [==============================] - 0s 3ms/step - loss: 23.4696\n",
      "Epoch 310/500\n",
      "23/23 [==============================] - 0s 3ms/step - loss: 21.0867\n",
      "Epoch 311/500\n",
      "23/23 [==============================] - 0s 3ms/step - loss: 24.0167\n",
      "Epoch 312/500\n",
      "23/23 [==============================] - 0s 3ms/step - loss: 27.5544\n",
      "Epoch 313/500\n",
      "23/23 [==============================] - 0s 3ms/step - loss: 21.7694\n",
      "Epoch 314/500\n",
      "23/23 [==============================] - 0s 3ms/step - loss: 24.3441\n",
      "Epoch 315/500\n",
      "23/23 [==============================] - 0s 3ms/step - loss: 20.3729\n",
      "Epoch 316/500\n",
      "23/23 [==============================] - 0s 3ms/step - loss: 22.2657\n",
      "Epoch 317/500\n",
      "23/23 [==============================] - 0s 3ms/step - loss: 20.1739\n",
      "Epoch 318/500\n",
      "23/23 [==============================] - 0s 3ms/step - loss: 26.5102\n",
      "Epoch 319/500\n",
      "23/23 [==============================] - 0s 3ms/step - loss: 20.4299\n",
      "Epoch 320/500\n",
      "23/23 [==============================] - 0s 3ms/step - loss: 22.2191\n",
      "Epoch 321/500\n",
      "23/23 [==============================] - 0s 3ms/step - loss: 20.5999\n",
      "Epoch 322/500\n",
      "23/23 [==============================] - 0s 3ms/step - loss: 27.5171\n",
      "Epoch 323/500\n",
      "23/23 [==============================] - 0s 3ms/step - loss: 22.2281\n",
      "Epoch 324/500\n",
      "23/23 [==============================] - 0s 3ms/step - loss: 20.7543\n",
      "Epoch 325/500\n",
      "23/23 [==============================] - 0s 3ms/step - loss: 20.6102\n",
      "Epoch 326/500\n",
      "23/23 [==============================] - 0s 3ms/step - loss: 24.8310\n",
      "Epoch 327/500\n",
      "23/23 [==============================] - 0s 3ms/step - loss: 19.6373\n",
      "Epoch 328/500\n",
      "23/23 [==============================] - 0s 3ms/step - loss: 22.6313\n",
      "Epoch 329/500\n",
      "23/23 [==============================] - 0s 3ms/step - loss: 20.6112\n",
      "Epoch 330/500\n",
      "23/23 [==============================] - 0s 3ms/step - loss: 22.0572\n",
      "Epoch 331/500\n",
      "23/23 [==============================] - 0s 3ms/step - loss: 18.8705\n",
      "Epoch 332/500\n",
      "23/23 [==============================] - 0s 3ms/step - loss: 22.3220\n",
      "Epoch 333/500\n",
      "23/23 [==============================] - 0s 3ms/step - loss: 23.4748\n",
      "Epoch 334/500\n",
      "23/23 [==============================] - 0s 3ms/step - loss: 19.2525\n",
      "Epoch 335/500\n",
      "23/23 [==============================] - 0s 3ms/step - loss: 26.6810\n",
      "Epoch 336/500\n",
      "23/23 [==============================] - 0s 3ms/step - loss: 26.8049\n",
      "Epoch 337/500\n",
      "23/23 [==============================] - 0s 3ms/step - loss: 21.6923\n",
      "Epoch 338/500\n",
      "23/23 [==============================] - 0s 3ms/step - loss: 21.7433\n",
      "Epoch 339/500\n",
      "23/23 [==============================] - 0s 3ms/step - loss: 17.5360\n",
      "Epoch 340/500\n",
      "23/23 [==============================] - 0s 3ms/step - loss: 23.3406\n",
      "Epoch 341/500\n",
      "23/23 [==============================] - 0s 3ms/step - loss: 25.1998\n",
      "Epoch 342/500\n",
      "23/23 [==============================] - 0s 3ms/step - loss: 19.2165\n",
      "Epoch 343/500\n",
      "23/23 [==============================] - 0s 3ms/step - loss: 19.2839\n",
      "Epoch 344/500\n",
      "23/23 [==============================] - 0s 3ms/step - loss: 17.5579\n",
      "Epoch 345/500\n",
      "23/23 [==============================] - 0s 3ms/step - loss: 21.9016\n",
      "Epoch 346/500\n",
      "23/23 [==============================] - 0s 3ms/step - loss: 21.9392\n",
      "Epoch 347/500\n",
      "23/23 [==============================] - 0s 3ms/step - loss: 23.6964\n",
      "Epoch 348/500\n",
      "23/23 [==============================] - 0s 3ms/step - loss: 19.5205\n",
      "Epoch 349/500\n",
      "23/23 [==============================] - 0s 3ms/step - loss: 19.5720\n",
      "Epoch 350/500\n",
      "23/23 [==============================] - 0s 3ms/step - loss: 21.2792\n",
      "Epoch 351/500\n",
      "23/23 [==============================] - 0s 3ms/step - loss: 26.6251\n",
      "Epoch 352/500\n",
      "23/23 [==============================] - 0s 3ms/step - loss: 19.7073\n",
      "Epoch 353/500\n",
      "23/23 [==============================] - 0s 3ms/step - loss: 18.8935\n",
      "Epoch 354/500\n",
      "23/23 [==============================] - 0s 3ms/step - loss: 19.1216\n",
      "Epoch 355/500\n",
      "23/23 [==============================] - 0s 4ms/step - loss: 18.4610\n",
      "Epoch 356/500\n",
      "23/23 [==============================] - 0s 3ms/step - loss: 20.9171\n",
      "Epoch 357/500\n",
      "23/23 [==============================] - 0s 3ms/step - loss: 22.8790\n",
      "Epoch 358/500\n",
      "23/23 [==============================] - 0s 3ms/step - loss: 17.3864\n",
      "Epoch 359/500\n",
      "23/23 [==============================] - 0s 4ms/step - loss: 17.5703\n",
      "Epoch 360/500\n",
      "23/23 [==============================] - 0s 3ms/step - loss: 19.8267\n",
      "Epoch 361/500\n",
      "23/23 [==============================] - 0s 3ms/step - loss: 23.7384\n",
      "Epoch 362/500\n",
      "23/23 [==============================] - 0s 3ms/step - loss: 18.4951\n",
      "Epoch 363/500\n",
      "23/23 [==============================] - 0s 3ms/step - loss: 17.5640\n",
      "Epoch 364/500\n",
      "23/23 [==============================] - 0s 3ms/step - loss: 19.5579\n",
      "Epoch 365/500\n",
      "23/23 [==============================] - 0s 3ms/step - loss: 19.1701\n",
      "Epoch 366/500\n",
      "23/23 [==============================] - 0s 3ms/step - loss: 19.4028\n",
      "Epoch 367/500\n",
      "23/23 [==============================] - 0s 4ms/step - loss: 19.3526\n",
      "Epoch 368/500\n",
      "23/23 [==============================] - 0s 4ms/step - loss: 16.9975\n",
      "Epoch 369/500\n",
      "23/23 [==============================] - 0s 3ms/step - loss: 20.5301\n",
      "Epoch 370/500\n",
      "23/23 [==============================] - 0s 3ms/step - loss: 20.2684\n",
      "Epoch 371/500\n",
      "23/23 [==============================] - 0s 3ms/step - loss: 21.8010\n",
      "Epoch 372/500\n",
      "23/23 [==============================] - 0s 3ms/step - loss: 19.1156\n",
      "Epoch 373/500\n",
      "23/23 [==============================] - 0s 3ms/step - loss: 22.8680\n",
      "Epoch 374/500\n",
      "23/23 [==============================] - 0s 3ms/step - loss: 22.3130\n",
      "Epoch 375/500\n",
      "23/23 [==============================] - 0s 4ms/step - loss: 22.7684\n",
      "Epoch 376/500\n",
      "23/23 [==============================] - 0s 3ms/step - loss: 17.9156\n",
      "Epoch 377/500\n",
      "23/23 [==============================] - 0s 4ms/step - loss: 18.7334\n",
      "Epoch 378/500\n",
      "23/23 [==============================] - 0s 3ms/step - loss: 21.7807\n",
      "Epoch 379/500\n",
      "23/23 [==============================] - 0s 3ms/step - loss: 19.8239\n",
      "Epoch 380/500\n",
      "23/23 [==============================] - 0s 3ms/step - loss: 20.8906\n",
      "Epoch 381/500\n",
      "23/23 [==============================] - 0s 3ms/step - loss: 16.5870\n",
      "Epoch 382/500\n",
      "23/23 [==============================] - 0s 4ms/step - loss: 18.5443\n",
      "Epoch 383/500\n",
      "23/23 [==============================] - 0s 3ms/step - loss: 19.0234\n",
      "Epoch 384/500\n",
      "23/23 [==============================] - 0s 3ms/step - loss: 18.7127\n",
      "Epoch 385/500\n",
      "23/23 [==============================] - 0s 4ms/step - loss: 18.6001\n",
      "Epoch 386/500\n",
      "23/23 [==============================] - 0s 4ms/step - loss: 17.3998\n",
      "Epoch 387/500\n",
      "23/23 [==============================] - 0s 3ms/step - loss: 19.1587\n",
      "Epoch 388/500\n",
      "23/23 [==============================] - 0s 3ms/step - loss: 18.6082\n",
      "Epoch 389/500\n",
      "23/23 [==============================] - 0s 3ms/step - loss: 17.6127\n",
      "Epoch 390/500\n",
      "23/23 [==============================] - 0s 3ms/step - loss: 17.5558\n",
      "Epoch 391/500\n",
      "23/23 [==============================] - 0s 3ms/step - loss: 21.2374\n",
      "Epoch 392/500\n",
      "23/23 [==============================] - 0s 3ms/step - loss: 19.2028\n",
      "Epoch 393/500\n",
      "23/23 [==============================] - 0s 4ms/step - loss: 20.4667\n",
      "Epoch 394/500\n"
     ]
    },
    {
     "name": "stdout",
     "output_type": "stream",
     "text": [
      "23/23 [==============================] - 0s 4ms/step - loss: 19.4570\n",
      "Epoch 395/500\n",
      "23/23 [==============================] - 0s 3ms/step - loss: 18.3228\n",
      "Epoch 396/500\n",
      "23/23 [==============================] - 0s 3ms/step - loss: 19.6735\n",
      "Epoch 397/500\n",
      "23/23 [==============================] - 0s 3ms/step - loss: 19.6446\n",
      "Epoch 398/500\n",
      "23/23 [==============================] - 0s 3ms/step - loss: 21.5834\n",
      "Epoch 399/500\n",
      "23/23 [==============================] - 0s 3ms/step - loss: 18.2473\n",
      "Epoch 400/500\n",
      "23/23 [==============================] - 0s 3ms/step - loss: 18.4918\n",
      "Epoch 401/500\n",
      "23/23 [==============================] - 0s 3ms/step - loss: 17.4680\n",
      "Epoch 402/500\n",
      "23/23 [==============================] - 0s 3ms/step - loss: 20.2415\n",
      "Epoch 403/500\n",
      "23/23 [==============================] - 0s 3ms/step - loss: 18.3508\n",
      "Epoch 404/500\n",
      "23/23 [==============================] - 0s 3ms/step - loss: 18.5168\n",
      "Epoch 405/500\n",
      "23/23 [==============================] - 0s 3ms/step - loss: 17.2190\n",
      "Epoch 406/500\n",
      "23/23 [==============================] - 0s 3ms/step - loss: 18.3023\n",
      "Epoch 407/500\n",
      "23/23 [==============================] - 0s 3ms/step - loss: 18.9815\n",
      "Epoch 408/500\n",
      "23/23 [==============================] - 0s 3ms/step - loss: 18.5042\n",
      "Epoch 409/500\n",
      "23/23 [==============================] - 0s 3ms/step - loss: 18.8088\n",
      "Epoch 410/500\n",
      "23/23 [==============================] - 0s 3ms/step - loss: 20.9810\n",
      "Epoch 411/500\n",
      "23/23 [==============================] - 0s 4ms/step - loss: 22.1839\n",
      "Epoch 412/500\n",
      "23/23 [==============================] - 0s 4ms/step - loss: 20.3378\n",
      "Epoch 413/500\n",
      "23/23 [==============================] - 0s 3ms/step - loss: 17.2308\n",
      "Epoch 414/500\n",
      "23/23 [==============================] - 0s 3ms/step - loss: 19.5013\n",
      "Epoch 415/500\n",
      "23/23 [==============================] - 0s 3ms/step - loss: 17.2651\n",
      "Epoch 416/500\n",
      "23/23 [==============================] - 0s 3ms/step - loss: 15.2658\n",
      "Epoch 417/500\n",
      "23/23 [==============================] - 0s 3ms/step - loss: 18.3773\n",
      "Epoch 418/500\n",
      "23/23 [==============================] - 0s 3ms/step - loss: 22.8543\n",
      "Epoch 419/500\n",
      "23/23 [==============================] - 0s 3ms/step - loss: 21.7761\n",
      "Epoch 420/500\n",
      "23/23 [==============================] - 0s 4ms/step - loss: 16.9789\n",
      "Epoch 421/500\n",
      "23/23 [==============================] - 0s 3ms/step - loss: 17.8541\n",
      "Epoch 422/500\n",
      "23/23 [==============================] - 0s 3ms/step - loss: 19.1642\n",
      "Epoch 423/500\n",
      "23/23 [==============================] - 0s 4ms/step - loss: 21.1503\n",
      "Epoch 424/500\n",
      "23/23 [==============================] - 0s 4ms/step - loss: 16.7496\n",
      "Epoch 425/500\n",
      "23/23 [==============================] - 0s 3ms/step - loss: 21.4412\n",
      "Epoch 426/500\n",
      "23/23 [==============================] - 0s 4ms/step - loss: 18.6071\n",
      "Epoch 427/500\n",
      "23/23 [==============================] - 0s 3ms/step - loss: 18.8997\n",
      "Epoch 428/500\n",
      "23/23 [==============================] - 0s 3ms/step - loss: 18.4743\n",
      "Epoch 429/500\n",
      "23/23 [==============================] - 0s 3ms/step - loss: 17.8565\n",
      "Epoch 430/500\n",
      "23/23 [==============================] - 0s 3ms/step - loss: 17.3054\n",
      "Epoch 431/500\n",
      "23/23 [==============================] - 0s 3ms/step - loss: 23.0938\n",
      "Epoch 432/500\n",
      "23/23 [==============================] - 0s 3ms/step - loss: 20.3941\n",
      "Epoch 433/500\n",
      "23/23 [==============================] - 0s 3ms/step - loss: 16.8437\n",
      "Epoch 434/500\n",
      "23/23 [==============================] - 0s 3ms/step - loss: 19.3470\n",
      "Epoch 435/500\n",
      "23/23 [==============================] - 0s 4ms/step - loss: 16.1221\n",
      "Epoch 436/500\n",
      "23/23 [==============================] - 0s 3ms/step - loss: 19.2353\n",
      "Epoch 437/500\n",
      "23/23 [==============================] - 0s 4ms/step - loss: 18.9265\n",
      "Epoch 438/500\n",
      "23/23 [==============================] - 0s 3ms/step - loss: 17.0642\n",
      "Epoch 439/500\n",
      "23/23 [==============================] - 0s 4ms/step - loss: 20.9783\n",
      "Epoch 440/500\n",
      "23/23 [==============================] - 0s 3ms/step - loss: 20.4312\n",
      "Epoch 441/500\n",
      "23/23 [==============================] - 0s 3ms/step - loss: 17.3968\n",
      "Epoch 442/500\n",
      "23/23 [==============================] - 0s 3ms/step - loss: 17.5423\n",
      "Epoch 443/500\n",
      "23/23 [==============================] - 0s 3ms/step - loss: 20.7096\n",
      "Epoch 444/500\n",
      "23/23 [==============================] - 0s 3ms/step - loss: 21.8780\n",
      "Epoch 445/500\n",
      "23/23 [==============================] - 0s 3ms/step - loss: 17.7569\n",
      "Epoch 446/500\n",
      "23/23 [==============================] - 0s 3ms/step - loss: 20.4806\n",
      "Epoch 447/500\n",
      "23/23 [==============================] - 0s 3ms/step - loss: 16.6247\n",
      "Epoch 448/500\n",
      "23/23 [==============================] - 0s 3ms/step - loss: 19.3862\n",
      "Epoch 449/500\n",
      "23/23 [==============================] - 0s 3ms/step - loss: 18.9949\n",
      "Epoch 450/500\n",
      "23/23 [==============================] - 0s 3ms/step - loss: 20.4717\n",
      "Epoch 451/500\n",
      "23/23 [==============================] - 0s 4ms/step - loss: 15.4577\n",
      "Epoch 452/500\n",
      "23/23 [==============================] - 0s 3ms/step - loss: 18.2107\n",
      "Epoch 453/500\n",
      "23/23 [==============================] - 0s 3ms/step - loss: 16.2497\n",
      "Epoch 454/500\n",
      "23/23 [==============================] - 0s 3ms/step - loss: 18.9214\n",
      "Epoch 455/500\n",
      "23/23 [==============================] - 0s 3ms/step - loss: 18.6772\n",
      "Epoch 456/500\n",
      "23/23 [==============================] - 0s 3ms/step - loss: 22.8732\n",
      "Epoch 457/500\n",
      "23/23 [==============================] - 0s 3ms/step - loss: 17.5087\n",
      "Epoch 458/500\n",
      "23/23 [==============================] - 0s 4ms/step - loss: 18.8217\n",
      "Epoch 459/500\n",
      "23/23 [==============================] - 0s 3ms/step - loss: 18.5514\n",
      "Epoch 460/500\n",
      "23/23 [==============================] - 0s 3ms/step - loss: 17.0603\n",
      "Epoch 461/500\n",
      "23/23 [==============================] - 0s 3ms/step - loss: 18.1146\n",
      "Epoch 462/500\n",
      "23/23 [==============================] - 0s 3ms/step - loss: 18.3644\n",
      "Epoch 463/500\n",
      "23/23 [==============================] - 0s 3ms/step - loss: 22.2179\n",
      "Epoch 464/500\n",
      "23/23 [==============================] - 0s 3ms/step - loss: 18.8406\n",
      "Epoch 465/500\n",
      "23/23 [==============================] - 0s 3ms/step - loss: 18.9853\n",
      "Epoch 466/500\n",
      "23/23 [==============================] - 0s 3ms/step - loss: 14.3413\n",
      "Epoch 467/500\n",
      "23/23 [==============================] - 0s 3ms/step - loss: 18.1066\n",
      "Epoch 468/500\n",
      "23/23 [==============================] - 0s 3ms/step - loss: 18.2272\n",
      "Epoch 469/500\n",
      "23/23 [==============================] - 0s 3ms/step - loss: 18.7575\n",
      "Epoch 470/500\n",
      "23/23 [==============================] - 0s 3ms/step - loss: 17.8146\n",
      "Epoch 471/500\n",
      "23/23 [==============================] - 0s 3ms/step - loss: 18.4922\n",
      "Epoch 472/500\n",
      "23/23 [==============================] - 0s 3ms/step - loss: 18.1313\n",
      "Epoch 473/500\n",
      "23/23 [==============================] - 0s 3ms/step - loss: 20.3016\n",
      "Epoch 474/500\n",
      "23/23 [==============================] - 0s 4ms/step - loss: 19.8611\n",
      "Epoch 475/500\n",
      "23/23 [==============================] - 0s 3ms/step - loss: 18.9299\n",
      "Epoch 476/500\n",
      "23/23 [==============================] - 0s 3ms/step - loss: 19.7813\n",
      "Epoch 477/500\n",
      "23/23 [==============================] - 0s 3ms/step - loss: 18.4657\n",
      "Epoch 478/500\n",
      "23/23 [==============================] - 0s 3ms/step - loss: 17.1133\n",
      "Epoch 479/500\n",
      "23/23 [==============================] - 0s 3ms/step - loss: 19.3508\n",
      "Epoch 480/500\n",
      "23/23 [==============================] - 0s 3ms/step - loss: 19.1137\n",
      "Epoch 481/500\n",
      "23/23 [==============================] - 0s 3ms/step - loss: 18.6446\n",
      "Epoch 482/500\n",
      "23/23 [==============================] - ETA: 0s - loss: 14.62 - 0s 3ms/step - loss: 15.6323\n",
      "Epoch 483/500\n",
      "23/23 [==============================] - 0s 4ms/step - loss: 20.8006\n",
      "Epoch 484/500\n",
      "23/23 [==============================] - 0s 3ms/step - loss: 16.5983\n",
      "Epoch 485/500\n",
      "23/23 [==============================] - 0s 3ms/step - loss: 17.1154\n",
      "Epoch 486/500\n",
      "23/23 [==============================] - 0s 3ms/step - loss: 21.6695\n",
      "Epoch 487/500\n",
      "23/23 [==============================] - 0s 3ms/step - loss: 16.6890\n",
      "Epoch 488/500\n",
      "23/23 [==============================] - 0s 3ms/step - loss: 18.5467\n",
      "Epoch 489/500\n",
      "23/23 [==============================] - 0s 3ms/step - loss: 21.2018\n",
      "Epoch 490/500\n",
      "23/23 [==============================] - 0s 3ms/step - loss: 22.9623\n",
      "Epoch 491/500\n",
      "23/23 [==============================] - 0s 4ms/step - loss: 21.9697\n",
      "Epoch 492/500\n"
     ]
    },
    {
     "name": "stdout",
     "output_type": "stream",
     "text": [
      "23/23 [==============================] - 0s 3ms/step - loss: 22.1043\n",
      "Epoch 493/500\n",
      "23/23 [==============================] - 0s 3ms/step - loss: 19.8318\n",
      "Epoch 494/500\n",
      "23/23 [==============================] - 0s 4ms/step - loss: 17.9590\n",
      "Epoch 495/500\n",
      "23/23 [==============================] - 0s 3ms/step - loss: 20.0189\n",
      "Epoch 496/500\n",
      "23/23 [==============================] - 0s 3ms/step - loss: 17.4291\n",
      "Epoch 497/500\n",
      "23/23 [==============================] - 0s 3ms/step - loss: 19.5476\n",
      "Epoch 498/500\n",
      "23/23 [==============================] - 0s 3ms/step - loss: 16.6219\n",
      "Epoch 499/500\n",
      "23/23 [==============================] - 0s 3ms/step - loss: 23.6869\n",
      "Epoch 500/500\n",
      "23/23 [==============================] - 0s 3ms/step - loss: 20.7779\n"
     ]
    },
    {
     "data": {
      "text/plain": [
       "<tensorflow.python.keras.callbacks.History at 0x2071a55e1f0>"
      ]
     },
     "execution_count": 27,
     "metadata": {},
     "output_type": "execute_result"
    }
   ],
   "source": [
    "model.fit(train['speed'], train['power'], epochs=500, batch_size=10)"
   ]
  },
  {
   "cell_type": "code",
   "execution_count": 28,
   "metadata": {},
   "outputs": [
    {
     "data": {
      "text/plain": [
       "<matplotlib.legend.Legend at 0x2071a754820>"
      ]
     },
     "execution_count": 28,
     "metadata": {},
     "output_type": "execute_result"
    },
    {
     "data": {
      "image/png": "[encoded data removed]",
      "text/plain": [
       "<Figure size 792x432 with 1 Axes>"
      ]
     },
     "metadata": {},
     "output_type": "display_data"
    }
   ],
   "source": [
    "plt.scatter(test['speed'], test['power'], label='actual')\n",
    "plt.plot(test['speed'], model.predict(test['speed']), label='prediction')\n",
    "plt.legend()"
   ]
  },
  {
   "cell_type": "code",
   "execution_count": 29,
   "metadata": {},
   "outputs": [
    {
     "name": "stdout",
     "output_type": "stream",
     "text": [
      "Model: \"sequential\"\n",
      "_________________________________________________________________\n",
      "Layer (type)                 Output Shape              Param #   \n",
      "=================================================================\n",
      "dense (Dense)                (None, 100)               200       \n",
      "_________________________________________________________________\n",
      "dense_1 (Dense)              (None, 100)               10100     \n",
      "_________________________________________________________________\n",
      "dense_2 (Dense)              (None, 1)                 101       \n",
      "=================================================================\n",
      "Total params: 10,401\n",
      "Trainable params: 10,401\n",
      "Non-trainable params: 0\n",
      "_________________________________________________________________\n"
     ]
    }
   ],
   "source": [
    "model.summary()"
   ]
  },
  {
   "cell_type": "code",
   "execution_count": 30,
   "metadata": {},
   "outputs": [],
   "source": [
    "model.save('my_model.h5')"
   ]
  },
  {
   "cell_type": "code",
   "execution_count": 31,
   "metadata": {},
   "outputs": [
    {
     "data": {
      "text/plain": [
       "array([[65.90583]], dtype=float32)"
      ]
     },
     "execution_count": 31,
     "metadata": {},
     "output_type": "execute_result"
    }
   ],
   "source": [
    "model.predict([14])"
   ]
  },
  {
   "cell_type": "code",
   "execution_count": null,
   "metadata": {},
   "outputs": [],
   "source": []
  },
  {
   "cell_type": "code",
   "execution_count": 32,
   "metadata": {},
   "outputs": [
    {
     "name": "stderr",
     "output_type": "stream",
     "text": [
      "<ipython-input-32-5eafad447be6>:1: FutureWarning: Support for multi-dimensional indexing (e.g. `obj[:, None]`) is deprecated and will be removed in a future version.  Convert to a numpy array before indexing instead.\n",
      "  lin_x = pp.speed[:, np.newaxis]\n",
      "<ipython-input-32-5eafad447be6>:2: FutureWarning: Support for multi-dimensional indexing (e.g. `obj[:, None]`) is deprecated and will be removed in a future version.  Convert to a numpy array before indexing instead.\n",
      "  lin_y = pp.power[:, np.newaxis]\n"
     ]
    }
   ],
   "source": [
    "lin_x = pp.speed[:, np.newaxis]\n",
    "lin_y = pp.power[:, np.newaxis]"
   ]
  },
  {
   "cell_type": "code",
   "execution_count": 33,
   "metadata": {},
   "outputs": [],
   "source": [
    "polynomial_features= PolynomialFeatures(degree=5)\n",
    "x_poly = polynomial_features.fit_transform(lin_x)"
   ]
  },
  {
   "cell_type": "code",
   "execution_count": 34,
   "metadata": {},
   "outputs": [],
   "source": [
    "lin_model = LinearRegression()\n",
    "lin_model.fit(x_poly, lin_y)\n",
    "y_poly_pred = lin_model.predict(x_poly)"
   ]
  },
  {
   "cell_type": "code",
   "execution_count": 35,
   "metadata": {},
   "outputs": [
    {
     "name": "stdout",
     "output_type": "stream",
     "text": [
      "4.438058874744193\n",
      "0.9879782627661895\n"
     ]
    }
   ],
   "source": [
    "\n",
    "rmse = np.sqrt(mean_squared_error(lin_y,y_poly_pred))\n",
    "r2 = r2_score(lin_y,y_poly_pred)\n",
    "print(rmse)\n",
    "print(r2)"
   ]
  },
  {
   "cell_type": "code",
   "execution_count": 36,
   "metadata": {},
   "outputs": [
    {
     "data": {
      "image/png": "[encoded data removed]",
      "text/plain": [
       "<Figure size 792x432 with 1 Axes>"
      ]
     },
     "metadata": {},
     "output_type": "display_data"
    }
   ],
   "source": [
    "\n",
    "plt.scatter(lin_x, lin_y, s=10)\n",
    "# sort the values of x before line plot\n",
    "# sort_axis = operator.itemgetter(0)\n",
    "# sorted_zip = sorted(zip(x,y_poly_pred), key=sort_axis)\n",
    "# x, y_poly_pred = zip(*sorted_zip)\n",
    "plt.plot(lin_x, y_poly_pred, color='m')\n",
    "plt.show()"
   ]
  },
  {
   "cell_type": "code",
   "execution_count": null,
   "metadata": {},
   "outputs": [],
   "source": []
  },
  {
   "cell_type": "code",
   "execution_count": null,
   "metadata": {},
   "outputs": [],
   "source": []
  },
  {
   "cell_type": "code",
   "execution_count": null,
   "metadata": {},
   "outputs": [],
   "source": []
  },
  {
   "cell_type": "code",
   "execution_count": null,
   "metadata": {},
   "outputs": [],
   "source": []
  },
  {
   "cell_type": "code",
   "execution_count": 37,
   "metadata": {},
   "outputs": [
    {
     "name": "stdout",
     "output_type": "stream",
     "text": [
      "10.120437473614711\n",
      "0.8537647164420812\n"
     ]
    }
   ],
   "source": [
    "np.random.seed(0)\n",
    "x = 2 - 3 * np.random.normal(0, 1, 20)\n",
    "y = x - 2 * (x ** 2) + 0.5 * (x ** 3) + np.random.normal(-3, 3, 20)\n",
    "\n",
    "# transforming the data to include another axis\n",
    "x = x[:, np.newaxis]\n",
    "y = y[:, np.newaxis]\n",
    "\n",
    "polynomial_features= PolynomialFeatures(degree=2)\n",
    "x_poly = polynomial_features.fit_transform(x)\n",
    "\n",
    "model = LinearRegression()\n",
    "model.fit(x_poly, y)\n",
    "y_poly_pred = model.predict(x_poly)\n",
    "\n",
    "rmse = np.sqrt(mean_squared_error(y,y_poly_pred))\n",
    "r2 = r2_score(y,y_poly_pred)\n",
    "print(rmse)\n",
    "print(r2)"
   ]
  },
  {
   "cell_type": "code",
   "execution_count": null,
   "metadata": {},
   "outputs": [],
   "source": []
  },
  {
   "cell_type": "code",
   "execution_count": null,
   "metadata": {},
   "outputs": [],
   "source": []
  },
  {
   "cell_type": "code",
   "execution_count": null,
   "metadata": {},
   "outputs": [],
   "source": []
  },
  {
   "cell_type": "code",
   "execution_count": null,
   "metadata": {},
   "outputs": [],
   "source": []
  },
  {
   "cell_type": "code",
   "execution_count": null,
   "metadata": {},
   "outputs": [],
   "source": []
  },
  {
   "cell_type": "code",
   "execution_count": null,
   "metadata": {},
   "outputs": [],
   "source": []
  },
  {
   "cell_type": "code",
   "execution_count": null,
   "metadata": {},
   "outputs": [],
   "source": []
  },
  {
   "cell_type": "code",
   "execution_count": null,
   "metadata": {},
   "outputs": [],
   "source": []
  },
  {
   "cell_type": "code",
   "execution_count": null,
   "metadata": {},
   "outputs": [],
   "source": []
  },
  {
   "cell_type": "code",
   "execution_count": null,
   "metadata": {},
   "outputs": [],
   "source": []
  },
  {
   "cell_type": "code",
   "execution_count": null,
   "metadata": {},
   "outputs": [],
   "source": []
  },
  {
   "cell_type": "code",
   "execution_count": null,
   "metadata": {},
   "outputs": [],
   "source": []
  },
  {
   "cell_type": "code",
   "execution_count": null,
   "metadata": {},
   "outputs": [],
   "source": []
  },
  {
   "cell_type": "code",
   "execution_count": null,
   "metadata": {},
   "outputs": [],
   "source": []
  },
  {
   "cell_type": "code",
   "execution_count": null,
   "metadata": {},
   "outputs": [],
   "source": []
  },
  {
   "cell_type": "code",
   "execution_count": null,
   "metadata": {},
   "outputs": [],
   "source": []
  },
  {
   "cell_type": "code",
   "execution_count": null,
   "metadata": {},
   "outputs": [],
   "source": []
  },
  {
   "cell_type": "code",
   "execution_count": null,
   "metadata": {},
   "outputs": [],
   "source": []
  },
  {
   "cell_type": "code",
   "execution_count": null,
   "metadata": {},
   "outputs": [],
   "source": []
  },
  {
   "cell_type": "code",
   "execution_count": null,
   "metadata": {},
   "outputs": [],
   "source": []
  },
  {
   "cell_type": "code",
   "execution_count": null,
   "metadata": {},
   "outputs": [],
   "source": []
  },
  {
   "cell_type": "code",
   "execution_count": null,
   "metadata": {},
   "outputs": [],
   "source": []
  },
  {
   "cell_type": "code",
   "execution_count": null,
   "metadata": {},
   "outputs": [],
   "source": []
  },
  {
   "cell_type": "markdown",
   "metadata": {},
   "source": [
    "### References\n",
    "\n",
    "[1] w3schools.com; Numpy Introduction; https://www.w3schools.com/python/numpy_intro.asp <br>\n",
    "[2] w3schools.com; Pandas Tutorial https://www.w3schools.com/python/pandas_tutorial.asp <br>\n",
    "[3] w3schools.com; Matplotlib Pyplot; https://www.w3schools.com/python/matplotlib_pyplot.asp <br>\n",
    "[4] wikipedia.org; scikit_learn https://en.wikipedia.org/wiki/Scikit-learn <br>\n",
    "[5] tensorflow.org; https://www.tensorflow.org/ <br>\n",
    "[6] keras.io; https://keras.io/ <br>\n",
    "[7] youtube.com; Wind Turbine Power Curve description; https://www.youtube.com/watch?v=8tNOL4ZL9Do <br>\n",
    "[8] Brownlee, J.; Difference Between Classification and Regression in Machine Learning https://machinelearningmastery.com/classification-versus-regression-in-machine-learning/ <br>\n",
    "[9] *Ibid* <br>\n",
    "[10] Wikipedia.org; Regression analysis; https://en.wikipedia.org/wiki/Regression_analysis <br>\n",
    "[11] yale.edu; Linear Regression; http://www.stat.yale.edu/Courses/1997-98/101/linreg.htm <br>\n",
    "[12] wikipdeia.org; scikit-learn; https://en.wikipedia.org/wiki/Scikit-learn <br>\n",
    "[13] realpython.com; Split Your Dataset With scikit-learn's train_test_split(); https://realpython.com/train-test-split-python-data/ <br>\n",
    "[14] machinelearningmastery.com; Train-Test Split for Evaluating Machine Learning Algorithms; https://machinelearningmastery.com/train-test-split-for-evaluating-machine-learning-algorithms/ <br>\n",
    "[15] *Ibid* <br>\n",
    "[16] realpython.com; Linear Regression in Python; https://realpython.com/linear-regression-in-python/ <br>\n",
    "[17] Frost, J; How To Interpret R-squared in Regression Analysis; https://statisticsbyjim.com/regression/interpret-r-squared-regression/ <br>\n",
    "[18] *Ibid* <br>\n",
    "[19] Brownlee, J; How to Remove Outliers for Machine Learning; https://machinelearningmastery.com/how-to-use-statistics-to-identify-outliers-in-data/ <br>\n",
    "[20] *Ibid* <br>\n",
    "[21] Frost, J; 5 Ways to Find Outliers in Your Data; https://statisticsbyjim.com/basics/outliers/ <br>\n",
    "[16] Detecting And Treating Outliers In Python — Part 2; https://towardsdatascience.com/detecting-and-treating-outliers-in-python-part-2-3a3319ec2c33 <br>\n",
    "[17] Pei, S. and Li, P., 2019; Wind Turbine Power Curve Modeling with a Hybrid Machine Learning Technique; https://www.researchgate.net/publication/337325612_Wind_Turbine_Power_Curve_Modeling_with_a_Hybrid_Machine_Learning_Technique <br>\n",
    "[14] realpython.com; Linear Regression in Python; https://realpython.com/linear-regression-in-python/ <br>"
   ]
  },
  {
   "cell_type": "code",
   "execution_count": null,
   "metadata": {},
   "outputs": [],
   "source": []
  }
 ],
 "metadata": {
  "kernelspec": {
   "display_name": "Python 3",
   "language": "python",
   "name": "python3"
  },
  "language_info": {
   "codemirror_mode": {
    "name": "ipython",
    "version": 3
   },
   "file_extension": ".py",
   "mimetype": "text/x-python",
   "name": "python",
   "nbconvert_exporter": "python",
   "pygments_lexer": "ipython3",
   "version": "3.8.5"
  }
 },
 "nbformat": 4,
 "nbformat_minor": 4
}
